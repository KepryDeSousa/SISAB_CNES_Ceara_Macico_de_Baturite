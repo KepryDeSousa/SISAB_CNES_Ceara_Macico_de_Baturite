{
  "nbformat": 4,
  "nbformat_minor": 0,
  "metadata": {
    "colab": {
      "provenance": [],
      "mount_file_id": "1VA2kH7WsCW3ACgcJnf9JMABI2DdLQ8r2",
      "authorship_tag": "ABX9TyO/QVKhyMoE1ohdm0jiSXDT",
      "include_colab_link": true
    },
    "kernelspec": {
      "name": "python3",
      "display_name": "Python 3"
    },
    "language_info": {
      "name": "python"
    }
  },
  "cells": [
    {
      "cell_type": "markdown",
      "metadata": {
        "id": "view-in-github",
        "colab_type": "text"
      },
      "source": [
        "<a href=\"https://colab.research.google.com/github/KepryDeSousa/SISAB_CNES_Ceara_Macico_de_Baturite/blob/main/Desenvolvimento_de_Dados_(Analise_de_classificacao_por_Indicador).ipynb\" target=\"_parent\"><img src=\"https://colab.research.google.com/assets/colab-badge.svg\" alt=\"Open In Colab\"/></a>"
      ]
    },
    {
      "cell_type": "markdown",
      "source": [
        "# Construção de Dados (Analise de Classificações)\n",
        "\n",
        "\n",
        "\n"
      ],
      "metadata": {
        "id": "WLxnLsvUwPW1"
      }
    },
    {
      "cell_type": "markdown",
      "source": [
        "## Bibliotecas:\n",
        "  >1. Plotly # Desenvolvimento de graficos Interativos \n",
        "  >2. Numpy # Trabalho com Algebra Linear\n",
        "  >3. Pandas # Trabalho com DataFrames\n",
        "  >4. Seaborn # Visualização de dados atraves de graficos simples "
      ],
      "metadata": {
        "id": "UViTHGAqwTva"
      }
    },
    {
      "cell_type": "code",
      "execution_count": null,
      "metadata": {
        "colab": {
          "base_uri": "https://localhost:8080/"
        },
        "id": "v4qU6PMiwNyx",
        "outputId": "e34da430-87c9-47ab-ff76-f2d94eee6bf2"
      },
      "outputs": [
        {
          "output_type": "stream",
          "name": "stdout",
          "text": [
            "Looking in indexes: https://pypi.org/simple, https://us-python.pkg.dev/colab-wheels/public/simple/\n",
            "Requirement already satisfied: plotly in /usr/local/lib/python3.8/dist-packages (5.5.0)\n",
            "Collecting plotly\n",
            "  Downloading plotly-5.11.0-py2.py3-none-any.whl (15.3 MB)\n",
            "\u001b[K     |████████████████████████████████| 15.3 MB 7.2 MB/s \n",
            "\u001b[?25hRequirement already satisfied: tenacity>=6.2.0 in /usr/local/lib/python3.8/dist-packages (from plotly) (8.1.0)\n",
            "Installing collected packages: plotly\n",
            "  Attempting uninstall: plotly\n",
            "    Found existing installation: plotly 5.5.0\n",
            "    Uninstalling plotly-5.5.0:\n",
            "      Successfully uninstalled plotly-5.5.0\n",
            "Successfully installed plotly-5.11.0\n"
          ]
        }
      ],
      "source": [
        "!pip install plotly --upgrade"
      ]
    },
    {
      "cell_type": "code",
      "source": [
        "import pandas as pd\n",
        "import numpy as np\n",
        "import plotly.express as px\n",
        "import seaborn as sns"
      ],
      "metadata": {
        "id": "e3v29qT1xFU_"
      },
      "execution_count": null,
      "outputs": []
    },
    {
      "cell_type": "markdown",
      "source": [
        "### Adicionando os dados ao ambiente"
      ],
      "metadata": {
        "id": "D25lZ6BCxchl"
      }
    },
    {
      "cell_type": "code",
      "source": [
        "bd = pd.read_csv('/content/drive/MyDrive/Dados PIBIC/Indicadores.csv')"
      ],
      "metadata": {
        "id": "xG1OLkTFxTRR"
      },
      "execution_count": null,
      "outputs": []
    },
    {
      "cell_type": "code",
      "source": [
        "bd"
      ],
      "metadata": {
        "colab": {
          "base_uri": "https://localhost:8080/",
          "height": 702
        },
        "id": "qysz1yDpx5q4",
        "outputId": "63b33f3f-95ea-4622-de64-000c9831bbed"
      },
      "execution_count": null,
      "outputs": [
        {
          "output_type": "execute_result",
          "data": {
            "text/plain": [
              "    Unnamed: 0 Municipio  Indicador  Q1_2020  Q1_2020.Porcent Classificação  \\\n",
              "0            0   Acarape        1.0     24.0             0.39      Razoavel   \n",
              "1            1   Acarape        2.0     37.0             0.60         Otimo   \n",
              "2            2   Acarape        3.0     17.0             0.27      Razoavel   \n",
              "3            3   Acarape        4.0    681.0             0.19      Razoavel   \n",
              "4            4   Acarape        5.0     30.0             0.30          Ruim   \n",
              "..         ...       ...        ...      ...              ...           ...   \n",
              "86          86  Redenção        3.0     35.0             0.32      Razoavel   \n",
              "87          87  Redenção        4.0   1155.0             0.18      Razoavel   \n",
              "88          88  Redenção        5.0     39.0             0.24          Ruim   \n",
              "89          89  Redenção        6.0      2.0             0.00          Ruim   \n",
              "90          90  Redenção        7.0     82.0             0.06          Ruim   \n",
              "\n",
              "    Q2_2020  Q2_2020.Porcent Classificação.1  Q3_2020  ...  Q1_2022  \\\n",
              "0      22.0             0.37        Razoavel     25.0  ...     24.0   \n",
              "1      42.0             0.70           Otimo     35.0  ...     49.0   \n",
              "2      29.0             0.48             Bom     23.0  ...     37.0   \n",
              "3     603.0             0.16        Razoavel    569.0  ...    381.0   \n",
              "4      50.0             0.85             Bom     41.0  ...      5.0   \n",
              "..      ...              ...             ...      ...  ...      ...   \n",
              "86     42.0             0.34        Razoavel     69.0  ...    123.0   \n",
              "87   1111.0             0.17        Razoavel   1258.0  ...   1912.0   \n",
              "88     79.0             0.50        Razoavel     87.0  ...     68.0   \n",
              "89      5.0             0.00            Ruim    512.0  ...   3441.0   \n",
              "90    150.0             0.09            Ruim    505.0  ...   1172.0   \n",
              "\n",
              "   Q1_2022.Porcent  Classificação.6  Q2_2022  Q2_2022.Porcent Classificação.7  \\\n",
              "0             0.36              Bom     22.0             0.35             Bom   \n",
              "1             0.74            Otimo     45.0             0.71           Otimo   \n",
              "2             0.56              Bom     41.0             0.65           Otimo   \n",
              "3             0.10             Ruim    410.0             0.10            Ruim   \n",
              "4             0.09             Ruim     55.0             0.74             Bom   \n",
              "..             ...              ...      ...              ...             ...   \n",
              "86            0.93            Otimo    116.0             0.87           Otimo   \n",
              "87            0.23         Razoavel   2332.0             0.27        Razoavel   \n",
              "88            0.52         Razoavel    106.0             0.79             Bom   \n",
              "89            0.37              Bom   4339.0             0.45             Bom   \n",
              "90            0.25         Razoavel   1865.0             0.38             Bom   \n",
              "\n",
              "    Q3_2022  Q3_2022.Porcent Classificação.8  Total_2022  \n",
              "0       NaN              NaN             NaN         NaN  \n",
              "1       NaN              NaN             NaN         NaN  \n",
              "2       NaN              NaN             NaN         NaN  \n",
              "3       NaN              NaN             NaN         NaN  \n",
              "4       NaN              NaN             NaN         NaN  \n",
              "..      ...              ...             ...         ...  \n",
              "86      NaN              NaN             NaN         NaN  \n",
              "87      NaN              NaN             NaN         NaN  \n",
              "88      NaN              NaN             NaN         NaN  \n",
              "89      NaN              NaN             NaN         NaN  \n",
              "90      NaN              NaN             NaN         NaN  \n",
              "\n",
              "[91 rows x 33 columns]"
            ],
            "text/html": [
              "\n",
              "  <div id=\"df-97a5a686-f712-40e8-bd05-943da56785a7\">\n",
              "    <div class=\"colab-df-container\">\n",
              "      <div>\n",
              "<style scoped>\n",
              "    .dataframe tbody tr th:only-of-type {\n",
              "        vertical-align: middle;\n",
              "    }\n",
              "\n",
              "    .dataframe tbody tr th {\n",
              "        vertical-align: top;\n",
              "    }\n",
              "\n",
              "    .dataframe thead th {\n",
              "        text-align: right;\n",
              "    }\n",
              "</style>\n",
              "<table border=\"1\" class=\"dataframe\">\n",
              "  <thead>\n",
              "    <tr style=\"text-align: right;\">\n",
              "      <th></th>\n",
              "      <th>Unnamed: 0</th>\n",
              "      <th>Municipio</th>\n",
              "      <th>Indicador</th>\n",
              "      <th>Q1_2020</th>\n",
              "      <th>Q1_2020.Porcent</th>\n",
              "      <th>Classificação</th>\n",
              "      <th>Q2_2020</th>\n",
              "      <th>Q2_2020.Porcent</th>\n",
              "      <th>Classificação.1</th>\n",
              "      <th>Q3_2020</th>\n",
              "      <th>...</th>\n",
              "      <th>Q1_2022</th>\n",
              "      <th>Q1_2022.Porcent</th>\n",
              "      <th>Classificação.6</th>\n",
              "      <th>Q2_2022</th>\n",
              "      <th>Q2_2022.Porcent</th>\n",
              "      <th>Classificação.7</th>\n",
              "      <th>Q3_2022</th>\n",
              "      <th>Q3_2022.Porcent</th>\n",
              "      <th>Classificação.8</th>\n",
              "      <th>Total_2022</th>\n",
              "    </tr>\n",
              "  </thead>\n",
              "  <tbody>\n",
              "    <tr>\n",
              "      <th>0</th>\n",
              "      <td>0</td>\n",
              "      <td>Acarape</td>\n",
              "      <td>1.0</td>\n",
              "      <td>24.0</td>\n",
              "      <td>0.39</td>\n",
              "      <td>Razoavel</td>\n",
              "      <td>22.0</td>\n",
              "      <td>0.37</td>\n",
              "      <td>Razoavel</td>\n",
              "      <td>25.0</td>\n",
              "      <td>...</td>\n",
              "      <td>24.0</td>\n",
              "      <td>0.36</td>\n",
              "      <td>Bom</td>\n",
              "      <td>22.0</td>\n",
              "      <td>0.35</td>\n",
              "      <td>Bom</td>\n",
              "      <td>NaN</td>\n",
              "      <td>NaN</td>\n",
              "      <td>NaN</td>\n",
              "      <td>NaN</td>\n",
              "    </tr>\n",
              "    <tr>\n",
              "      <th>1</th>\n",
              "      <td>1</td>\n",
              "      <td>Acarape</td>\n",
              "      <td>2.0</td>\n",
              "      <td>37.0</td>\n",
              "      <td>0.60</td>\n",
              "      <td>Otimo</td>\n",
              "      <td>42.0</td>\n",
              "      <td>0.70</td>\n",
              "      <td>Otimo</td>\n",
              "      <td>35.0</td>\n",
              "      <td>...</td>\n",
              "      <td>49.0</td>\n",
              "      <td>0.74</td>\n",
              "      <td>Otimo</td>\n",
              "      <td>45.0</td>\n",
              "      <td>0.71</td>\n",
              "      <td>Otimo</td>\n",
              "      <td>NaN</td>\n",
              "      <td>NaN</td>\n",
              "      <td>NaN</td>\n",
              "      <td>NaN</td>\n",
              "    </tr>\n",
              "    <tr>\n",
              "      <th>2</th>\n",
              "      <td>2</td>\n",
              "      <td>Acarape</td>\n",
              "      <td>3.0</td>\n",
              "      <td>17.0</td>\n",
              "      <td>0.27</td>\n",
              "      <td>Razoavel</td>\n",
              "      <td>29.0</td>\n",
              "      <td>0.48</td>\n",
              "      <td>Bom</td>\n",
              "      <td>23.0</td>\n",
              "      <td>...</td>\n",
              "      <td>37.0</td>\n",
              "      <td>0.56</td>\n",
              "      <td>Bom</td>\n",
              "      <td>41.0</td>\n",
              "      <td>0.65</td>\n",
              "      <td>Otimo</td>\n",
              "      <td>NaN</td>\n",
              "      <td>NaN</td>\n",
              "      <td>NaN</td>\n",
              "      <td>NaN</td>\n",
              "    </tr>\n",
              "    <tr>\n",
              "      <th>3</th>\n",
              "      <td>3</td>\n",
              "      <td>Acarape</td>\n",
              "      <td>4.0</td>\n",
              "      <td>681.0</td>\n",
              "      <td>0.19</td>\n",
              "      <td>Razoavel</td>\n",
              "      <td>603.0</td>\n",
              "      <td>0.16</td>\n",
              "      <td>Razoavel</td>\n",
              "      <td>569.0</td>\n",
              "      <td>...</td>\n",
              "      <td>381.0</td>\n",
              "      <td>0.10</td>\n",
              "      <td>Ruim</td>\n",
              "      <td>410.0</td>\n",
              "      <td>0.10</td>\n",
              "      <td>Ruim</td>\n",
              "      <td>NaN</td>\n",
              "      <td>NaN</td>\n",
              "      <td>NaN</td>\n",
              "      <td>NaN</td>\n",
              "    </tr>\n",
              "    <tr>\n",
              "      <th>4</th>\n",
              "      <td>4</td>\n",
              "      <td>Acarape</td>\n",
              "      <td>5.0</td>\n",
              "      <td>30.0</td>\n",
              "      <td>0.30</td>\n",
              "      <td>Ruim</td>\n",
              "      <td>50.0</td>\n",
              "      <td>0.85</td>\n",
              "      <td>Bom</td>\n",
              "      <td>41.0</td>\n",
              "      <td>...</td>\n",
              "      <td>5.0</td>\n",
              "      <td>0.09</td>\n",
              "      <td>Ruim</td>\n",
              "      <td>55.0</td>\n",
              "      <td>0.74</td>\n",
              "      <td>Bom</td>\n",
              "      <td>NaN</td>\n",
              "      <td>NaN</td>\n",
              "      <td>NaN</td>\n",
              "      <td>NaN</td>\n",
              "    </tr>\n",
              "    <tr>\n",
              "      <th>...</th>\n",
              "      <td>...</td>\n",
              "      <td>...</td>\n",
              "      <td>...</td>\n",
              "      <td>...</td>\n",
              "      <td>...</td>\n",
              "      <td>...</td>\n",
              "      <td>...</td>\n",
              "      <td>...</td>\n",
              "      <td>...</td>\n",
              "      <td>...</td>\n",
              "      <td>...</td>\n",
              "      <td>...</td>\n",
              "      <td>...</td>\n",
              "      <td>...</td>\n",
              "      <td>...</td>\n",
              "      <td>...</td>\n",
              "      <td>...</td>\n",
              "      <td>...</td>\n",
              "      <td>...</td>\n",
              "      <td>...</td>\n",
              "      <td>...</td>\n",
              "    </tr>\n",
              "    <tr>\n",
              "      <th>86</th>\n",
              "      <td>86</td>\n",
              "      <td>Redenção</td>\n",
              "      <td>3.0</td>\n",
              "      <td>35.0</td>\n",
              "      <td>0.32</td>\n",
              "      <td>Razoavel</td>\n",
              "      <td>42.0</td>\n",
              "      <td>0.34</td>\n",
              "      <td>Razoavel</td>\n",
              "      <td>69.0</td>\n",
              "      <td>...</td>\n",
              "      <td>123.0</td>\n",
              "      <td>0.93</td>\n",
              "      <td>Otimo</td>\n",
              "      <td>116.0</td>\n",
              "      <td>0.87</td>\n",
              "      <td>Otimo</td>\n",
              "      <td>NaN</td>\n",
              "      <td>NaN</td>\n",
              "      <td>NaN</td>\n",
              "      <td>NaN</td>\n",
              "    </tr>\n",
              "    <tr>\n",
              "      <th>87</th>\n",
              "      <td>87</td>\n",
              "      <td>Redenção</td>\n",
              "      <td>4.0</td>\n",
              "      <td>1155.0</td>\n",
              "      <td>0.18</td>\n",
              "      <td>Razoavel</td>\n",
              "      <td>1111.0</td>\n",
              "      <td>0.17</td>\n",
              "      <td>Razoavel</td>\n",
              "      <td>1258.0</td>\n",
              "      <td>...</td>\n",
              "      <td>1912.0</td>\n",
              "      <td>0.23</td>\n",
              "      <td>Razoavel</td>\n",
              "      <td>2332.0</td>\n",
              "      <td>0.27</td>\n",
              "      <td>Razoavel</td>\n",
              "      <td>NaN</td>\n",
              "      <td>NaN</td>\n",
              "      <td>NaN</td>\n",
              "      <td>NaN</td>\n",
              "    </tr>\n",
              "    <tr>\n",
              "      <th>88</th>\n",
              "      <td>88</td>\n",
              "      <td>Redenção</td>\n",
              "      <td>5.0</td>\n",
              "      <td>39.0</td>\n",
              "      <td>0.24</td>\n",
              "      <td>Ruim</td>\n",
              "      <td>79.0</td>\n",
              "      <td>0.50</td>\n",
              "      <td>Razoavel</td>\n",
              "      <td>87.0</td>\n",
              "      <td>...</td>\n",
              "      <td>68.0</td>\n",
              "      <td>0.52</td>\n",
              "      <td>Razoavel</td>\n",
              "      <td>106.0</td>\n",
              "      <td>0.79</td>\n",
              "      <td>Bom</td>\n",
              "      <td>NaN</td>\n",
              "      <td>NaN</td>\n",
              "      <td>NaN</td>\n",
              "      <td>NaN</td>\n",
              "    </tr>\n",
              "    <tr>\n",
              "      <th>89</th>\n",
              "      <td>89</td>\n",
              "      <td>Redenção</td>\n",
              "      <td>6.0</td>\n",
              "      <td>2.0</td>\n",
              "      <td>0.00</td>\n",
              "      <td>Ruim</td>\n",
              "      <td>5.0</td>\n",
              "      <td>0.00</td>\n",
              "      <td>Ruim</td>\n",
              "      <td>512.0</td>\n",
              "      <td>...</td>\n",
              "      <td>3441.0</td>\n",
              "      <td>0.37</td>\n",
              "      <td>Bom</td>\n",
              "      <td>4339.0</td>\n",
              "      <td>0.45</td>\n",
              "      <td>Bom</td>\n",
              "      <td>NaN</td>\n",
              "      <td>NaN</td>\n",
              "      <td>NaN</td>\n",
              "      <td>NaN</td>\n",
              "    </tr>\n",
              "    <tr>\n",
              "      <th>90</th>\n",
              "      <td>90</td>\n",
              "      <td>Redenção</td>\n",
              "      <td>7.0</td>\n",
              "      <td>82.0</td>\n",
              "      <td>0.06</td>\n",
              "      <td>Ruim</td>\n",
              "      <td>150.0</td>\n",
              "      <td>0.09</td>\n",
              "      <td>Ruim</td>\n",
              "      <td>505.0</td>\n",
              "      <td>...</td>\n",
              "      <td>1172.0</td>\n",
              "      <td>0.25</td>\n",
              "      <td>Razoavel</td>\n",
              "      <td>1865.0</td>\n",
              "      <td>0.38</td>\n",
              "      <td>Bom</td>\n",
              "      <td>NaN</td>\n",
              "      <td>NaN</td>\n",
              "      <td>NaN</td>\n",
              "      <td>NaN</td>\n",
              "    </tr>\n",
              "  </tbody>\n",
              "</table>\n",
              "<p>91 rows × 33 columns</p>\n",
              "</div>\n",
              "      <button class=\"colab-df-convert\" onclick=\"convertToInteractive('df-97a5a686-f712-40e8-bd05-943da56785a7')\"\n",
              "              title=\"Convert this dataframe to an interactive table.\"\n",
              "              style=\"display:none;\">\n",
              "        \n",
              "  <svg xmlns=\"http://www.w3.org/2000/svg\" height=\"24px\"viewBox=\"0 0 24 24\"\n",
              "       width=\"24px\">\n",
              "    <path d=\"M0 0h24v24H0V0z\" fill=\"none\"/>\n",
              "    <path d=\"M18.56 5.44l.94 2.06.94-2.06 2.06-.94-2.06-.94-.94-2.06-.94 2.06-2.06.94zm-11 1L8.5 8.5l.94-2.06 2.06-.94-2.06-.94L8.5 2.5l-.94 2.06-2.06.94zm10 10l.94 2.06.94-2.06 2.06-.94-2.06-.94-.94-2.06-.94 2.06-2.06.94z\"/><path d=\"M17.41 7.96l-1.37-1.37c-.4-.4-.92-.59-1.43-.59-.52 0-1.04.2-1.43.59L10.3 9.45l-7.72 7.72c-.78.78-.78 2.05 0 2.83L4 21.41c.39.39.9.59 1.41.59.51 0 1.02-.2 1.41-.59l7.78-7.78 2.81-2.81c.8-.78.8-2.07 0-2.86zM5.41 20L4 18.59l7.72-7.72 1.47 1.35L5.41 20z\"/>\n",
              "  </svg>\n",
              "      </button>\n",
              "      \n",
              "  <style>\n",
              "    .colab-df-container {\n",
              "      display:flex;\n",
              "      flex-wrap:wrap;\n",
              "      gap: 12px;\n",
              "    }\n",
              "\n",
              "    .colab-df-convert {\n",
              "      background-color: #E8F0FE;\n",
              "      border: none;\n",
              "      border-radius: 50%;\n",
              "      cursor: pointer;\n",
              "      display: none;\n",
              "      fill: #1967D2;\n",
              "      height: 32px;\n",
              "      padding: 0 0 0 0;\n",
              "      width: 32px;\n",
              "    }\n",
              "\n",
              "    .colab-df-convert:hover {\n",
              "      background-color: #E2EBFA;\n",
              "      box-shadow: 0px 1px 2px rgba(60, 64, 67, 0.3), 0px 1px 3px 1px rgba(60, 64, 67, 0.15);\n",
              "      fill: #174EA6;\n",
              "    }\n",
              "\n",
              "    [theme=dark] .colab-df-convert {\n",
              "      background-color: #3B4455;\n",
              "      fill: #D2E3FC;\n",
              "    }\n",
              "\n",
              "    [theme=dark] .colab-df-convert:hover {\n",
              "      background-color: #434B5C;\n",
              "      box-shadow: 0px 1px 3px 1px rgba(0, 0, 0, 0.15);\n",
              "      filter: drop-shadow(0px 1px 2px rgba(0, 0, 0, 0.3));\n",
              "      fill: #FFFFFF;\n",
              "    }\n",
              "  </style>\n",
              "\n",
              "      <script>\n",
              "        const buttonEl =\n",
              "          document.querySelector('#df-97a5a686-f712-40e8-bd05-943da56785a7 button.colab-df-convert');\n",
              "        buttonEl.style.display =\n",
              "          google.colab.kernel.accessAllowed ? 'block' : 'none';\n",
              "\n",
              "        async function convertToInteractive(key) {\n",
              "          const element = document.querySelector('#df-97a5a686-f712-40e8-bd05-943da56785a7');\n",
              "          const dataTable =\n",
              "            await google.colab.kernel.invokeFunction('convertToInteractive',\n",
              "                                                     [key], {});\n",
              "          if (!dataTable) return;\n",
              "\n",
              "          const docLinkHtml = 'Like what you see? Visit the ' +\n",
              "            '<a target=\"_blank\" href=https://colab.research.google.com/notebooks/data_table.ipynb>data table notebook</a>'\n",
              "            + ' to learn more about interactive tables.';\n",
              "          element.innerHTML = '';\n",
              "          dataTable['output_type'] = 'display_data';\n",
              "          await google.colab.output.renderOutput(dataTable, element);\n",
              "          const docLink = document.createElement('div');\n",
              "          docLink.innerHTML = docLinkHtml;\n",
              "          element.appendChild(docLink);\n",
              "        }\n",
              "      </script>\n",
              "    </div>\n",
              "  </div>\n",
              "  "
            ]
          },
          "metadata": {},
          "execution_count": 97
        },
        {
          "output_type": "stream",
          "name": "stdout",
          "text": [
            "Warning: Total number of columns (33) exceeds max_columns (20) limiting to first (20) columns.\n"
          ]
        }
      ]
    },
    {
      "cell_type": "code",
      "source": [],
      "metadata": {
        "id": "0PglFJUFyAfJ"
      },
      "execution_count": null,
      "outputs": []
    },
    {
      "cell_type": "markdown",
      "source": [
        "AAA"
      ],
      "metadata": {
        "id": "GWY2LzZVVCED"
      }
    },
    {
      "cell_type": "markdown",
      "source": [
        "# Analise de Classificação dos Municipios do Maciço de Baturité"
      ],
      "metadata": {
        "id": "9l3yx9J4yGk7"
      }
    },
    {
      "cell_type": "markdown",
      "source": [
        "### Classificação de atendimentos em  2020"
      ],
      "metadata": {
        "id": "g_AkOWPMy457"
      }
    },
    {
      "cell_type": "code",
      "source": [
        "# as classificações 0, 1 e 2 são referentes a 2020\n",
        "grafico = px.bar(bd,\n",
        "                  hover_data= ['Indicador'],\n",
        "                  color = 'Municipio'\n",
        "                 ,y=['Classificação','Classificação.1','Classificação.2'],\n",
        "                 barmode ='group'\n",
        "                 )\n",
        "grafico.update_layout(title = 'Analise de Desempenho do Maciço de Baturité ( Classificasões )')\n",
        "grafico.update_xaxes(title = 'Classificações')\n",
        "grafico.update_yaxes(title ='2020' ) \n",
        "grafico.show()"
      ],
      "metadata": {
        "colab": {
          "base_uri": "https://localhost:8080/",
          "height": 542
        },
        "id": "QzgvCh5Xy-0m",
        "outputId": "7a6d6efe-ea93-47ec-a459-377369d8e121"
      },
      "execution_count": null,
      "outputs": [
        {
          "output_type": "display_data",
          "data": {
            "text/html": [
              "<html>\n",
              "<head><meta charset=\"utf-8\" /></head>\n",
              "<body>\n",
              "    <div>            <script src=\"https://cdnjs.cloudflare.com/ajax/libs/mathjax/2.7.5/MathJax.js?config=TeX-AMS-MML_SVG\"></script><script type=\"text/javascript\">if (window.MathJax && window.MathJax.Hub && window.MathJax.Hub.Config) {window.MathJax.Hub.Config({SVG: {font: \"STIX-Web\"}});}</script>                <script type=\"text/javascript\">window.PlotlyConfig = {MathJaxConfig: 'local'};</script>\n",
              "        <script src=\"https://cdn.plot.ly/plotly-2.16.1.min.js\"></script>                <div id=\"ddd63067-8895-4a40-a5ee-9f667bfd3439\" class=\"plotly-graph-div\" style=\"height:525px; width:100%;\"></div>            <script type=\"text/javascript\">                                    window.PLOTLYENV=window.PLOTLYENV || {};                                    if (document.getElementById(\"ddd63067-8895-4a40-a5ee-9f667bfd3439\")) {                    Plotly.newPlot(                        \"ddd63067-8895-4a40-a5ee-9f667bfd3439\",                        [{\"alignmentgroup\":\"True\",\"customdata\":[[1.0],[2.0],[3.0],[4.0],[5.0],[6.0],[7.0],[1.0],[2.0],[3.0],[4.0],[5.0],[6.0],[7.0],[1.0],[2.0],[3.0],[4.0],[5.0],[6.0],[7.0]],\"hovertemplate\":\"Municipio=Acarape<br>value=%{x}<br>count=%{y}<br>Indicador=%{customdata[0]}<extra></extra>\",\"legendgroup\":\"Acarape\",\"marker\":{\"color\":\"#636efa\",\"pattern\":{\"shape\":\"\"}},\"name\":\"Acarape\",\"offsetgroup\":\"Acarape\",\"orientation\":\"v\",\"showlegend\":true,\"textposition\":\"auto\",\"x\":[\"Razoavel\",\"Otimo\",\"Razoavel\",\"Razoavel\",\"Ruim\",\"Ruim\",\"Ruim\",\"Razoavel\",\"Otimo\",\"Bom\",\"Razoavel\",\"Bom\",\"Ruim\",\"Ruim\",\"Razoavel\",\"Bom\",\"Razoavel\",\"Ruim\",\"Bom\",\"Ruim\",\"Razoavel\"],\"xaxis\":\"x\",\"y\":[1,1,1,1,1,1,1,1,1,1,1,1,1,1,1,1,1,1,1,1,1],\"yaxis\":\"y\",\"type\":\"bar\"},{\"alignmentgroup\":\"True\",\"customdata\":[[1.0],[2.0],[3.0],[4.0],[5.0],[6.0],[7.0],[1.0],[2.0],[3.0],[4.0],[5.0],[6.0],[7.0],[1.0],[2.0],[3.0],[4.0],[5.0],[6.0],[7.0]],\"hovertemplate\":\"Municipio=Aracoiaba<br>value=%{x}<br>count=%{y}<br>Indicador=%{customdata[0]}<extra></extra>\",\"legendgroup\":\"Aracoiaba\",\"marker\":{\"color\":\"#EF553B\",\"pattern\":{\"shape\":\"\"}},\"name\":\"Aracoiaba\",\"offsetgroup\":\"Aracoiaba\",\"orientation\":\"v\",\"showlegend\":true,\"textposition\":\"auto\",\"x\":[\"Razoavel\",\"Bom\",\"Razoavel\",\"Ruim\",\"Ruim\",\"Ruim\",\"Ruim\",\"Razoavel\",\"Razoavel\",\"Razoavel\",\"Ruim\",\"Razoavel\",\"Ruim\",\"Ruim\",\"Bom\",\"Bom\",\"Bom\",\"Ruim\",\"Razoavel\",\"Ruim\",\"Bom\"],\"xaxis\":\"x\",\"y\":[1,1,1,1,1,1,1,1,1,1,1,1,1,1,1,1,1,1,1,1,1],\"yaxis\":\"y\",\"type\":\"bar\"},{\"alignmentgroup\":\"True\",\"customdata\":[[1.0],[2.0],[3.0],[4.0],[5.0],[6.0],[7.0],[1.0],[2.0],[3.0],[4.0],[5.0],[6.0],[7.0],[1.0],[2.0],[3.0],[4.0],[5.0],[6.0],[7.0]],\"hovertemplate\":\"Municipio=Aratuba<br>value=%{x}<br>count=%{y}<br>Indicador=%{customdata[0]}<extra></extra>\",\"legendgroup\":\"Aratuba\",\"marker\":{\"color\":\"#00cc96\",\"pattern\":{\"shape\":\"\"}},\"name\":\"Aratuba\",\"offsetgroup\":\"Aratuba\",\"orientation\":\"v\",\"showlegend\":true,\"textposition\":\"auto\",\"x\":[\"Ruim\",\"Ruim\",\"Razoavel\",\"Ruim\",\"Bom\",\"Ruim\",\"Ruim\",\"Ruim\",\"Ruim\",\"Ruim\",\"Ruim\",\"Ruim\",\"Ruim\",\"Ruim\",\"Ruim\",\"Ruim\",\"Ruim\",\"Ruim\",\"Ruim\",\"Ruim\",\"Ruim\"],\"xaxis\":\"x\",\"y\":[1,1,1,1,1,1,1,1,1,1,1,1,1,1,1,1,1,1,1,1,1],\"yaxis\":\"y\",\"type\":\"bar\"},{\"alignmentgroup\":\"True\",\"customdata\":[[1.0],[2.0],[3.0],[4.0],[5.0],[6.0],[7.0],[1.0],[2.0],[3.0],[4.0],[5.0],[6.0],[7.0],[1.0],[2.0],[3.0],[4.0],[5.0],[6.0],[7.0]],\"hovertemplate\":\"Municipio=Barreira<br>value=%{x}<br>count=%{y}<br>Indicador=%{customdata[0]}<extra></extra>\",\"legendgroup\":\"Barreira\",\"marker\":{\"color\":\"#ab63fa\",\"pattern\":{\"shape\":\"\"}},\"name\":\"Barreira\",\"offsetgroup\":\"Barreira\",\"orientation\":\"v\",\"showlegend\":true,\"textposition\":\"auto\",\"x\":[\"Razoavel\",\"Bom\",\"Razoavel\",\"Razoavel\",\"Ruim\",\"Ruim\",\"Ruim\",\"Razoavel\",\"Bom\",\"Razoavel\",\"Razoavel\",\"Ruim\",\"Ruim\",\"Razoavel\",\"Razoavel\",\"Bom\",\"Razoavel\",\"Razoavel\",\"Ruim\",\"Ruim\",\"Bom\"],\"xaxis\":\"x\",\"y\":[1,1,1,1,1,1,1,1,1,1,1,1,1,1,1,1,1,1,1,1,1],\"yaxis\":\"y\",\"type\":\"bar\"},{\"alignmentgroup\":\"True\",\"customdata\":[[1.0],[2.0],[3.0],[4.0],[5.0],[6.0],[7.0],[1.0],[2.0],[3.0],[4.0],[5.0],[6.0],[7.0],[1.0],[2.0],[3.0],[4.0],[5.0],[6.0],[7.0]],\"hovertemplate\":\"Municipio=Baturite<br>value=%{x}<br>count=%{y}<br>Indicador=%{customdata[0]}<extra></extra>\",\"legendgroup\":\"Baturite\",\"marker\":{\"color\":\"#FFA15A\",\"pattern\":{\"shape\":\"\"}},\"name\":\"Baturite\",\"offsetgroup\":\"Baturite\",\"orientation\":\"v\",\"showlegend\":true,\"textposition\":\"auto\",\"x\":[\"Ruim\",\"Razoavel\",\"Ruim\",\"Razoavel\",\"Ruim\",\"Ruim\",\"Ruim\",\"Ruim\",\"Bom\",\"Ruim\",\"Ruim\",\"Ruim\",\"Ruim\",\"Ruim\",\"Ruim\",\"Razoavel\",\"Ruim\",\"Ruim\",\"Ruim\",\"Ruim\",\"Ruim\"],\"xaxis\":\"x\",\"y\":[1,1,1,1,1,1,1,1,1,1,1,1,1,1,1,1,1,1,1,1,1],\"yaxis\":\"y\",\"type\":\"bar\"},{\"alignmentgroup\":\"True\",\"customdata\":[[1.0],[2.0],[3.0],[4.0],[5.0],[6.0],[7.0],[1.0],[2.0],[3.0],[4.0],[5.0],[6.0],[7.0],[1.0],[2.0],[3.0],[4.0],[5.0],[6.0],[7.0]],\"hovertemplate\":\"Municipio=Capistrano<br>value=%{x}<br>count=%{y}<br>Indicador=%{customdata[0]}<extra></extra>\",\"legendgroup\":\"Capistrano\",\"marker\":{\"color\":\"#19d3f3\",\"pattern\":{\"shape\":\"\"}},\"name\":\"Capistrano\",\"offsetgroup\":\"Capistrano\",\"orientation\":\"v\",\"showlegend\":true,\"textposition\":\"auto\",\"x\":[\"Bom\",\"Bom\",\"Razoavel\",\"Razoavel\",\"Ruim\",\"Ruim\",\"Ruim\",\"Razoavel\",\"Otimo\",\"Bom\",\"Razoavel\",\"Razoavel\",\"Ruim\",\"Ruim\",\"Bom\",\"Otimo\",\"Otimo\",\"Razoavel\",\"Razoavel\",\"Ruim\",\"Razoavel\"],\"xaxis\":\"x\",\"y\":[1,1,1,1,1,1,1,1,1,1,1,1,1,1,1,1,1,1,1,1,1],\"yaxis\":\"y\",\"type\":\"bar\"},{\"alignmentgroup\":\"True\",\"customdata\":[[1.0],[2.0],[3.0],[4.0],[5.0],[6.0],[7.0],[1.0],[2.0],[3.0],[4.0],[5.0],[6.0],[7.0],[1.0],[2.0],[3.0],[4.0],[5.0],[6.0],[7.0]],\"hovertemplate\":\"Municipio=Guaramiranga<br>value=%{x}<br>count=%{y}<br>Indicador=%{customdata[0]}<extra></extra>\",\"legendgroup\":\"Guaramiranga\",\"marker\":{\"color\":\"#FF6692\",\"pattern\":{\"shape\":\"\"}},\"name\":\"Guaramiranga\",\"offsetgroup\":\"Guaramiranga\",\"orientation\":\"v\",\"showlegend\":true,\"textposition\":\"auto\",\"x\":[\"Razoavel\",\"Bom\",\"Bom\",\"Bom\",\"Razoavel\",\"Ruim\",\"Ruim\",\"Razoavel\",\"Bom\",\"Ruim\",\"Razoavel\",\"Razoavel\",\"Ruim\",\"Ruim\",\"Bom\",\"Razoavel\",\"Ruim\",\"Razoavel\",\"Bom\",\"Ruim\",\"Ruim\"],\"xaxis\":\"x\",\"y\":[1,1,1,1,1,1,1,1,1,1,1,1,1,1,1,1,1,1,1,1,1],\"yaxis\":\"y\",\"type\":\"bar\"},{\"alignmentgroup\":\"True\",\"customdata\":[[1.0],[2.0],[3.0],[4.0],[5.0],[6.0],[7.0],[1.0],[2.0],[3.0],[4.0],[5.0],[6.0],[7.0],[1.0],[2.0],[3.0],[4.0],[5.0],[6.0],[7.0]],\"hovertemplate\":\"Municipio=Itapiuna<br>value=%{x}<br>count=%{y}<br>Indicador=%{customdata[0]}<extra></extra>\",\"legendgroup\":\"Itapiuna\",\"marker\":{\"color\":\"#B6E880\",\"pattern\":{\"shape\":\"\"}},\"name\":\"Itapiuna\",\"offsetgroup\":\"Itapiuna\",\"orientation\":\"v\",\"showlegend\":true,\"textposition\":\"auto\",\"x\":[\"Ruim\",\"Ruim\",\"Ruim\",\"Ruim\",\"Ruim\",\"Ruim\",\"Ruim\",\"Ruim\",\"Ruim\",\"Ruim\",\"Ruim\",\"Otimo\",\"Ruim\",\"Ruim\",\"Ruim\",\"Ruim\",\"Ruim\",\"Ruim\",\"Razoavel\",\"Ruim\",\"Ruim\"],\"xaxis\":\"x\",\"y\":[1,1,1,1,1,1,1,1,1,1,1,1,1,1,1,1,1,1,1,1,1],\"yaxis\":\"y\",\"type\":\"bar\"},{\"alignmentgroup\":\"True\",\"customdata\":[[1.0],[2.0],[3.0],[4.0],[5.0],[6.0],[7.0],[1.0],[2.0],[3.0],[4.0],[5.0],[6.0],[7.0],[1.0],[2.0],[3.0],[4.0],[5.0],[6.0],[7.0]],\"hovertemplate\":\"Municipio=Mulungu<br>value=%{x}<br>count=%{y}<br>Indicador=%{customdata[0]}<extra></extra>\",\"legendgroup\":\"Mulungu\",\"marker\":{\"color\":\"#FF97FF\",\"pattern\":{\"shape\":\"\"}},\"name\":\"Mulungu\",\"offsetgroup\":\"Mulungu\",\"orientation\":\"v\",\"showlegend\":true,\"textposition\":\"auto\",\"x\":[\"Ruim\",\"Ruim\",\"Razoavel\",\"Razoavel\",\"Ruim\",\"Ruim\",\"Ruim\",\"Ruim\",\"Ruim\",\"Razoavel\",\"Razoavel\",\"Bom\",\"Ruim\",\"Ruim\",\"Ruim\",\"Ruim\",\"Ruim\",\"Ruim\",\"Bom\",\"Ruim\",\"Ruim\"],\"xaxis\":\"x\",\"y\":[1,1,1,1,1,1,1,1,1,1,1,1,1,1,1,1,1,1,1,1,1],\"yaxis\":\"y\",\"type\":\"bar\"},{\"alignmentgroup\":\"True\",\"customdata\":[[1.0],[2.0],[3.0],[4.0],[5.0],[6.0],[7.0],[1.0],[2.0],[3.0],[4.0],[5.0],[6.0],[7.0],[1.0],[2.0],[3.0],[4.0],[5.0],[6.0],[7.0]],\"hovertemplate\":\"Municipio=Ocora<br>value=%{x}<br>count=%{y}<br>Indicador=%{customdata[0]}<extra></extra>\",\"legendgroup\":\"Ocora\",\"marker\":{\"color\":\"#FECB52\",\"pattern\":{\"shape\":\"\"}},\"name\":\"Ocora\",\"offsetgroup\":\"Ocora\",\"orientation\":\"v\",\"showlegend\":true,\"textposition\":\"auto\",\"x\":[\"Bom\",\"Bom\",\"Otimo\",\"Otimo\",\"Ruim\",\"Ruim\",\"Ruim\",\"Bom\",\"Otimo\",\"Otimo\",\"Otimo\",\"Razoavel\",\"Ruim\",\"Ruim\",\"Razoavel\",\"Bom\",\"Otimo\",\"Otimo\",\"Ruim\",\"Ruim\",\"Ruim\"],\"xaxis\":\"x\",\"y\":[1,1,1,1,1,1,1,1,1,1,1,1,1,1,1,1,1,1,1,1,1],\"yaxis\":\"y\",\"type\":\"bar\"},{\"alignmentgroup\":\"True\",\"customdata\":[[1.0],[2.0],[3.0],[4.0],[5.0],[6.0],[7.0],[1.0],[2.0],[3.0],[4.0],[5.0],[6.0],[7.0],[1.0],[2.0],[3.0],[4.0],[5.0],[6.0],[7.0]],\"hovertemplate\":\"Municipio=Pacoti<br>value=%{x}<br>count=%{y}<br>Indicador=%{customdata[0]}<extra></extra>\",\"legendgroup\":\"Pacoti\",\"marker\":{\"color\":\"#636efa\",\"pattern\":{\"shape\":\"\"}},\"name\":\"Pacoti\",\"offsetgroup\":\"Pacoti\",\"orientation\":\"v\",\"showlegend\":true,\"textposition\":\"auto\",\"x\":[\"Otimo\",\"Otimo\",\"Bom\",\"Bom\",\"Ruim\",\"Ruim\",\"Ruim\",\"Bom\",\"Otimo\",\"Razoavel\",\"Razoavel\",\"Razoavel\",\"Ruim\",\"Ruim\",\"Bom\",\"Otimo\",\"Bom\",\"Razoavel\",\"Razoavel\",\"Ruim\",\"Ruim\"],\"xaxis\":\"x\",\"y\":[1,1,1,1,1,1,1,1,1,1,1,1,1,1,1,1,1,1,1,1,1],\"yaxis\":\"y\",\"type\":\"bar\"},{\"alignmentgroup\":\"True\",\"customdata\":[[1.0],[2.0],[3.0],[4.0],[5.0],[6.0],[7.0],[1.0],[2.0],[3.0],[4.0],[5.0],[6.0],[7.0],[1.0],[2.0],[3.0],[4.0],[5.0],[6.0],[7.0]],\"hovertemplate\":\"Municipio=Palmacia<br>value=%{x}<br>count=%{y}<br>Indicador=%{customdata[0]}<extra></extra>\",\"legendgroup\":\"Palmacia\",\"marker\":{\"color\":\"#EF553B\",\"pattern\":{\"shape\":\"\"}},\"name\":\"Palmacia\",\"offsetgroup\":\"Palmacia\",\"orientation\":\"v\",\"showlegend\":true,\"textposition\":\"auto\",\"x\":[\"Ruim\",\"Otimo\",\"Otimo\",\"Razoavel\",\"Ruim\",\"Ruim\",\"Ruim\",\"Razoavel\",\"Otimo\",\"Otimo\",\"Razoavel\",\"Ruim\",\"Ruim\",\"Ruim\",\"Bom\",\"Otimo\",\"Otimo\",\"Razoavel\",\"Razoavel\",\"Ruim\",\"Ruim\"],\"xaxis\":\"x\",\"y\":[1,1,1,1,1,1,1,1,1,1,1,1,1,1,1,1,1,1,1,1,1],\"yaxis\":\"y\",\"type\":\"bar\"},{\"alignmentgroup\":\"True\",\"customdata\":[[1.0],[2.0],[3.0],[4.0],[5.0],[6.0],[7.0],[1.0],[2.0],[3.0],[4.0],[5.0],[6.0],[7.0],[1.0],[2.0],[3.0],[4.0],[5.0],[6.0],[7.0]],\"hovertemplate\":\"Municipio=Reden\\u00e7\\u00e3o<br>value=%{x}<br>count=%{y}<br>Indicador=%{customdata[0]}<extra></extra>\",\"legendgroup\":\"Reden\\u00e7\\u00e3o\",\"marker\":{\"color\":\"#00cc96\",\"pattern\":{\"shape\":\"\"}},\"name\":\"Reden\\u00e7\\u00e3o\",\"offsetgroup\":\"Reden\\u00e7\\u00e3o\",\"orientation\":\"v\",\"showlegend\":true,\"textposition\":\"auto\",\"x\":[\"Ruim\",\"Razoavel\",\"Razoavel\",\"Razoavel\",\"Ruim\",\"Ruim\",\"Ruim\",\"Razoavel\",\"Bom\",\"Razoavel\",\"Razoavel\",\"Razoavel\",\"Ruim\",\"Ruim\",\"Razoavel\",\"Bom\",\"Bom\",\"Razoavel\",\"Razoavel\",\"Ruim\",\"Razoavel\"],\"xaxis\":\"x\",\"y\":[1,1,1,1,1,1,1,1,1,1,1,1,1,1,1,1,1,1,1,1,1],\"yaxis\":\"y\",\"type\":\"bar\"}],                        {\"template\":{\"data\":{\"histogram2dcontour\":[{\"type\":\"histogram2dcontour\",\"colorbar\":{\"outlinewidth\":0,\"ticks\":\"\"},\"colorscale\":[[0.0,\"#0d0887\"],[0.1111111111111111,\"#46039f\"],[0.2222222222222222,\"#7201a8\"],[0.3333333333333333,\"#9c179e\"],[0.4444444444444444,\"#bd3786\"],[0.5555555555555556,\"#d8576b\"],[0.6666666666666666,\"#ed7953\"],[0.7777777777777778,\"#fb9f3a\"],[0.8888888888888888,\"#fdca26\"],[1.0,\"#f0f921\"]]}],\"choropleth\":[{\"type\":\"choropleth\",\"colorbar\":{\"outlinewidth\":0,\"ticks\":\"\"}}],\"histogram2d\":[{\"type\":\"histogram2d\",\"colorbar\":{\"outlinewidth\":0,\"ticks\":\"\"},\"colorscale\":[[0.0,\"#0d0887\"],[0.1111111111111111,\"#46039f\"],[0.2222222222222222,\"#7201a8\"],[0.3333333333333333,\"#9c179e\"],[0.4444444444444444,\"#bd3786\"],[0.5555555555555556,\"#d8576b\"],[0.6666666666666666,\"#ed7953\"],[0.7777777777777778,\"#fb9f3a\"],[0.8888888888888888,\"#fdca26\"],[1.0,\"#f0f921\"]]}],\"heatmap\":[{\"type\":\"heatmap\",\"colorbar\":{\"outlinewidth\":0,\"ticks\":\"\"},\"colorscale\":[[0.0,\"#0d0887\"],[0.1111111111111111,\"#46039f\"],[0.2222222222222222,\"#7201a8\"],[0.3333333333333333,\"#9c179e\"],[0.4444444444444444,\"#bd3786\"],[0.5555555555555556,\"#d8576b\"],[0.6666666666666666,\"#ed7953\"],[0.7777777777777778,\"#fb9f3a\"],[0.8888888888888888,\"#fdca26\"],[1.0,\"#f0f921\"]]}],\"heatmapgl\":[{\"type\":\"heatmapgl\",\"colorbar\":{\"outlinewidth\":0,\"ticks\":\"\"},\"colorscale\":[[0.0,\"#0d0887\"],[0.1111111111111111,\"#46039f\"],[0.2222222222222222,\"#7201a8\"],[0.3333333333333333,\"#9c179e\"],[0.4444444444444444,\"#bd3786\"],[0.5555555555555556,\"#d8576b\"],[0.6666666666666666,\"#ed7953\"],[0.7777777777777778,\"#fb9f3a\"],[0.8888888888888888,\"#fdca26\"],[1.0,\"#f0f921\"]]}],\"contourcarpet\":[{\"type\":\"contourcarpet\",\"colorbar\":{\"outlinewidth\":0,\"ticks\":\"\"}}],\"contour\":[{\"type\":\"contour\",\"colorbar\":{\"outlinewidth\":0,\"ticks\":\"\"},\"colorscale\":[[0.0,\"#0d0887\"],[0.1111111111111111,\"#46039f\"],[0.2222222222222222,\"#7201a8\"],[0.3333333333333333,\"#9c179e\"],[0.4444444444444444,\"#bd3786\"],[0.5555555555555556,\"#d8576b\"],[0.6666666666666666,\"#ed7953\"],[0.7777777777777778,\"#fb9f3a\"],[0.8888888888888888,\"#fdca26\"],[1.0,\"#f0f921\"]]}],\"surface\":[{\"type\":\"surface\",\"colorbar\":{\"outlinewidth\":0,\"ticks\":\"\"},\"colorscale\":[[0.0,\"#0d0887\"],[0.1111111111111111,\"#46039f\"],[0.2222222222222222,\"#7201a8\"],[0.3333333333333333,\"#9c179e\"],[0.4444444444444444,\"#bd3786\"],[0.5555555555555556,\"#d8576b\"],[0.6666666666666666,\"#ed7953\"],[0.7777777777777778,\"#fb9f3a\"],[0.8888888888888888,\"#fdca26\"],[1.0,\"#f0f921\"]]}],\"mesh3d\":[{\"type\":\"mesh3d\",\"colorbar\":{\"outlinewidth\":0,\"ticks\":\"\"}}],\"scatter\":[{\"fillpattern\":{\"fillmode\":\"overlay\",\"size\":10,\"solidity\":0.2},\"type\":\"scatter\"}],\"parcoords\":[{\"type\":\"parcoords\",\"line\":{\"colorbar\":{\"outlinewidth\":0,\"ticks\":\"\"}}}],\"scatterpolargl\":[{\"type\":\"scatterpolargl\",\"marker\":{\"colorbar\":{\"outlinewidth\":0,\"ticks\":\"\"}}}],\"bar\":[{\"error_x\":{\"color\":\"#2a3f5f\"},\"error_y\":{\"color\":\"#2a3f5f\"},\"marker\":{\"line\":{\"color\":\"#E5ECF6\",\"width\":0.5},\"pattern\":{\"fillmode\":\"overlay\",\"size\":10,\"solidity\":0.2}},\"type\":\"bar\"}],\"scattergeo\":[{\"type\":\"scattergeo\",\"marker\":{\"colorbar\":{\"outlinewidth\":0,\"ticks\":\"\"}}}],\"scatterpolar\":[{\"type\":\"scatterpolar\",\"marker\":{\"colorbar\":{\"outlinewidth\":0,\"ticks\":\"\"}}}],\"histogram\":[{\"marker\":{\"pattern\":{\"fillmode\":\"overlay\",\"size\":10,\"solidity\":0.2}},\"type\":\"histogram\"}],\"scattergl\":[{\"type\":\"scattergl\",\"marker\":{\"colorbar\":{\"outlinewidth\":0,\"ticks\":\"\"}}}],\"scatter3d\":[{\"type\":\"scatter3d\",\"line\":{\"colorbar\":{\"outlinewidth\":0,\"ticks\":\"\"}},\"marker\":{\"colorbar\":{\"outlinewidth\":0,\"ticks\":\"\"}}}],\"scattermapbox\":[{\"type\":\"scattermapbox\",\"marker\":{\"colorbar\":{\"outlinewidth\":0,\"ticks\":\"\"}}}],\"scatterternary\":[{\"type\":\"scatterternary\",\"marker\":{\"colorbar\":{\"outlinewidth\":0,\"ticks\":\"\"}}}],\"scattercarpet\":[{\"type\":\"scattercarpet\",\"marker\":{\"colorbar\":{\"outlinewidth\":0,\"ticks\":\"\"}}}],\"carpet\":[{\"aaxis\":{\"endlinecolor\":\"#2a3f5f\",\"gridcolor\":\"white\",\"linecolor\":\"white\",\"minorgridcolor\":\"white\",\"startlinecolor\":\"#2a3f5f\"},\"baxis\":{\"endlinecolor\":\"#2a3f5f\",\"gridcolor\":\"white\",\"linecolor\":\"white\",\"minorgridcolor\":\"white\",\"startlinecolor\":\"#2a3f5f\"},\"type\":\"carpet\"}],\"table\":[{\"cells\":{\"fill\":{\"color\":\"#EBF0F8\"},\"line\":{\"color\":\"white\"}},\"header\":{\"fill\":{\"color\":\"#C8D4E3\"},\"line\":{\"color\":\"white\"}},\"type\":\"table\"}],\"barpolar\":[{\"marker\":{\"line\":{\"color\":\"#E5ECF6\",\"width\":0.5},\"pattern\":{\"fillmode\":\"overlay\",\"size\":10,\"solidity\":0.2}},\"type\":\"barpolar\"}],\"pie\":[{\"automargin\":true,\"type\":\"pie\"}]},\"layout\":{\"autotypenumbers\":\"strict\",\"colorway\":[\"#636efa\",\"#EF553B\",\"#00cc96\",\"#ab63fa\",\"#FFA15A\",\"#19d3f3\",\"#FF6692\",\"#B6E880\",\"#FF97FF\",\"#FECB52\"],\"font\":{\"color\":\"#2a3f5f\"},\"hovermode\":\"closest\",\"hoverlabel\":{\"align\":\"left\"},\"paper_bgcolor\":\"white\",\"plot_bgcolor\":\"#E5ECF6\",\"polar\":{\"bgcolor\":\"#E5ECF6\",\"angularaxis\":{\"gridcolor\":\"white\",\"linecolor\":\"white\",\"ticks\":\"\"},\"radialaxis\":{\"gridcolor\":\"white\",\"linecolor\":\"white\",\"ticks\":\"\"}},\"ternary\":{\"bgcolor\":\"#E5ECF6\",\"aaxis\":{\"gridcolor\":\"white\",\"linecolor\":\"white\",\"ticks\":\"\"},\"baxis\":{\"gridcolor\":\"white\",\"linecolor\":\"white\",\"ticks\":\"\"},\"caxis\":{\"gridcolor\":\"white\",\"linecolor\":\"white\",\"ticks\":\"\"}},\"coloraxis\":{\"colorbar\":{\"outlinewidth\":0,\"ticks\":\"\"}},\"colorscale\":{\"sequential\":[[0.0,\"#0d0887\"],[0.1111111111111111,\"#46039f\"],[0.2222222222222222,\"#7201a8\"],[0.3333333333333333,\"#9c179e\"],[0.4444444444444444,\"#bd3786\"],[0.5555555555555556,\"#d8576b\"],[0.6666666666666666,\"#ed7953\"],[0.7777777777777778,\"#fb9f3a\"],[0.8888888888888888,\"#fdca26\"],[1.0,\"#f0f921\"]],\"sequentialminus\":[[0.0,\"#0d0887\"],[0.1111111111111111,\"#46039f\"],[0.2222222222222222,\"#7201a8\"],[0.3333333333333333,\"#9c179e\"],[0.4444444444444444,\"#bd3786\"],[0.5555555555555556,\"#d8576b\"],[0.6666666666666666,\"#ed7953\"],[0.7777777777777778,\"#fb9f3a\"],[0.8888888888888888,\"#fdca26\"],[1.0,\"#f0f921\"]],\"diverging\":[[0,\"#8e0152\"],[0.1,\"#c51b7d\"],[0.2,\"#de77ae\"],[0.3,\"#f1b6da\"],[0.4,\"#fde0ef\"],[0.5,\"#f7f7f7\"],[0.6,\"#e6f5d0\"],[0.7,\"#b8e186\"],[0.8,\"#7fbc41\"],[0.9,\"#4d9221\"],[1,\"#276419\"]]},\"xaxis\":{\"gridcolor\":\"white\",\"linecolor\":\"white\",\"ticks\":\"\",\"title\":{\"standoff\":15},\"zerolinecolor\":\"white\",\"automargin\":true,\"zerolinewidth\":2},\"yaxis\":{\"gridcolor\":\"white\",\"linecolor\":\"white\",\"ticks\":\"\",\"title\":{\"standoff\":15},\"zerolinecolor\":\"white\",\"automargin\":true,\"zerolinewidth\":2},\"scene\":{\"xaxis\":{\"backgroundcolor\":\"#E5ECF6\",\"gridcolor\":\"white\",\"linecolor\":\"white\",\"showbackground\":true,\"ticks\":\"\",\"zerolinecolor\":\"white\",\"gridwidth\":2},\"yaxis\":{\"backgroundcolor\":\"#E5ECF6\",\"gridcolor\":\"white\",\"linecolor\":\"white\",\"showbackground\":true,\"ticks\":\"\",\"zerolinecolor\":\"white\",\"gridwidth\":2},\"zaxis\":{\"backgroundcolor\":\"#E5ECF6\",\"gridcolor\":\"white\",\"linecolor\":\"white\",\"showbackground\":true,\"ticks\":\"\",\"zerolinecolor\":\"white\",\"gridwidth\":2}},\"shapedefaults\":{\"line\":{\"color\":\"#2a3f5f\"}},\"annotationdefaults\":{\"arrowcolor\":\"#2a3f5f\",\"arrowhead\":0,\"arrowwidth\":1},\"geo\":{\"bgcolor\":\"white\",\"landcolor\":\"#E5ECF6\",\"subunitcolor\":\"white\",\"showland\":true,\"showlakes\":true,\"lakecolor\":\"white\"},\"title\":{\"x\":0.05},\"mapbox\":{\"style\":\"light\"}}},\"xaxis\":{\"anchor\":\"y\",\"domain\":[0.0,1.0],\"title\":{\"text\":\"Classifica\\u00e7\\u00f5es\"}},\"yaxis\":{\"anchor\":\"x\",\"domain\":[0.0,1.0],\"title\":{\"text\":\"2020\"}},\"legend\":{\"title\":{\"text\":\"Municipio\"},\"tracegroupgap\":0},\"margin\":{\"t\":60},\"barmode\":\"group\",\"title\":{\"text\":\"Analise de Desempenho do Maci\\u00e7o de Baturit\\u00e9 ( Classificas\\u00f5es )\"}},                        {\"responsive\": true}                    ).then(function(){\n",
              "                            \n",
              "var gd = document.getElementById('ddd63067-8895-4a40-a5ee-9f667bfd3439');\n",
              "var x = new MutationObserver(function (mutations, observer) {{\n",
              "        var display = window.getComputedStyle(gd).display;\n",
              "        if (!display || display === 'none') {{\n",
              "            console.log([gd, 'removed!']);\n",
              "            Plotly.purge(gd);\n",
              "            observer.disconnect();\n",
              "        }}\n",
              "}});\n",
              "\n",
              "// Listen for the removal of the full notebook cells\n",
              "var notebookContainer = gd.closest('#notebook-container');\n",
              "if (notebookContainer) {{\n",
              "    x.observe(notebookContainer, {childList: true});\n",
              "}}\n",
              "\n",
              "// Listen for the clearing of the current output cell\n",
              "var outputEl = gd.closest('.output');\n",
              "if (outputEl) {{\n",
              "    x.observe(outputEl, {childList: true});\n",
              "}}\n",
              "\n",
              "                        })                };                            </script>        </div>\n",
              "</body>\n",
              "</html>"
            ]
          },
          "metadata": {}
        }
      ]
    },
    {
      "cell_type": "markdown",
      "source": [
        "###Classificação de Atendimentos em 2021"
      ],
      "metadata": {
        "id": "XfgW2PlaCxHS"
      }
    },
    {
      "cell_type": "code",
      "source": [
        "# as classificações 3, 4 e 5 são referentes a 2021\n",
        "grafico = px.bar(bd,\n",
        "                  hover_data= ['Indicador'],\n",
        "                  color = 'Municipio',\n",
        "                 y=['Classificação.3','Classificação.4','Classificação.5'],\n",
        "                 barmode ='group'\n",
        "                 )\n",
        "grafico.update_layout(title = 'Analise de Desempenho do Maciço de Baturité ( Classificasões )')\n",
        "grafico.update_xaxes(title = 'Classificações')\n",
        "grafico.update_yaxes(title ='2021' ) \n",
        "grafico.show()"
      ],
      "metadata": {
        "colab": {
          "base_uri": "https://localhost:8080/",
          "height": 542
        },
        "id": "XSnVvL5eDEzU",
        "outputId": "098b61ca-0d74-47db-87e5-a655ff6b593f"
      },
      "execution_count": null,
      "outputs": [
        {
          "output_type": "display_data",
          "data": {
            "text/html": [
              "<html>\n",
              "<head><meta charset=\"utf-8\" /></head>\n",
              "<body>\n",
              "    <div>            <script src=\"https://cdnjs.cloudflare.com/ajax/libs/mathjax/2.7.5/MathJax.js?config=TeX-AMS-MML_SVG\"></script><script type=\"text/javascript\">if (window.MathJax && window.MathJax.Hub && window.MathJax.Hub.Config) {window.MathJax.Hub.Config({SVG: {font: \"STIX-Web\"}});}</script>                <script type=\"text/javascript\">window.PlotlyConfig = {MathJaxConfig: 'local'};</script>\n",
              "        <script src=\"https://cdn.plot.ly/plotly-2.16.1.min.js\"></script>                <div id=\"6711294e-cd5e-40e3-87a8-92fe23fca6e2\" class=\"plotly-graph-div\" style=\"height:525px; width:100%;\"></div>            <script type=\"text/javascript\">                                    window.PLOTLYENV=window.PLOTLYENV || {};                                    if (document.getElementById(\"6711294e-cd5e-40e3-87a8-92fe23fca6e2\")) {                    Plotly.newPlot(                        \"6711294e-cd5e-40e3-87a8-92fe23fca6e2\",                        [{\"alignmentgroup\":\"True\",\"customdata\":[[1.0],[2.0],[3.0],[4.0],[5.0],[6.0],[7.0],[1.0],[2.0],[3.0],[4.0],[5.0],[6.0],[7.0],[1.0],[2.0],[3.0],[4.0],[5.0],[6.0],[7.0]],\"hovertemplate\":\"Municipio=Acarape<br>value=%{x}<br>count=%{y}<br>Indicador=%{customdata[0]}<extra></extra>\",\"legendgroup\":\"Acarape\",\"marker\":{\"color\":\"#636efa\",\"pattern\":{\"shape\":\"\"}},\"name\":\"Acarape\",\"offsetgroup\":\"Acarape\",\"orientation\":\"v\",\"showlegend\":true,\"textposition\":\"auto\",\"x\":[\"Razoavel\",\"Otimo\",\"Razoavel\",\"Ruim\",\"Ruim\",\"Ruim\",\"Razoavel\",\"Razoavel\",\"Bom\",\"Bom\",\"Ruim\",\"Ruim\",\"Ruim\",\"Razoavel\",\"Bom\",\"Otimo\",\"Bom\",\"Ruim\",\"Ruim\",\"Ruim\",\"Razoavel\"],\"xaxis\":\"x\",\"y\":[1,1,1,1,1,1,1,1,1,1,1,1,1,1,1,1,1,1,1,1,1],\"yaxis\":\"y\",\"type\":\"bar\"},{\"alignmentgroup\":\"True\",\"customdata\":[[1.0],[2.0],[3.0],[4.0],[5.0],[6.0],[7.0],[1.0],[2.0],[3.0],[4.0],[5.0],[6.0],[7.0],[1.0],[2.0],[3.0],[4.0],[5.0],[6.0],[7.0]],\"hovertemplate\":\"Municipio=Aracoiaba<br>value=%{x}<br>count=%{y}<br>Indicador=%{customdata[0]}<extra></extra>\",\"legendgroup\":\"Aracoiaba\",\"marker\":{\"color\":\"#EF553B\",\"pattern\":{\"shape\":\"\"}},\"name\":\"Aracoiaba\",\"offsetgroup\":\"Aracoiaba\",\"orientation\":\"v\",\"showlegend\":true,\"textposition\":\"auto\",\"x\":[\"Bom\",\"Bom\",\"Otimo\",\"Ruim\",\"Ruim\",\"Ruim\",\"Bom\",\"Bom\",\"Bom\",\"Otimo\",\"Ruim\",\"Ruim\",\"Ruim\",\"Bom\",\"Bom\",\"Bom\",\"Otimo\",\"Ruim\",\"Ruim\",\"Ruim\",\"Razoavel\"],\"xaxis\":\"x\",\"y\":[1,1,1,1,1,1,1,1,1,1,1,1,1,1,1,1,1,1,1,1,1],\"yaxis\":\"y\",\"type\":\"bar\"},{\"alignmentgroup\":\"True\",\"customdata\":[[1.0],[2.0],[3.0],[4.0],[5.0],[6.0],[7.0],[1.0],[2.0],[3.0],[4.0],[5.0],[6.0],[7.0],[1.0],[2.0],[3.0],[4.0],[5.0],[6.0],[7.0]],\"hovertemplate\":\"Municipio=Aratuba<br>value=%{x}<br>count=%{y}<br>Indicador=%{customdata[0]}<extra></extra>\",\"legendgroup\":\"Aratuba\",\"marker\":{\"color\":\"#00cc96\",\"pattern\":{\"shape\":\"\"}},\"name\":\"Aratuba\",\"offsetgroup\":\"Aratuba\",\"orientation\":\"v\",\"showlegend\":true,\"textposition\":\"auto\",\"x\":[\"Ruim\",\"Razoavel\",\"Razoavel\",\"Ruim\",\"Ruim\",\"Ruim\",\"Ruim\",\"Razoavel\",\"Bom\",\"Otimo\",\"Ruim\",\"Ruim\",\"Razoavel\",\"Ruim\",\"Otimo\",\"Otimo\",\"Otimo\",\"Razoavel\",\"Ruim\",\"Razoavel\",\"Razoavel\"],\"xaxis\":\"x\",\"y\":[1,1,1,1,1,1,1,1,1,1,1,1,1,1,1,1,1,1,1,1,1],\"yaxis\":\"y\",\"type\":\"bar\"},{\"alignmentgroup\":\"True\",\"customdata\":[[1.0],[2.0],[3.0],[4.0],[5.0],[6.0],[7.0],[1.0],[2.0],[3.0],[4.0],[5.0],[6.0],[7.0],[1.0],[2.0],[3.0],[4.0],[5.0],[6.0],[7.0]],\"hovertemplate\":\"Municipio=Barreira<br>value=%{x}<br>count=%{y}<br>Indicador=%{customdata[0]}<extra></extra>\",\"legendgroup\":\"Barreira\",\"marker\":{\"color\":\"#ab63fa\",\"pattern\":{\"shape\":\"\"}},\"name\":\"Barreira\",\"offsetgroup\":\"Barreira\",\"orientation\":\"v\",\"showlegend\":true,\"textposition\":\"auto\",\"x\":[\"Razoavel\",\"Bom\",\"Razoavel\",\"Razoavel\",\"Ruim\",\"Ruim\",\"Bom\",\"Razoavel\",\"Bom\",\"Ruim\",\"Ruim\",\"Ruim\",\"Ruim\",\"Bom\",\"Razoavel\",\"Bom\",\"Razoavel\",\"Ruim\",\"Ruim\",\"Ruim\",\"Bom\"],\"xaxis\":\"x\",\"y\":[1,1,1,1,1,1,1,1,1,1,1,1,1,1,1,1,1,1,1,1,1],\"yaxis\":\"y\",\"type\":\"bar\"},{\"alignmentgroup\":\"True\",\"customdata\":[[1.0],[2.0],[3.0],[4.0],[5.0],[6.0],[7.0],[1.0],[2.0],[3.0],[4.0],[5.0],[6.0],[7.0],[1.0],[2.0],[3.0],[4.0],[5.0],[6.0],[7.0]],\"hovertemplate\":\"Municipio=Baturite<br>value=%{x}<br>count=%{y}<br>Indicador=%{customdata[0]}<extra></extra>\",\"legendgroup\":\"Baturite\",\"marker\":{\"color\":\"#FFA15A\",\"pattern\":{\"shape\":\"\"}},\"name\":\"Baturite\",\"offsetgroup\":\"Baturite\",\"orientation\":\"v\",\"showlegend\":true,\"textposition\":\"auto\",\"x\":[\"Ruim\",\"Razoavel\",\"Ruim\",\"Ruim\",\"Ruim\",\"Ruim\",\"Ruim\",\"Ruim\",\"Razoavel\",\"Razoavel\",\"Ruim\",\"Ruim\",\"Ruim\",\"Ruim\",\"Razoavel\",\"Otimo\",\"Bom\",\"Ruim\",\"Ruim\",\"Ruim\",\"Ruim\"],\"xaxis\":\"x\",\"y\":[1,1,1,1,1,1,1,1,1,1,1,1,1,1,1,1,1,1,1,1,1],\"yaxis\":\"y\",\"type\":\"bar\"},{\"alignmentgroup\":\"True\",\"customdata\":[[1.0],[2.0],[3.0],[4.0],[5.0],[6.0],[7.0],[1.0],[2.0],[3.0],[4.0],[5.0],[6.0],[7.0],[1.0],[2.0],[3.0],[4.0],[5.0],[6.0],[7.0]],\"hovertemplate\":\"Municipio=Capistrano<br>value=%{x}<br>count=%{y}<br>Indicador=%{customdata[0]}<extra></extra>\",\"legendgroup\":\"Capistrano\",\"marker\":{\"color\":\"#19d3f3\",\"pattern\":{\"shape\":\"\"}},\"name\":\"Capistrano\",\"offsetgroup\":\"Capistrano\",\"orientation\":\"v\",\"showlegend\":true,\"textposition\":\"auto\",\"x\":[\"Otimo\",\"Otimo\",\"Otimo\",\"Razoavel\",\"Razoavel\",\"Ruim\",\"Razoavel\",\"Otimo\",\"Otimo\",\"Otimo\",\"Razoavel\",\"Razoavel\",\"Razoavel\",\"Bom\",\"Otimo\",\"Otimo\",\"Otimo\",\"Bom\",\"Ruim\",\"Razoavel\",\"Bom\"],\"xaxis\":\"x\",\"y\":[1,1,1,1,1,1,1,1,1,1,1,1,1,1,1,1,1,1,1,1,1],\"yaxis\":\"y\",\"type\":\"bar\"},{\"alignmentgroup\":\"True\",\"customdata\":[[1.0],[2.0],[3.0],[4.0],[5.0],[6.0],[7.0],[1.0],[2.0],[3.0],[4.0],[5.0],[6.0],[7.0],[1.0],[2.0],[3.0],[4.0],[5.0],[6.0],[7.0]],\"hovertemplate\":\"Municipio=Guaramiranga<br>value=%{x}<br>count=%{y}<br>Indicador=%{customdata[0]}<extra></extra>\",\"legendgroup\":\"Guaramiranga\",\"marker\":{\"color\":\"#FF6692\",\"pattern\":{\"shape\":\"\"}},\"name\":\"Guaramiranga\",\"offsetgroup\":\"Guaramiranga\",\"orientation\":\"v\",\"showlegend\":true,\"textposition\":\"auto\",\"x\":[\"Razoavel\",\"Razoavel\",\"Ruim\",\"Razoavel\",\"Razoavel\",\"Ruim\",\"Bom\",\"Otimo\",\"Otimo\",\"Otimo\",\"Razoavel\",\"Ruim\",\"Ruim\",\"Otimo\",\"Otimo\",\"Otimo\",\"Otimo\",\"Razoavel\",\"Ruim\",\"Ruim\",\"Otimo\"],\"xaxis\":\"x\",\"y\":[1,1,1,1,1,1,1,1,1,1,1,1,1,1,1,1,1,1,1,1,1],\"yaxis\":\"y\",\"type\":\"bar\"},{\"alignmentgroup\":\"True\",\"customdata\":[[1.0],[2.0],[3.0],[4.0],[5.0],[6.0],[7.0],[1.0],[2.0],[3.0],[4.0],[5.0],[6.0],[7.0],[1.0],[2.0],[3.0],[4.0],[5.0],[6.0],[7.0]],\"hovertemplate\":\"Municipio=Itapiuna<br>value=%{x}<br>count=%{y}<br>Indicador=%{customdata[0]}<extra></extra>\",\"legendgroup\":\"Itapiuna\",\"marker\":{\"color\":\"#B6E880\",\"pattern\":{\"shape\":\"\"}},\"name\":\"Itapiuna\",\"offsetgroup\":\"Itapiuna\",\"orientation\":\"v\",\"showlegend\":true,\"textposition\":\"auto\",\"x\":[\"Ruim\",\"Bom\",\"Ruim\",\"Ruim\",\"Ruim\",\"Ruim\",\"Ruim\",\"Razoavel\",\"Otimo\",\"Bom\",\"Ruim\",\"Ruim\",\"Ruim\",\"Ruim\",\"Bom\",\"Otimo\",\"Otimo\",\"Ruim\",\"Ruim\",\"Ruim\",\"Ruim\"],\"xaxis\":\"x\",\"y\":[1,1,1,1,1,1,1,1,1,1,1,1,1,1,1,1,1,1,1,1,1],\"yaxis\":\"y\",\"type\":\"bar\"},{\"alignmentgroup\":\"True\",\"customdata\":[[1.0],[2.0],[3.0],[4.0],[5.0],[6.0],[7.0],[1.0],[2.0],[3.0],[4.0],[5.0],[6.0],[7.0],[1.0],[2.0],[3.0],[4.0],[5.0],[6.0],[7.0]],\"hovertemplate\":\"Municipio=Mulungu<br>value=%{x}<br>count=%{y}<br>Indicador=%{customdata[0]}<extra></extra>\",\"legendgroup\":\"Mulungu\",\"marker\":{\"color\":\"#FF97FF\",\"pattern\":{\"shape\":\"\"}},\"name\":\"Mulungu\",\"offsetgroup\":\"Mulungu\",\"orientation\":\"v\",\"showlegend\":true,\"textposition\":\"auto\",\"x\":[\"Ruim\",\"Ruim\",\"Bom\",\"Ruim\",\"Ruim\",\"Ruim\",\"Ruim\",\"Ruim\",\"Bom\",\"Otimo\",\"Ruim\",\"Ruim\",\"Ruim\",\"Razoavel\",\"Bom\",\"Otimo\",\"Otimo\",\"Ruim\",\"Ruim\",\"Ruim\",\"Bom\"],\"xaxis\":\"x\",\"y\":[1,1,1,1,1,1,1,1,1,1,1,1,1,1,1,1,1,1,1,1,1],\"yaxis\":\"y\",\"type\":\"bar\"},{\"alignmentgroup\":\"True\",\"customdata\":[[1.0],[2.0],[3.0],[4.0],[5.0],[6.0],[7.0],[1.0],[2.0],[3.0],[4.0],[5.0],[6.0],[7.0],[1.0],[2.0],[3.0],[4.0],[5.0],[6.0],[7.0]],\"hovertemplate\":\"Municipio=Ocora<br>value=%{x}<br>count=%{y}<br>Indicador=%{customdata[0]}<extra></extra>\",\"legendgroup\":\"Ocora\",\"marker\":{\"color\":\"#FECB52\",\"pattern\":{\"shape\":\"\"}},\"name\":\"Ocora\",\"offsetgroup\":\"Ocora\",\"orientation\":\"v\",\"showlegend\":true,\"textposition\":\"auto\",\"x\":[\"Bom\",\"Otimo\",\"Otimo\",\"Bom\",\"Razoavel\",\"Ruim\",\"Ruim\",\"Bom\",\"Bom\",\"Otimo\",\"Bom\",\"Ruim\",\"Razoavel\",\"Razoavel\",\"Bom\",\"Otimo\",\"Otimo\",\"Bom\",\"Ruim\",\"Razoavel\",\"Razoavel\"],\"xaxis\":\"x\",\"y\":[1,1,1,1,1,1,1,1,1,1,1,1,1,1,1,1,1,1,1,1,1],\"yaxis\":\"y\",\"type\":\"bar\"},{\"alignmentgroup\":\"True\",\"customdata\":[[1.0],[2.0],[3.0],[4.0],[5.0],[6.0],[7.0],[1.0],[2.0],[3.0],[4.0],[5.0],[6.0],[7.0],[1.0],[2.0],[3.0],[4.0],[5.0],[6.0],[7.0]],\"hovertemplate\":\"Municipio=Pacoti<br>value=%{x}<br>count=%{y}<br>Indicador=%{customdata[0]}<extra></extra>\",\"legendgroup\":\"Pacoti\",\"marker\":{\"color\":\"#636efa\",\"pattern\":{\"shape\":\"\"}},\"name\":\"Pacoti\",\"offsetgroup\":\"Pacoti\",\"orientation\":\"v\",\"showlegend\":true,\"textposition\":\"auto\",\"x\":[\"Razoavel\",\"Bom\",\"Bom\",\"Razoavel\",\"Razoavel\",\"Ruim\",\"Razoavel\",\"Bom\",\"Otimo\",\"Otimo\",\"Razoavel\",\"Ruim\",\"Ruim\",\"Bom\",\"Otimo\",\"Otimo\",\"Otimo\",\"Razoavel\",\"Ruim\",\"Ruim\",\"Otimo\"],\"xaxis\":\"x\",\"y\":[1,1,1,1,1,1,1,1,1,1,1,1,1,1,1,1,1,1,1,1,1],\"yaxis\":\"y\",\"type\":\"bar\"},{\"alignmentgroup\":\"True\",\"customdata\":[[1.0],[2.0],[3.0],[4.0],[5.0],[6.0],[7.0],[1.0],[2.0],[3.0],[4.0],[5.0],[6.0],[7.0],[1.0],[2.0],[3.0],[4.0],[5.0],[6.0],[7.0]],\"hovertemplate\":\"Municipio=Palmacia<br>value=%{x}<br>count=%{y}<br>Indicador=%{customdata[0]}<extra></extra>\",\"legendgroup\":\"Palmacia\",\"marker\":{\"color\":\"#EF553B\",\"pattern\":{\"shape\":\"\"}},\"name\":\"Palmacia\",\"offsetgroup\":\"Palmacia\",\"orientation\":\"v\",\"showlegend\":true,\"textposition\":\"auto\",\"x\":[\"Bom\",\"Otimo\",\"Otimo\",\"Razoavel\",\"Razoavel\",\"Ruim\",\"Ruim\",\"Bom\",\"Otimo\",\"Otimo\",\"Razoavel\",\"Ruim\",\"Ruim\",\"Razoavel\",\"Bom\",\"Otimo\",\"Otimo\",\"Razoavel\",\"Ruim\",\"Ruim\",\"Razoavel\"],\"xaxis\":\"x\",\"y\":[1,1,1,1,1,1,1,1,1,1,1,1,1,1,1,1,1,1,1,1,1],\"yaxis\":\"y\",\"type\":\"bar\"},{\"alignmentgroup\":\"True\",\"customdata\":[[1.0],[2.0],[3.0],[4.0],[5.0],[6.0],[7.0],[1.0],[2.0],[3.0],[4.0],[5.0],[6.0],[7.0],[1.0],[2.0],[3.0],[4.0],[5.0],[6.0],[7.0]],\"hovertemplate\":\"Municipio=Reden\\u00e7\\u00e3o<br>value=%{x}<br>count=%{y}<br>Indicador=%{customdata[0]}<extra></extra>\",\"legendgroup\":\"Reden\\u00e7\\u00e3o\",\"marker\":{\"color\":\"#00cc96\",\"pattern\":{\"shape\":\"\"}},\"name\":\"Reden\\u00e7\\u00e3o\",\"offsetgroup\":\"Reden\\u00e7\\u00e3o\",\"orientation\":\"v\",\"showlegend\":true,\"textposition\":\"auto\",\"x\":[\"Bom\",\"Otimo\",\"Otimo\",\"Razoavel\",\"Razoavel\",\"Razoavel\",\"Bom\",\"Bom\",\"Otimo\",\"Otimo\",\"Razoavel\",\"Ruim\",\"Bom\",\"Bom\",\"Otimo\",\"Otimo\",\"Otimo\",\"Razoavel\",\"Ruim\",\"Bom\",\"Otimo\"],\"xaxis\":\"x\",\"y\":[1,1,1,1,1,1,1,1,1,1,1,1,1,1,1,1,1,1,1,1,1],\"yaxis\":\"y\",\"type\":\"bar\"}],                        {\"template\":{\"data\":{\"histogram2dcontour\":[{\"type\":\"histogram2dcontour\",\"colorbar\":{\"outlinewidth\":0,\"ticks\":\"\"},\"colorscale\":[[0.0,\"#0d0887\"],[0.1111111111111111,\"#46039f\"],[0.2222222222222222,\"#7201a8\"],[0.3333333333333333,\"#9c179e\"],[0.4444444444444444,\"#bd3786\"],[0.5555555555555556,\"#d8576b\"],[0.6666666666666666,\"#ed7953\"],[0.7777777777777778,\"#fb9f3a\"],[0.8888888888888888,\"#fdca26\"],[1.0,\"#f0f921\"]]}],\"choropleth\":[{\"type\":\"choropleth\",\"colorbar\":{\"outlinewidth\":0,\"ticks\":\"\"}}],\"histogram2d\":[{\"type\":\"histogram2d\",\"colorbar\":{\"outlinewidth\":0,\"ticks\":\"\"},\"colorscale\":[[0.0,\"#0d0887\"],[0.1111111111111111,\"#46039f\"],[0.2222222222222222,\"#7201a8\"],[0.3333333333333333,\"#9c179e\"],[0.4444444444444444,\"#bd3786\"],[0.5555555555555556,\"#d8576b\"],[0.6666666666666666,\"#ed7953\"],[0.7777777777777778,\"#fb9f3a\"],[0.8888888888888888,\"#fdca26\"],[1.0,\"#f0f921\"]]}],\"heatmap\":[{\"type\":\"heatmap\",\"colorbar\":{\"outlinewidth\":0,\"ticks\":\"\"},\"colorscale\":[[0.0,\"#0d0887\"],[0.1111111111111111,\"#46039f\"],[0.2222222222222222,\"#7201a8\"],[0.3333333333333333,\"#9c179e\"],[0.4444444444444444,\"#bd3786\"],[0.5555555555555556,\"#d8576b\"],[0.6666666666666666,\"#ed7953\"],[0.7777777777777778,\"#fb9f3a\"],[0.8888888888888888,\"#fdca26\"],[1.0,\"#f0f921\"]]}],\"heatmapgl\":[{\"type\":\"heatmapgl\",\"colorbar\":{\"outlinewidth\":0,\"ticks\":\"\"},\"colorscale\":[[0.0,\"#0d0887\"],[0.1111111111111111,\"#46039f\"],[0.2222222222222222,\"#7201a8\"],[0.3333333333333333,\"#9c179e\"],[0.4444444444444444,\"#bd3786\"],[0.5555555555555556,\"#d8576b\"],[0.6666666666666666,\"#ed7953\"],[0.7777777777777778,\"#fb9f3a\"],[0.8888888888888888,\"#fdca26\"],[1.0,\"#f0f921\"]]}],\"contourcarpet\":[{\"type\":\"contourcarpet\",\"colorbar\":{\"outlinewidth\":0,\"ticks\":\"\"}}],\"contour\":[{\"type\":\"contour\",\"colorbar\":{\"outlinewidth\":0,\"ticks\":\"\"},\"colorscale\":[[0.0,\"#0d0887\"],[0.1111111111111111,\"#46039f\"],[0.2222222222222222,\"#7201a8\"],[0.3333333333333333,\"#9c179e\"],[0.4444444444444444,\"#bd3786\"],[0.5555555555555556,\"#d8576b\"],[0.6666666666666666,\"#ed7953\"],[0.7777777777777778,\"#fb9f3a\"],[0.8888888888888888,\"#fdca26\"],[1.0,\"#f0f921\"]]}],\"surface\":[{\"type\":\"surface\",\"colorbar\":{\"outlinewidth\":0,\"ticks\":\"\"},\"colorscale\":[[0.0,\"#0d0887\"],[0.1111111111111111,\"#46039f\"],[0.2222222222222222,\"#7201a8\"],[0.3333333333333333,\"#9c179e\"],[0.4444444444444444,\"#bd3786\"],[0.5555555555555556,\"#d8576b\"],[0.6666666666666666,\"#ed7953\"],[0.7777777777777778,\"#fb9f3a\"],[0.8888888888888888,\"#fdca26\"],[1.0,\"#f0f921\"]]}],\"mesh3d\":[{\"type\":\"mesh3d\",\"colorbar\":{\"outlinewidth\":0,\"ticks\":\"\"}}],\"scatter\":[{\"fillpattern\":{\"fillmode\":\"overlay\",\"size\":10,\"solidity\":0.2},\"type\":\"scatter\"}],\"parcoords\":[{\"type\":\"parcoords\",\"line\":{\"colorbar\":{\"outlinewidth\":0,\"ticks\":\"\"}}}],\"scatterpolargl\":[{\"type\":\"scatterpolargl\",\"marker\":{\"colorbar\":{\"outlinewidth\":0,\"ticks\":\"\"}}}],\"bar\":[{\"error_x\":{\"color\":\"#2a3f5f\"},\"error_y\":{\"color\":\"#2a3f5f\"},\"marker\":{\"line\":{\"color\":\"#E5ECF6\",\"width\":0.5},\"pattern\":{\"fillmode\":\"overlay\",\"size\":10,\"solidity\":0.2}},\"type\":\"bar\"}],\"scattergeo\":[{\"type\":\"scattergeo\",\"marker\":{\"colorbar\":{\"outlinewidth\":0,\"ticks\":\"\"}}}],\"scatterpolar\":[{\"type\":\"scatterpolar\",\"marker\":{\"colorbar\":{\"outlinewidth\":0,\"ticks\":\"\"}}}],\"histogram\":[{\"marker\":{\"pattern\":{\"fillmode\":\"overlay\",\"size\":10,\"solidity\":0.2}},\"type\":\"histogram\"}],\"scattergl\":[{\"type\":\"scattergl\",\"marker\":{\"colorbar\":{\"outlinewidth\":0,\"ticks\":\"\"}}}],\"scatter3d\":[{\"type\":\"scatter3d\",\"line\":{\"colorbar\":{\"outlinewidth\":0,\"ticks\":\"\"}},\"marker\":{\"colorbar\":{\"outlinewidth\":0,\"ticks\":\"\"}}}],\"scattermapbox\":[{\"type\":\"scattermapbox\",\"marker\":{\"colorbar\":{\"outlinewidth\":0,\"ticks\":\"\"}}}],\"scatterternary\":[{\"type\":\"scatterternary\",\"marker\":{\"colorbar\":{\"outlinewidth\":0,\"ticks\":\"\"}}}],\"scattercarpet\":[{\"type\":\"scattercarpet\",\"marker\":{\"colorbar\":{\"outlinewidth\":0,\"ticks\":\"\"}}}],\"carpet\":[{\"aaxis\":{\"endlinecolor\":\"#2a3f5f\",\"gridcolor\":\"white\",\"linecolor\":\"white\",\"minorgridcolor\":\"white\",\"startlinecolor\":\"#2a3f5f\"},\"baxis\":{\"endlinecolor\":\"#2a3f5f\",\"gridcolor\":\"white\",\"linecolor\":\"white\",\"minorgridcolor\":\"white\",\"startlinecolor\":\"#2a3f5f\"},\"type\":\"carpet\"}],\"table\":[{\"cells\":{\"fill\":{\"color\":\"#EBF0F8\"},\"line\":{\"color\":\"white\"}},\"header\":{\"fill\":{\"color\":\"#C8D4E3\"},\"line\":{\"color\":\"white\"}},\"type\":\"table\"}],\"barpolar\":[{\"marker\":{\"line\":{\"color\":\"#E5ECF6\",\"width\":0.5},\"pattern\":{\"fillmode\":\"overlay\",\"size\":10,\"solidity\":0.2}},\"type\":\"barpolar\"}],\"pie\":[{\"automargin\":true,\"type\":\"pie\"}]},\"layout\":{\"autotypenumbers\":\"strict\",\"colorway\":[\"#636efa\",\"#EF553B\",\"#00cc96\",\"#ab63fa\",\"#FFA15A\",\"#19d3f3\",\"#FF6692\",\"#B6E880\",\"#FF97FF\",\"#FECB52\"],\"font\":{\"color\":\"#2a3f5f\"},\"hovermode\":\"closest\",\"hoverlabel\":{\"align\":\"left\"},\"paper_bgcolor\":\"white\",\"plot_bgcolor\":\"#E5ECF6\",\"polar\":{\"bgcolor\":\"#E5ECF6\",\"angularaxis\":{\"gridcolor\":\"white\",\"linecolor\":\"white\",\"ticks\":\"\"},\"radialaxis\":{\"gridcolor\":\"white\",\"linecolor\":\"white\",\"ticks\":\"\"}},\"ternary\":{\"bgcolor\":\"#E5ECF6\",\"aaxis\":{\"gridcolor\":\"white\",\"linecolor\":\"white\",\"ticks\":\"\"},\"baxis\":{\"gridcolor\":\"white\",\"linecolor\":\"white\",\"ticks\":\"\"},\"caxis\":{\"gridcolor\":\"white\",\"linecolor\":\"white\",\"ticks\":\"\"}},\"coloraxis\":{\"colorbar\":{\"outlinewidth\":0,\"ticks\":\"\"}},\"colorscale\":{\"sequential\":[[0.0,\"#0d0887\"],[0.1111111111111111,\"#46039f\"],[0.2222222222222222,\"#7201a8\"],[0.3333333333333333,\"#9c179e\"],[0.4444444444444444,\"#bd3786\"],[0.5555555555555556,\"#d8576b\"],[0.6666666666666666,\"#ed7953\"],[0.7777777777777778,\"#fb9f3a\"],[0.8888888888888888,\"#fdca26\"],[1.0,\"#f0f921\"]],\"sequentialminus\":[[0.0,\"#0d0887\"],[0.1111111111111111,\"#46039f\"],[0.2222222222222222,\"#7201a8\"],[0.3333333333333333,\"#9c179e\"],[0.4444444444444444,\"#bd3786\"],[0.5555555555555556,\"#d8576b\"],[0.6666666666666666,\"#ed7953\"],[0.7777777777777778,\"#fb9f3a\"],[0.8888888888888888,\"#fdca26\"],[1.0,\"#f0f921\"]],\"diverging\":[[0,\"#8e0152\"],[0.1,\"#c51b7d\"],[0.2,\"#de77ae\"],[0.3,\"#f1b6da\"],[0.4,\"#fde0ef\"],[0.5,\"#f7f7f7\"],[0.6,\"#e6f5d0\"],[0.7,\"#b8e186\"],[0.8,\"#7fbc41\"],[0.9,\"#4d9221\"],[1,\"#276419\"]]},\"xaxis\":{\"gridcolor\":\"white\",\"linecolor\":\"white\",\"ticks\":\"\",\"title\":{\"standoff\":15},\"zerolinecolor\":\"white\",\"automargin\":true,\"zerolinewidth\":2},\"yaxis\":{\"gridcolor\":\"white\",\"linecolor\":\"white\",\"ticks\":\"\",\"title\":{\"standoff\":15},\"zerolinecolor\":\"white\",\"automargin\":true,\"zerolinewidth\":2},\"scene\":{\"xaxis\":{\"backgroundcolor\":\"#E5ECF6\",\"gridcolor\":\"white\",\"linecolor\":\"white\",\"showbackground\":true,\"ticks\":\"\",\"zerolinecolor\":\"white\",\"gridwidth\":2},\"yaxis\":{\"backgroundcolor\":\"#E5ECF6\",\"gridcolor\":\"white\",\"linecolor\":\"white\",\"showbackground\":true,\"ticks\":\"\",\"zerolinecolor\":\"white\",\"gridwidth\":2},\"zaxis\":{\"backgroundcolor\":\"#E5ECF6\",\"gridcolor\":\"white\",\"linecolor\":\"white\",\"showbackground\":true,\"ticks\":\"\",\"zerolinecolor\":\"white\",\"gridwidth\":2}},\"shapedefaults\":{\"line\":{\"color\":\"#2a3f5f\"}},\"annotationdefaults\":{\"arrowcolor\":\"#2a3f5f\",\"arrowhead\":0,\"arrowwidth\":1},\"geo\":{\"bgcolor\":\"white\",\"landcolor\":\"#E5ECF6\",\"subunitcolor\":\"white\",\"showland\":true,\"showlakes\":true,\"lakecolor\":\"white\"},\"title\":{\"x\":0.05},\"mapbox\":{\"style\":\"light\"}}},\"xaxis\":{\"anchor\":\"y\",\"domain\":[0.0,1.0],\"title\":{\"text\":\"Classifica\\u00e7\\u00f5es\"}},\"yaxis\":{\"anchor\":\"x\",\"domain\":[0.0,1.0],\"title\":{\"text\":\"2021\"}},\"legend\":{\"title\":{\"text\":\"Municipio\"},\"tracegroupgap\":0},\"margin\":{\"t\":60},\"barmode\":\"group\",\"title\":{\"text\":\"Analise de Desempenho do Maci\\u00e7o de Baturit\\u00e9 ( Classificas\\u00f5es )\"}},                        {\"responsive\": true}                    ).then(function(){\n",
              "                            \n",
              "var gd = document.getElementById('6711294e-cd5e-40e3-87a8-92fe23fca6e2');\n",
              "var x = new MutationObserver(function (mutations, observer) {{\n",
              "        var display = window.getComputedStyle(gd).display;\n",
              "        if (!display || display === 'none') {{\n",
              "            console.log([gd, 'removed!']);\n",
              "            Plotly.purge(gd);\n",
              "            observer.disconnect();\n",
              "        }}\n",
              "}});\n",
              "\n",
              "// Listen for the removal of the full notebook cells\n",
              "var notebookContainer = gd.closest('#notebook-container');\n",
              "if (notebookContainer) {{\n",
              "    x.observe(notebookContainer, {childList: true});\n",
              "}}\n",
              "\n",
              "// Listen for the clearing of the current output cell\n",
              "var outputEl = gd.closest('.output');\n",
              "if (outputEl) {{\n",
              "    x.observe(outputEl, {childList: true});\n",
              "}}\n",
              "\n",
              "                        })                };                            </script>        </div>\n",
              "</body>\n",
              "</html>"
            ]
          },
          "metadata": {}
        }
      ]
    },
    {
      "cell_type": "code",
      "source": [],
      "metadata": {
        "id": "mT-Ql0FdDMKX"
      },
      "execution_count": null,
      "outputs": []
    },
    {
      "cell_type": "markdown",
      "source": [
        "### Classificação de Atendimentos 2020 (1 ao 2 Quadrimestre)"
      ],
      "metadata": {
        "id": "Y5P2A-1fGVLn"
      }
    },
    {
      "cell_type": "code",
      "source": [
        "# as classificações 6 e 7 são referentes a 2022\n",
        "grafico = px.bar(bd,\n",
        "                  hover_data= ['Indicador'],\n",
        "                  color = 'Municipio',\n",
        "                 y=['Classificação.6','Classificação.7'],\n",
        "                 barmode ='group'\n",
        "                 )\n",
        "grafico.update_layout(title = 'Analise de Desempenho do Maciço de Baturité ( Classificasões )')\n",
        "grafico.update_xaxes(title = 'Classificações')\n",
        "grafico.update_yaxes(title ='2022 ( 1 ao 2)' ) \n",
        "grafico.show()"
      ],
      "metadata": {
        "colab": {
          "base_uri": "https://localhost:8080/",
          "height": 542
        },
        "id": "ZkSCl_OQGaJy",
        "outputId": "2719a897-e7be-426f-d369-6d0cbc7c9c20"
      },
      "execution_count": null,
      "outputs": [
        {
          "output_type": "display_data",
          "data": {
            "text/html": [
              "<html>\n",
              "<head><meta charset=\"utf-8\" /></head>\n",
              "<body>\n",
              "    <div>            <script src=\"https://cdnjs.cloudflare.com/ajax/libs/mathjax/2.7.5/MathJax.js?config=TeX-AMS-MML_SVG\"></script><script type=\"text/javascript\">if (window.MathJax && window.MathJax.Hub && window.MathJax.Hub.Config) {window.MathJax.Hub.Config({SVG: {font: \"STIX-Web\"}});}</script>                <script type=\"text/javascript\">window.PlotlyConfig = {MathJaxConfig: 'local'};</script>\n",
              "        <script src=\"https://cdn.plot.ly/plotly-2.16.1.min.js\"></script>                <div id=\"f1d02fc4-eaa0-489f-84aa-74416b1c94eb\" class=\"plotly-graph-div\" style=\"height:525px; width:100%;\"></div>            <script type=\"text/javascript\">                                    window.PLOTLYENV=window.PLOTLYENV || {};                                    if (document.getElementById(\"f1d02fc4-eaa0-489f-84aa-74416b1c94eb\")) {                    Plotly.newPlot(                        \"f1d02fc4-eaa0-489f-84aa-74416b1c94eb\",                        [{\"alignmentgroup\":\"True\",\"customdata\":[[1.0],[2.0],[3.0],[4.0],[5.0],[6.0],[7.0],[1.0],[2.0],[3.0],[4.0],[5.0],[6.0],[7.0]],\"hovertemplate\":\"Municipio=Acarape<br>value=%{x}<br>count=%{y}<br>Indicador=%{customdata[0]}<extra></extra>\",\"legendgroup\":\"Acarape\",\"marker\":{\"color\":\"#636efa\",\"pattern\":{\"shape\":\"\"}},\"name\":\"Acarape\",\"offsetgroup\":\"Acarape\",\"orientation\":\"v\",\"showlegend\":true,\"textposition\":\"auto\",\"x\":[\"Bom\",\"Otimo\",\"Bom\",\"Ruim\",\"Ruim\",\"Ruim\",\"Ruim\",\"Bom\",\"Otimo\",\"Otimo\",\"Ruim\",\"Bom\",\"Ruim\",\"Ruim\"],\"xaxis\":\"x\",\"y\":[1,1,1,1,1,1,1,1,1,1,1,1,1,1],\"yaxis\":\"y\",\"type\":\"bar\"},{\"alignmentgroup\":\"True\",\"customdata\":[[1.0],[2.0],[3.0],[4.0],[5.0],[6.0],[7.0],[1.0],[2.0],[3.0],[4.0],[5.0],[6.0],[7.0]],\"hovertemplate\":\"Municipio=Aracoiaba<br>value=%{x}<br>count=%{y}<br>Indicador=%{customdata[0]}<extra></extra>\",\"legendgroup\":\"Aracoiaba\",\"marker\":{\"color\":\"#EF553B\",\"pattern\":{\"shape\":\"\"}},\"name\":\"Aracoiaba\",\"offsetgroup\":\"Aracoiaba\",\"orientation\":\"v\",\"showlegend\":true,\"textposition\":\"auto\",\"x\":[\"Bom\",\"Bom\",\"Bom\",\"Ruim\",\"Bom\",\"Razoavel\",\"Ruim\",\"Otimo\",\"Otimo\",\"Otimo\",\"Razoavel\",\"Bom\",\"Razoavel\",\"Ruim\"],\"xaxis\":\"x\",\"y\":[1,1,1,1,1,1,1,1,1,1,1,1,1,1],\"yaxis\":\"y\",\"type\":\"bar\"},{\"alignmentgroup\":\"True\",\"customdata\":[[1.0],[2.0],[3.0],[4.0],[5.0],[6.0],[7.0],[1.0],[2.0],[3.0],[4.0],[5.0],[6.0],[7.0]],\"hovertemplate\":\"Municipio=Aratuba<br>value=%{x}<br>count=%{y}<br>Indicador=%{customdata[0]}<extra></extra>\",\"legendgroup\":\"Aratuba\",\"marker\":{\"color\":\"#00cc96\",\"pattern\":{\"shape\":\"\"}},\"name\":\"Aratuba\",\"offsetgroup\":\"Aratuba\",\"orientation\":\"v\",\"showlegend\":true,\"textposition\":\"auto\",\"x\":[\"Otimo\",\"Otimo\",\"Otimo\",\"Razoavel\",\"Bom\",\"Razoavel\",\"Ruim\",\"Bom\",\"Otimo\",\"Otimo\",\"Bom\",\"Bom\",\"Razoavel\",\"Razoavel\"],\"xaxis\":\"x\",\"y\":[1,1,1,1,1,1,1,1,1,1,1,1,1,1],\"yaxis\":\"y\",\"type\":\"bar\"},{\"alignmentgroup\":\"True\",\"customdata\":[[1.0],[2.0],[3.0],[4.0],[5.0],[6.0],[7.0],[1.0],[2.0],[3.0],[4.0],[5.0],[6.0],[7.0]],\"hovertemplate\":\"Municipio=Barreira<br>value=%{x}<br>count=%{y}<br>Indicador=%{customdata[0]}<extra></extra>\",\"legendgroup\":\"Barreira\",\"marker\":{\"color\":\"#ab63fa\",\"pattern\":{\"shape\":\"\"}},\"name\":\"Barreira\",\"offsetgroup\":\"Barreira\",\"orientation\":\"v\",\"showlegend\":true,\"textposition\":\"auto\",\"x\":[\"Razoavel\",\"Bom\",\"Razoavel\",\"Razoavel\",\"Razoavel\",\"Ruim\",\"Ruim\",\"Razoavel\",\"Otimo\",\"Bom\",\"Razoavel\",\"Razoavel\",\"Razoavel\",\"Ruim\"],\"xaxis\":\"x\",\"y\":[1,1,1,1,1,1,1,1,1,1,1,1,1,1],\"yaxis\":\"y\",\"type\":\"bar\"},{\"alignmentgroup\":\"True\",\"customdata\":[[1.0],[2.0],[3.0],[4.0],[5.0],[6.0],[7.0],[1.0],[2.0],[3.0],[4.0],[5.0],[6.0],[7.0]],\"hovertemplate\":\"Municipio=Baturite<br>value=%{x}<br>count=%{y}<br>Indicador=%{customdata[0]}<extra></extra>\",\"legendgroup\":\"Baturite\",\"marker\":{\"color\":\"#FFA15A\",\"pattern\":{\"shape\":\"\"}},\"name\":\"Baturite\",\"offsetgroup\":\"Baturite\",\"orientation\":\"v\",\"showlegend\":true,\"textposition\":\"auto\",\"x\":[\"Razoavel\",\"Otimo\",\"Otimo\",\"Ruim\",\"Razoavel\",\"Ruim\",\"Ruim\",\"Razoavel\",\"Otimo\",\"Otimo\",\"Razoavel\",\"Bom\",\"Ruim\",\"Otimo\"],\"xaxis\":\"x\",\"y\":[1,1,1,1,1,1,1,1,1,1,1,1,1,1],\"yaxis\":\"y\",\"type\":\"bar\"},{\"alignmentgroup\":\"True\",\"customdata\":[[1.0],[2.0],[3.0],[4.0],[5.0],[6.0],[7.0],[1.0],[2.0],[3.0],[4.0],[5.0],[6.0],[7.0]],\"hovertemplate\":\"Municipio=Capistrano<br>value=%{x}<br>count=%{y}<br>Indicador=%{customdata[0]}<extra></extra>\",\"legendgroup\":\"Capistrano\",\"marker\":{\"color\":\"#19d3f3\",\"pattern\":{\"shape\":\"\"}},\"name\":\"Capistrano\",\"offsetgroup\":\"Capistrano\",\"orientation\":\"v\",\"showlegend\":true,\"textposition\":\"auto\",\"x\":[\"Otimo\",\"Otimo\",\"Otimo\",\"Bom\",\"Bom\",\"Razoavel\",\"Ruim\",\"Otimo\",\"Otimo\",\"Otimo\",\"Bom\",\"Bom\",\"Bom\",\"Bom\"],\"xaxis\":\"x\",\"y\":[1,1,1,1,1,1,1,1,1,1,1,1,1,1],\"yaxis\":\"y\",\"type\":\"bar\"},{\"alignmentgroup\":\"True\",\"customdata\":[[1.0],[2.0],[3.0],[4.0],[5.0],[6.0],[7.0],[1.0],[2.0],[3.0],[4.0],[5.0],[6.0],[7.0]],\"hovertemplate\":\"Municipio=Guaramiranga<br>value=%{x}<br>count=%{y}<br>Indicador=%{customdata[0]}<extra></extra>\",\"legendgroup\":\"Guaramiranga\",\"marker\":{\"color\":\"#FF6692\",\"pattern\":{\"shape\":\"\"}},\"name\":\"Guaramiranga\",\"offsetgroup\":\"Guaramiranga\",\"orientation\":\"v\",\"showlegend\":true,\"textposition\":\"auto\",\"x\":[\"Otimo\",\"Otimo\",\"Otimo\",\"Razoavel\",\"Bom\",\"Razoavel\",\"Razoavel\",\"Otimo\",\"Otimo\",\"Otimo\",\"Bom\",\"Otimo\",\"Bom\",\"Otimo\"],\"xaxis\":\"x\",\"y\":[1,1,1,1,1,1,1,1,1,1,1,1,1,1],\"yaxis\":\"y\",\"type\":\"bar\"},{\"alignmentgroup\":\"True\",\"customdata\":[[1.0],[2.0],[3.0],[4.0],[5.0],[6.0],[7.0],[1.0],[2.0],[3.0],[4.0],[5.0],[6.0],[7.0]],\"hovertemplate\":\"Municipio=Itapiuna<br>value=%{x}<br>count=%{y}<br>Indicador=%{customdata[0]}<extra></extra>\",\"legendgroup\":\"Itapiuna\",\"marker\":{\"color\":\"#B6E880\",\"pattern\":{\"shape\":\"\"}},\"name\":\"Itapiuna\",\"offsetgroup\":\"Itapiuna\",\"orientation\":\"v\",\"showlegend\":true,\"textposition\":\"auto\",\"x\":[\"Bom\",\"Otimo\",\"Razoavel\",\"Ruim\",\"Bom\",\"Razoavel\",\"Ruim\",\"Bom\",\"Otimo\",\"Bom\",\"Ruim\",\"Bom\",\"Bom\",\"Razoavel\"],\"xaxis\":\"x\",\"y\":[1,1,1,1,1,1,1,1,1,1,1,1,1,1],\"yaxis\":\"y\",\"type\":\"bar\"},{\"alignmentgroup\":\"True\",\"customdata\":[[1.0],[2.0],[3.0],[4.0],[5.0],[6.0],[7.0],[1.0],[2.0],[3.0],[4.0],[5.0],[6.0],[7.0]],\"hovertemplate\":\"Municipio=Mulungu<br>value=%{x}<br>count=%{y}<br>Indicador=%{customdata[0]}<extra></extra>\",\"legendgroup\":\"Mulungu\",\"marker\":{\"color\":\"#FF97FF\",\"pattern\":{\"shape\":\"\"}},\"name\":\"Mulungu\",\"offsetgroup\":\"Mulungu\",\"orientation\":\"v\",\"showlegend\":true,\"textposition\":\"auto\",\"x\":[\"Otimo\",\"Otimo\",\"Otimo\",\"Ruim\",\"Bom\",\"Razoavel\",\"Ruim\",\"Otimo\",\"Otimo\",\"Otimo\",\"Razoavel\",\"Otimo\",\"Razoavel\",\"Razoavel\"],\"xaxis\":\"x\",\"y\":[1,1,1,1,1,1,1,1,1,1,1,1,1,1],\"yaxis\":\"y\",\"type\":\"bar\"},{\"alignmentgroup\":\"True\",\"customdata\":[[1.0],[2.0],[3.0],[4.0],[5.0],[6.0],[7.0],[1.0],[2.0],[3.0],[4.0],[5.0],[6.0],[7.0]],\"hovertemplate\":\"Municipio=Ocora<br>value=%{x}<br>count=%{y}<br>Indicador=%{customdata[0]}<extra></extra>\",\"legendgroup\":\"Ocora\",\"marker\":{\"color\":\"#FECB52\",\"pattern\":{\"shape\":\"\"}},\"name\":\"Ocora\",\"offsetgroup\":\"Ocora\",\"orientation\":\"v\",\"showlegend\":true,\"textposition\":\"auto\",\"x\":[\"Otimo\",\"Otimo\",\"Otimo\",\"Bom\",\"Razoavel\",\"Razoavel\",\"Ruim\",\"Otimo\",\"Otimo\",\"Otimo\",\"Otimo\",\"Bom\",\"Bom\",\"Bom\"],\"xaxis\":\"x\",\"y\":[1,1,1,1,1,1,1,1,1,1,1,1,1,1],\"yaxis\":\"y\",\"type\":\"bar\"},{\"alignmentgroup\":\"True\",\"customdata\":[[1.0],[2.0],[3.0],[4.0],[5.0],[6.0],[7.0],[1.0],[2.0],[3.0],[4.0],[5.0],[6.0],[7.0]],\"hovertemplate\":\"Municipio=Pacoti<br>value=%{x}<br>count=%{y}<br>Indicador=%{customdata[0]}<extra></extra>\",\"legendgroup\":\"Pacoti\",\"marker\":{\"color\":\"#636efa\",\"pattern\":{\"shape\":\"\"}},\"name\":\"Pacoti\",\"offsetgroup\":\"Pacoti\",\"orientation\":\"v\",\"showlegend\":true,\"textposition\":\"auto\",\"x\":[\"Otimo\",\"Otimo\",\"Otimo\",\"Razoavel\",\"Bom\",\"Ruim\",\"Razoavel\",\"Otimo\",\"Otimo\",\"Otimo\",\"Bom\",\"Razoavel\",\"Razoavel\",\"Razoavel\"],\"xaxis\":\"x\",\"y\":[1,1,1,1,1,1,1,1,1,1,1,1,1,1],\"yaxis\":\"y\",\"type\":\"bar\"},{\"alignmentgroup\":\"True\",\"customdata\":[[1.0],[2.0],[3.0],[4.0],[5.0],[6.0],[7.0],[1.0],[2.0],[3.0],[4.0],[5.0],[6.0],[7.0]],\"hovertemplate\":\"Municipio=Palmacia<br>value=%{x}<br>count=%{y}<br>Indicador=%{customdata[0]}<extra></extra>\",\"legendgroup\":\"Palmacia\",\"marker\":{\"color\":\"#EF553B\",\"pattern\":{\"shape\":\"\"}},\"name\":\"Palmacia\",\"offsetgroup\":\"Palmacia\",\"orientation\":\"v\",\"showlegend\":true,\"textposition\":\"auto\",\"x\":[\"Otimo\",\"Otimo\",\"Otimo\",\"Razoavel\",\"Razoavel\",\"Razoavel\",\"Ruim\",\"Bom\",\"Otimo\",\"Otimo\",\"Otimo\",\"Bom\",\"Bom\",\"Bom\"],\"xaxis\":\"x\",\"y\":[1,1,1,1,1,1,1,1,1,1,1,1,1,1],\"yaxis\":\"y\",\"type\":\"bar\"},{\"alignmentgroup\":\"True\",\"customdata\":[[1.0],[2.0],[3.0],[4.0],[5.0],[6.0],[7.0],[1.0],[2.0],[3.0],[4.0],[5.0],[6.0],[7.0]],\"hovertemplate\":\"Municipio=Reden\\u00e7\\u00e3o<br>value=%{x}<br>count=%{y}<br>Indicador=%{customdata[0]}<extra></extra>\",\"legendgroup\":\"Reden\\u00e7\\u00e3o\",\"marker\":{\"color\":\"#00cc96\",\"pattern\":{\"shape\":\"\"}},\"name\":\"Reden\\u00e7\\u00e3o\",\"offsetgroup\":\"Reden\\u00e7\\u00e3o\",\"orientation\":\"v\",\"showlegend\":true,\"textposition\":\"auto\",\"x\":[\"Otimo\",\"Otimo\",\"Otimo\",\"Razoavel\",\"Razoavel\",\"Bom\",\"Razoavel\",\"Otimo\",\"Otimo\",\"Otimo\",\"Razoavel\",\"Bom\",\"Bom\",\"Bom\"],\"xaxis\":\"x\",\"y\":[1,1,1,1,1,1,1,1,1,1,1,1,1,1],\"yaxis\":\"y\",\"type\":\"bar\"}],                        {\"template\":{\"data\":{\"histogram2dcontour\":[{\"type\":\"histogram2dcontour\",\"colorbar\":{\"outlinewidth\":0,\"ticks\":\"\"},\"colorscale\":[[0.0,\"#0d0887\"],[0.1111111111111111,\"#46039f\"],[0.2222222222222222,\"#7201a8\"],[0.3333333333333333,\"#9c179e\"],[0.4444444444444444,\"#bd3786\"],[0.5555555555555556,\"#d8576b\"],[0.6666666666666666,\"#ed7953\"],[0.7777777777777778,\"#fb9f3a\"],[0.8888888888888888,\"#fdca26\"],[1.0,\"#f0f921\"]]}],\"choropleth\":[{\"type\":\"choropleth\",\"colorbar\":{\"outlinewidth\":0,\"ticks\":\"\"}}],\"histogram2d\":[{\"type\":\"histogram2d\",\"colorbar\":{\"outlinewidth\":0,\"ticks\":\"\"},\"colorscale\":[[0.0,\"#0d0887\"],[0.1111111111111111,\"#46039f\"],[0.2222222222222222,\"#7201a8\"],[0.3333333333333333,\"#9c179e\"],[0.4444444444444444,\"#bd3786\"],[0.5555555555555556,\"#d8576b\"],[0.6666666666666666,\"#ed7953\"],[0.7777777777777778,\"#fb9f3a\"],[0.8888888888888888,\"#fdca26\"],[1.0,\"#f0f921\"]]}],\"heatmap\":[{\"type\":\"heatmap\",\"colorbar\":{\"outlinewidth\":0,\"ticks\":\"\"},\"colorscale\":[[0.0,\"#0d0887\"],[0.1111111111111111,\"#46039f\"],[0.2222222222222222,\"#7201a8\"],[0.3333333333333333,\"#9c179e\"],[0.4444444444444444,\"#bd3786\"],[0.5555555555555556,\"#d8576b\"],[0.6666666666666666,\"#ed7953\"],[0.7777777777777778,\"#fb9f3a\"],[0.8888888888888888,\"#fdca26\"],[1.0,\"#f0f921\"]]}],\"heatmapgl\":[{\"type\":\"heatmapgl\",\"colorbar\":{\"outlinewidth\":0,\"ticks\":\"\"},\"colorscale\":[[0.0,\"#0d0887\"],[0.1111111111111111,\"#46039f\"],[0.2222222222222222,\"#7201a8\"],[0.3333333333333333,\"#9c179e\"],[0.4444444444444444,\"#bd3786\"],[0.5555555555555556,\"#d8576b\"],[0.6666666666666666,\"#ed7953\"],[0.7777777777777778,\"#fb9f3a\"],[0.8888888888888888,\"#fdca26\"],[1.0,\"#f0f921\"]]}],\"contourcarpet\":[{\"type\":\"contourcarpet\",\"colorbar\":{\"outlinewidth\":0,\"ticks\":\"\"}}],\"contour\":[{\"type\":\"contour\",\"colorbar\":{\"outlinewidth\":0,\"ticks\":\"\"},\"colorscale\":[[0.0,\"#0d0887\"],[0.1111111111111111,\"#46039f\"],[0.2222222222222222,\"#7201a8\"],[0.3333333333333333,\"#9c179e\"],[0.4444444444444444,\"#bd3786\"],[0.5555555555555556,\"#d8576b\"],[0.6666666666666666,\"#ed7953\"],[0.7777777777777778,\"#fb9f3a\"],[0.8888888888888888,\"#fdca26\"],[1.0,\"#f0f921\"]]}],\"surface\":[{\"type\":\"surface\",\"colorbar\":{\"outlinewidth\":0,\"ticks\":\"\"},\"colorscale\":[[0.0,\"#0d0887\"],[0.1111111111111111,\"#46039f\"],[0.2222222222222222,\"#7201a8\"],[0.3333333333333333,\"#9c179e\"],[0.4444444444444444,\"#bd3786\"],[0.5555555555555556,\"#d8576b\"],[0.6666666666666666,\"#ed7953\"],[0.7777777777777778,\"#fb9f3a\"],[0.8888888888888888,\"#fdca26\"],[1.0,\"#f0f921\"]]}],\"mesh3d\":[{\"type\":\"mesh3d\",\"colorbar\":{\"outlinewidth\":0,\"ticks\":\"\"}}],\"scatter\":[{\"fillpattern\":{\"fillmode\":\"overlay\",\"size\":10,\"solidity\":0.2},\"type\":\"scatter\"}],\"parcoords\":[{\"type\":\"parcoords\",\"line\":{\"colorbar\":{\"outlinewidth\":0,\"ticks\":\"\"}}}],\"scatterpolargl\":[{\"type\":\"scatterpolargl\",\"marker\":{\"colorbar\":{\"outlinewidth\":0,\"ticks\":\"\"}}}],\"bar\":[{\"error_x\":{\"color\":\"#2a3f5f\"},\"error_y\":{\"color\":\"#2a3f5f\"},\"marker\":{\"line\":{\"color\":\"#E5ECF6\",\"width\":0.5},\"pattern\":{\"fillmode\":\"overlay\",\"size\":10,\"solidity\":0.2}},\"type\":\"bar\"}],\"scattergeo\":[{\"type\":\"scattergeo\",\"marker\":{\"colorbar\":{\"outlinewidth\":0,\"ticks\":\"\"}}}],\"scatterpolar\":[{\"type\":\"scatterpolar\",\"marker\":{\"colorbar\":{\"outlinewidth\":0,\"ticks\":\"\"}}}],\"histogram\":[{\"marker\":{\"pattern\":{\"fillmode\":\"overlay\",\"size\":10,\"solidity\":0.2}},\"type\":\"histogram\"}],\"scattergl\":[{\"type\":\"scattergl\",\"marker\":{\"colorbar\":{\"outlinewidth\":0,\"ticks\":\"\"}}}],\"scatter3d\":[{\"type\":\"scatter3d\",\"line\":{\"colorbar\":{\"outlinewidth\":0,\"ticks\":\"\"}},\"marker\":{\"colorbar\":{\"outlinewidth\":0,\"ticks\":\"\"}}}],\"scattermapbox\":[{\"type\":\"scattermapbox\",\"marker\":{\"colorbar\":{\"outlinewidth\":0,\"ticks\":\"\"}}}],\"scatterternary\":[{\"type\":\"scatterternary\",\"marker\":{\"colorbar\":{\"outlinewidth\":0,\"ticks\":\"\"}}}],\"scattercarpet\":[{\"type\":\"scattercarpet\",\"marker\":{\"colorbar\":{\"outlinewidth\":0,\"ticks\":\"\"}}}],\"carpet\":[{\"aaxis\":{\"endlinecolor\":\"#2a3f5f\",\"gridcolor\":\"white\",\"linecolor\":\"white\",\"minorgridcolor\":\"white\",\"startlinecolor\":\"#2a3f5f\"},\"baxis\":{\"endlinecolor\":\"#2a3f5f\",\"gridcolor\":\"white\",\"linecolor\":\"white\",\"minorgridcolor\":\"white\",\"startlinecolor\":\"#2a3f5f\"},\"type\":\"carpet\"}],\"table\":[{\"cells\":{\"fill\":{\"color\":\"#EBF0F8\"},\"line\":{\"color\":\"white\"}},\"header\":{\"fill\":{\"color\":\"#C8D4E3\"},\"line\":{\"color\":\"white\"}},\"type\":\"table\"}],\"barpolar\":[{\"marker\":{\"line\":{\"color\":\"#E5ECF6\",\"width\":0.5},\"pattern\":{\"fillmode\":\"overlay\",\"size\":10,\"solidity\":0.2}},\"type\":\"barpolar\"}],\"pie\":[{\"automargin\":true,\"type\":\"pie\"}]},\"layout\":{\"autotypenumbers\":\"strict\",\"colorway\":[\"#636efa\",\"#EF553B\",\"#00cc96\",\"#ab63fa\",\"#FFA15A\",\"#19d3f3\",\"#FF6692\",\"#B6E880\",\"#FF97FF\",\"#FECB52\"],\"font\":{\"color\":\"#2a3f5f\"},\"hovermode\":\"closest\",\"hoverlabel\":{\"align\":\"left\"},\"paper_bgcolor\":\"white\",\"plot_bgcolor\":\"#E5ECF6\",\"polar\":{\"bgcolor\":\"#E5ECF6\",\"angularaxis\":{\"gridcolor\":\"white\",\"linecolor\":\"white\",\"ticks\":\"\"},\"radialaxis\":{\"gridcolor\":\"white\",\"linecolor\":\"white\",\"ticks\":\"\"}},\"ternary\":{\"bgcolor\":\"#E5ECF6\",\"aaxis\":{\"gridcolor\":\"white\",\"linecolor\":\"white\",\"ticks\":\"\"},\"baxis\":{\"gridcolor\":\"white\",\"linecolor\":\"white\",\"ticks\":\"\"},\"caxis\":{\"gridcolor\":\"white\",\"linecolor\":\"white\",\"ticks\":\"\"}},\"coloraxis\":{\"colorbar\":{\"outlinewidth\":0,\"ticks\":\"\"}},\"colorscale\":{\"sequential\":[[0.0,\"#0d0887\"],[0.1111111111111111,\"#46039f\"],[0.2222222222222222,\"#7201a8\"],[0.3333333333333333,\"#9c179e\"],[0.4444444444444444,\"#bd3786\"],[0.5555555555555556,\"#d8576b\"],[0.6666666666666666,\"#ed7953\"],[0.7777777777777778,\"#fb9f3a\"],[0.8888888888888888,\"#fdca26\"],[1.0,\"#f0f921\"]],\"sequentialminus\":[[0.0,\"#0d0887\"],[0.1111111111111111,\"#46039f\"],[0.2222222222222222,\"#7201a8\"],[0.3333333333333333,\"#9c179e\"],[0.4444444444444444,\"#bd3786\"],[0.5555555555555556,\"#d8576b\"],[0.6666666666666666,\"#ed7953\"],[0.7777777777777778,\"#fb9f3a\"],[0.8888888888888888,\"#fdca26\"],[1.0,\"#f0f921\"]],\"diverging\":[[0,\"#8e0152\"],[0.1,\"#c51b7d\"],[0.2,\"#de77ae\"],[0.3,\"#f1b6da\"],[0.4,\"#fde0ef\"],[0.5,\"#f7f7f7\"],[0.6,\"#e6f5d0\"],[0.7,\"#b8e186\"],[0.8,\"#7fbc41\"],[0.9,\"#4d9221\"],[1,\"#276419\"]]},\"xaxis\":{\"gridcolor\":\"white\",\"linecolor\":\"white\",\"ticks\":\"\",\"title\":{\"standoff\":15},\"zerolinecolor\":\"white\",\"automargin\":true,\"zerolinewidth\":2},\"yaxis\":{\"gridcolor\":\"white\",\"linecolor\":\"white\",\"ticks\":\"\",\"title\":{\"standoff\":15},\"zerolinecolor\":\"white\",\"automargin\":true,\"zerolinewidth\":2},\"scene\":{\"xaxis\":{\"backgroundcolor\":\"#E5ECF6\",\"gridcolor\":\"white\",\"linecolor\":\"white\",\"showbackground\":true,\"ticks\":\"\",\"zerolinecolor\":\"white\",\"gridwidth\":2},\"yaxis\":{\"backgroundcolor\":\"#E5ECF6\",\"gridcolor\":\"white\",\"linecolor\":\"white\",\"showbackground\":true,\"ticks\":\"\",\"zerolinecolor\":\"white\",\"gridwidth\":2},\"zaxis\":{\"backgroundcolor\":\"#E5ECF6\",\"gridcolor\":\"white\",\"linecolor\":\"white\",\"showbackground\":true,\"ticks\":\"\",\"zerolinecolor\":\"white\",\"gridwidth\":2}},\"shapedefaults\":{\"line\":{\"color\":\"#2a3f5f\"}},\"annotationdefaults\":{\"arrowcolor\":\"#2a3f5f\",\"arrowhead\":0,\"arrowwidth\":1},\"geo\":{\"bgcolor\":\"white\",\"landcolor\":\"#E5ECF6\",\"subunitcolor\":\"white\",\"showland\":true,\"showlakes\":true,\"lakecolor\":\"white\"},\"title\":{\"x\":0.05},\"mapbox\":{\"style\":\"light\"}}},\"xaxis\":{\"anchor\":\"y\",\"domain\":[0.0,1.0],\"title\":{\"text\":\"Classifica\\u00e7\\u00f5es\"}},\"yaxis\":{\"anchor\":\"x\",\"domain\":[0.0,1.0],\"title\":{\"text\":\"2022 ( 1 ao 2)\"}},\"legend\":{\"title\":{\"text\":\"Municipio\"},\"tracegroupgap\":0},\"margin\":{\"t\":60},\"barmode\":\"group\",\"title\":{\"text\":\"Analise de Desempenho do Maci\\u00e7o de Baturit\\u00e9 ( Classificas\\u00f5es )\"}},                        {\"responsive\": true}                    ).then(function(){\n",
              "                            \n",
              "var gd = document.getElementById('f1d02fc4-eaa0-489f-84aa-74416b1c94eb');\n",
              "var x = new MutationObserver(function (mutations, observer) {{\n",
              "        var display = window.getComputedStyle(gd).display;\n",
              "        if (!display || display === 'none') {{\n",
              "            console.log([gd, 'removed!']);\n",
              "            Plotly.purge(gd);\n",
              "            observer.disconnect();\n",
              "        }}\n",
              "}});\n",
              "\n",
              "// Listen for the removal of the full notebook cells\n",
              "var notebookContainer = gd.closest('#notebook-container');\n",
              "if (notebookContainer) {{\n",
              "    x.observe(notebookContainer, {childList: true});\n",
              "}}\n",
              "\n",
              "// Listen for the clearing of the current output cell\n",
              "var outputEl = gd.closest('.output');\n",
              "if (outputEl) {{\n",
              "    x.observe(outputEl, {childList: true});\n",
              "}}\n",
              "\n",
              "                        })                };                            </script>        </div>\n",
              "</body>\n",
              "</html>"
            ]
          },
          "metadata": {}
        }
      ]
    },
    {
      "cell_type": "markdown",
      "source": [
        "# Classificação dos Municipios por Indicador"
      ],
      "metadata": {
        "id": "mdZXBW9FJWD0"
      }
    },
    {
      "cell_type": "markdown",
      "source": [],
      "metadata": {
        "id": "2qy2Qv_IRVC6"
      }
    },
    {
      "cell_type": "markdown",
      "source": [
        "## Indicador I  \n",
        "  >1. 2020 até 2022 (1 ao 2 Quadrimestre)"
      ],
      "metadata": {
        "id": "EUvQ8Le0J7oz"
      }
    },
    {
      "cell_type": "code",
      "source": [
        "indicador1 = bd.loc[bd['Indicador'] == 1]"
      ],
      "metadata": {
        "id": "kCxNeI3DJatw"
      },
      "execution_count": 102,
      "outputs": []
    },
    {
      "cell_type": "code",
      "source": [
        "indicador1.head()"
      ],
      "metadata": {
        "colab": {
          "base_uri": "https://localhost:8080/",
          "height": 317
        },
        "id": "pKeE4TA2Ji97",
        "outputId": "e9a3cbcd-af16-4bbe-cbc1-f58fdea09525"
      },
      "execution_count": 105,
      "outputs": [
        {
          "output_type": "execute_result",
          "data": {
            "text/plain": [
              "    Unnamed: 0  Municipio  Indicador  Q1_2020  Q1_2020.Porcent Classificação  \\\n",
              "0            0    Acarape        1.0     24.0             0.39      Razoavel   \n",
              "7            7  Aracoiaba        1.0     40.0             0.32      Razoavel   \n",
              "14          14    Aratuba        1.0      7.0             0.15          Ruim   \n",
              "21          21   Barreira        1.0     34.0             0.32      Razoavel   \n",
              "28          28   Baturite        1.0     32.0             0.23          Ruim   \n",
              "\n",
              "    Q2_2020  Q2_2020.Porcent Classificação.1  Q3_2020  ...  Q1_2022  \\\n",
              "0      22.0             0.37        Razoavel     25.0  ...     24.0   \n",
              "7      37.0             0.32        Razoavel     53.0  ...     37.0   \n",
              "14      6.0             0.13            Ruim      6.0  ...     30.0   \n",
              "21     26.0             0.25        Razoavel     34.0  ...     18.0   \n",
              "28     21.0             0.15            Ruim      4.0  ...     37.0   \n",
              "\n",
              "   Q1_2022.Porcent  Classificação.6  Q2_2022  Q2_2022.Porcent Classificação.7  \\\n",
              "0             0.36              Bom     22.0             0.35             Bom   \n",
              "7             0.32              Bom     53.0             0.52           Otimo   \n",
              "14            0.48            Otimo     20.0             0.38             Bom   \n",
              "21            0.18         Razoavel     23.0             0.26        Razoavel   \n",
              "28            0.29         Razoavel     34.0             0.24        Razoavel   \n",
              "\n",
              "    Q3_2022  Q3_2022.Porcent Classificação.8  Total_2022  \n",
              "0       NaN              NaN             NaN         NaN  \n",
              "7       NaN              NaN             NaN         NaN  \n",
              "14      NaN              NaN             NaN         NaN  \n",
              "21      NaN              NaN             NaN         NaN  \n",
              "28      NaN              NaN             NaN         NaN  \n",
              "\n",
              "[5 rows x 33 columns]"
            ],
            "text/html": [
              "\n",
              "  <div id=\"df-e516df1a-c666-4509-96d7-8d715cbd3d4a\">\n",
              "    <div class=\"colab-df-container\">\n",
              "      <div>\n",
              "<style scoped>\n",
              "    .dataframe tbody tr th:only-of-type {\n",
              "        vertical-align: middle;\n",
              "    }\n",
              "\n",
              "    .dataframe tbody tr th {\n",
              "        vertical-align: top;\n",
              "    }\n",
              "\n",
              "    .dataframe thead th {\n",
              "        text-align: right;\n",
              "    }\n",
              "</style>\n",
              "<table border=\"1\" class=\"dataframe\">\n",
              "  <thead>\n",
              "    <tr style=\"text-align: right;\">\n",
              "      <th></th>\n",
              "      <th>Unnamed: 0</th>\n",
              "      <th>Municipio</th>\n",
              "      <th>Indicador</th>\n",
              "      <th>Q1_2020</th>\n",
              "      <th>Q1_2020.Porcent</th>\n",
              "      <th>Classificação</th>\n",
              "      <th>Q2_2020</th>\n",
              "      <th>Q2_2020.Porcent</th>\n",
              "      <th>Classificação.1</th>\n",
              "      <th>Q3_2020</th>\n",
              "      <th>...</th>\n",
              "      <th>Q1_2022</th>\n",
              "      <th>Q1_2022.Porcent</th>\n",
              "      <th>Classificação.6</th>\n",
              "      <th>Q2_2022</th>\n",
              "      <th>Q2_2022.Porcent</th>\n",
              "      <th>Classificação.7</th>\n",
              "      <th>Q3_2022</th>\n",
              "      <th>Q3_2022.Porcent</th>\n",
              "      <th>Classificação.8</th>\n",
              "      <th>Total_2022</th>\n",
              "    </tr>\n",
              "  </thead>\n",
              "  <tbody>\n",
              "    <tr>\n",
              "      <th>0</th>\n",
              "      <td>0</td>\n",
              "      <td>Acarape</td>\n",
              "      <td>1.0</td>\n",
              "      <td>24.0</td>\n",
              "      <td>0.39</td>\n",
              "      <td>Razoavel</td>\n",
              "      <td>22.0</td>\n",
              "      <td>0.37</td>\n",
              "      <td>Razoavel</td>\n",
              "      <td>25.0</td>\n",
              "      <td>...</td>\n",
              "      <td>24.0</td>\n",
              "      <td>0.36</td>\n",
              "      <td>Bom</td>\n",
              "      <td>22.0</td>\n",
              "      <td>0.35</td>\n",
              "      <td>Bom</td>\n",
              "      <td>NaN</td>\n",
              "      <td>NaN</td>\n",
              "      <td>NaN</td>\n",
              "      <td>NaN</td>\n",
              "    </tr>\n",
              "    <tr>\n",
              "      <th>7</th>\n",
              "      <td>7</td>\n",
              "      <td>Aracoiaba</td>\n",
              "      <td>1.0</td>\n",
              "      <td>40.0</td>\n",
              "      <td>0.32</td>\n",
              "      <td>Razoavel</td>\n",
              "      <td>37.0</td>\n",
              "      <td>0.32</td>\n",
              "      <td>Razoavel</td>\n",
              "      <td>53.0</td>\n",
              "      <td>...</td>\n",
              "      <td>37.0</td>\n",
              "      <td>0.32</td>\n",
              "      <td>Bom</td>\n",
              "      <td>53.0</td>\n",
              "      <td>0.52</td>\n",
              "      <td>Otimo</td>\n",
              "      <td>NaN</td>\n",
              "      <td>NaN</td>\n",
              "      <td>NaN</td>\n",
              "      <td>NaN</td>\n",
              "    </tr>\n",
              "    <tr>\n",
              "      <th>14</th>\n",
              "      <td>14</td>\n",
              "      <td>Aratuba</td>\n",
              "      <td>1.0</td>\n",
              "      <td>7.0</td>\n",
              "      <td>0.15</td>\n",
              "      <td>Ruim</td>\n",
              "      <td>6.0</td>\n",
              "      <td>0.13</td>\n",
              "      <td>Ruim</td>\n",
              "      <td>6.0</td>\n",
              "      <td>...</td>\n",
              "      <td>30.0</td>\n",
              "      <td>0.48</td>\n",
              "      <td>Otimo</td>\n",
              "      <td>20.0</td>\n",
              "      <td>0.38</td>\n",
              "      <td>Bom</td>\n",
              "      <td>NaN</td>\n",
              "      <td>NaN</td>\n",
              "      <td>NaN</td>\n",
              "      <td>NaN</td>\n",
              "    </tr>\n",
              "    <tr>\n",
              "      <th>21</th>\n",
              "      <td>21</td>\n",
              "      <td>Barreira</td>\n",
              "      <td>1.0</td>\n",
              "      <td>34.0</td>\n",
              "      <td>0.32</td>\n",
              "      <td>Razoavel</td>\n",
              "      <td>26.0</td>\n",
              "      <td>0.25</td>\n",
              "      <td>Razoavel</td>\n",
              "      <td>34.0</td>\n",
              "      <td>...</td>\n",
              "      <td>18.0</td>\n",
              "      <td>0.18</td>\n",
              "      <td>Razoavel</td>\n",
              "      <td>23.0</td>\n",
              "      <td>0.26</td>\n",
              "      <td>Razoavel</td>\n",
              "      <td>NaN</td>\n",
              "      <td>NaN</td>\n",
              "      <td>NaN</td>\n",
              "      <td>NaN</td>\n",
              "    </tr>\n",
              "    <tr>\n",
              "      <th>28</th>\n",
              "      <td>28</td>\n",
              "      <td>Baturite</td>\n",
              "      <td>1.0</td>\n",
              "      <td>32.0</td>\n",
              "      <td>0.23</td>\n",
              "      <td>Ruim</td>\n",
              "      <td>21.0</td>\n",
              "      <td>0.15</td>\n",
              "      <td>Ruim</td>\n",
              "      <td>4.0</td>\n",
              "      <td>...</td>\n",
              "      <td>37.0</td>\n",
              "      <td>0.29</td>\n",
              "      <td>Razoavel</td>\n",
              "      <td>34.0</td>\n",
              "      <td>0.24</td>\n",
              "      <td>Razoavel</td>\n",
              "      <td>NaN</td>\n",
              "      <td>NaN</td>\n",
              "      <td>NaN</td>\n",
              "      <td>NaN</td>\n",
              "    </tr>\n",
              "  </tbody>\n",
              "</table>\n",
              "<p>5 rows × 33 columns</p>\n",
              "</div>\n",
              "      <button class=\"colab-df-convert\" onclick=\"convertToInteractive('df-e516df1a-c666-4509-96d7-8d715cbd3d4a')\"\n",
              "              title=\"Convert this dataframe to an interactive table.\"\n",
              "              style=\"display:none;\">\n",
              "        \n",
              "  <svg xmlns=\"http://www.w3.org/2000/svg\" height=\"24px\"viewBox=\"0 0 24 24\"\n",
              "       width=\"24px\">\n",
              "    <path d=\"M0 0h24v24H0V0z\" fill=\"none\"/>\n",
              "    <path d=\"M18.56 5.44l.94 2.06.94-2.06 2.06-.94-2.06-.94-.94-2.06-.94 2.06-2.06.94zm-11 1L8.5 8.5l.94-2.06 2.06-.94-2.06-.94L8.5 2.5l-.94 2.06-2.06.94zm10 10l.94 2.06.94-2.06 2.06-.94-2.06-.94-.94-2.06-.94 2.06-2.06.94z\"/><path d=\"M17.41 7.96l-1.37-1.37c-.4-.4-.92-.59-1.43-.59-.52 0-1.04.2-1.43.59L10.3 9.45l-7.72 7.72c-.78.78-.78 2.05 0 2.83L4 21.41c.39.39.9.59 1.41.59.51 0 1.02-.2 1.41-.59l7.78-7.78 2.81-2.81c.8-.78.8-2.07 0-2.86zM5.41 20L4 18.59l7.72-7.72 1.47 1.35L5.41 20z\"/>\n",
              "  </svg>\n",
              "      </button>\n",
              "      \n",
              "  <style>\n",
              "    .colab-df-container {\n",
              "      display:flex;\n",
              "      flex-wrap:wrap;\n",
              "      gap: 12px;\n",
              "    }\n",
              "\n",
              "    .colab-df-convert {\n",
              "      background-color: #E8F0FE;\n",
              "      border: none;\n",
              "      border-radius: 50%;\n",
              "      cursor: pointer;\n",
              "      display: none;\n",
              "      fill: #1967D2;\n",
              "      height: 32px;\n",
              "      padding: 0 0 0 0;\n",
              "      width: 32px;\n",
              "    }\n",
              "\n",
              "    .colab-df-convert:hover {\n",
              "      background-color: #E2EBFA;\n",
              "      box-shadow: 0px 1px 2px rgba(60, 64, 67, 0.3), 0px 1px 3px 1px rgba(60, 64, 67, 0.15);\n",
              "      fill: #174EA6;\n",
              "    }\n",
              "\n",
              "    [theme=dark] .colab-df-convert {\n",
              "      background-color: #3B4455;\n",
              "      fill: #D2E3FC;\n",
              "    }\n",
              "\n",
              "    [theme=dark] .colab-df-convert:hover {\n",
              "      background-color: #434B5C;\n",
              "      box-shadow: 0px 1px 3px 1px rgba(0, 0, 0, 0.15);\n",
              "      filter: drop-shadow(0px 1px 2px rgba(0, 0, 0, 0.3));\n",
              "      fill: #FFFFFF;\n",
              "    }\n",
              "  </style>\n",
              "\n",
              "      <script>\n",
              "        const buttonEl =\n",
              "          document.querySelector('#df-e516df1a-c666-4509-96d7-8d715cbd3d4a button.colab-df-convert');\n",
              "        buttonEl.style.display =\n",
              "          google.colab.kernel.accessAllowed ? 'block' : 'none';\n",
              "\n",
              "        async function convertToInteractive(key) {\n",
              "          const element = document.querySelector('#df-e516df1a-c666-4509-96d7-8d715cbd3d4a');\n",
              "          const dataTable =\n",
              "            await google.colab.kernel.invokeFunction('convertToInteractive',\n",
              "                                                     [key], {});\n",
              "          if (!dataTable) return;\n",
              "\n",
              "          const docLinkHtml = 'Like what you see? Visit the ' +\n",
              "            '<a target=\"_blank\" href=https://colab.research.google.com/notebooks/data_table.ipynb>data table notebook</a>'\n",
              "            + ' to learn more about interactive tables.';\n",
              "          element.innerHTML = '';\n",
              "          dataTable['output_type'] = 'display_data';\n",
              "          await google.colab.output.renderOutput(dataTable, element);\n",
              "          const docLink = document.createElement('div');\n",
              "          docLink.innerHTML = docLinkHtml;\n",
              "          element.appendChild(docLink);\n",
              "        }\n",
              "      </script>\n",
              "    </div>\n",
              "  </div>\n",
              "  "
            ]
          },
          "metadata": {},
          "execution_count": 105
        }
      ]
    },
    {
      "cell_type": "markdown",
      "source": [
        "### Analise: 2020 até 2022 (Segundo Quadrimestre) "
      ],
      "metadata": {
        "id": "rANLlIdMLQ0m"
      }
    },
    {
      "cell_type": "code",
      "source": [
        "grafico = px.bar(indicador1,\n",
        "                  hover_data= ['Indicador'],\n",
        "                  color = 'Municipio'\n",
        "                 ,y=['Classificação','Classificação.1','Classificação.2','Classificação.3','Classificação.4','Classificação.5','Classificação.6','Classificação.7'],\n",
        "                 barmode ='group'\n",
        "                 )\n",
        "grafico.update_layout(title = 'Analise de Desempenho do Maciço de Baturité ( Classificasões )')\n",
        "grafico.update_xaxes(title = 'Classificações')\n",
        "grafico.update_yaxes(title ='2020 - 2022 (1 AO 2 Quadrimestre)' ) \n",
        "grafico.show()"
      ],
      "metadata": {
        "colab": {
          "base_uri": "https://localhost:8080/",
          "height": 542
        },
        "id": "L0RBh5iCLpvi",
        "outputId": "3dee1b63-111a-4c5d-fcae-a31c63885a97"
      },
      "execution_count": 116,
      "outputs": [
        {
          "output_type": "display_data",
          "data": {
            "text/html": [
              "<html>\n",
              "<head><meta charset=\"utf-8\" /></head>\n",
              "<body>\n",
              "    <div>            <script src=\"https://cdnjs.cloudflare.com/ajax/libs/mathjax/2.7.5/MathJax.js?config=TeX-AMS-MML_SVG\"></script><script type=\"text/javascript\">if (window.MathJax && window.MathJax.Hub && window.MathJax.Hub.Config) {window.MathJax.Hub.Config({SVG: {font: \"STIX-Web\"}});}</script>                <script type=\"text/javascript\">window.PlotlyConfig = {MathJaxConfig: 'local'};</script>\n",
              "        <script src=\"https://cdn.plot.ly/plotly-2.16.1.min.js\"></script>                <div id=\"ed938be7-c012-48b9-883f-e507c6490d45\" class=\"plotly-graph-div\" style=\"height:525px; width:100%;\"></div>            <script type=\"text/javascript\">                                    window.PLOTLYENV=window.PLOTLYENV || {};                                    if (document.getElementById(\"ed938be7-c012-48b9-883f-e507c6490d45\")) {                    Plotly.newPlot(                        \"ed938be7-c012-48b9-883f-e507c6490d45\",                        [{\"alignmentgroup\":\"True\",\"customdata\":[[1.0],[1.0],[1.0],[1.0],[1.0],[1.0],[1.0],[1.0]],\"hovertemplate\":\"Municipio=Acarape<br>value=%{x}<br>count=%{y}<br>Indicador=%{customdata[0]}<extra></extra>\",\"legendgroup\":\"Acarape\",\"marker\":{\"color\":\"#636efa\",\"pattern\":{\"shape\":\"\"}},\"name\":\"Acarape\",\"offsetgroup\":\"Acarape\",\"orientation\":\"v\",\"showlegend\":true,\"textposition\":\"auto\",\"x\":[\"Razoavel\",\"Razoavel\",\"Razoavel\",\"Razoavel\",\"Razoavel\",\"Bom\",\"Bom\",\"Bom\"],\"xaxis\":\"x\",\"y\":[1,1,1,1,1,1,1,1],\"yaxis\":\"y\",\"type\":\"bar\"},{\"alignmentgroup\":\"True\",\"customdata\":[[1.0],[1.0],[1.0],[1.0],[1.0],[1.0],[1.0],[1.0]],\"hovertemplate\":\"Municipio=Aracoiaba<br>value=%{x}<br>count=%{y}<br>Indicador=%{customdata[0]}<extra></extra>\",\"legendgroup\":\"Aracoiaba\",\"marker\":{\"color\":\"#EF553B\",\"pattern\":{\"shape\":\"\"}},\"name\":\"Aracoiaba\",\"offsetgroup\":\"Aracoiaba\",\"orientation\":\"v\",\"showlegend\":true,\"textposition\":\"auto\",\"x\":[\"Razoavel\",\"Razoavel\",\"Bom\",\"Bom\",\"Bom\",\"Bom\",\"Bom\",\"Otimo\"],\"xaxis\":\"x\",\"y\":[1,1,1,1,1,1,1,1],\"yaxis\":\"y\",\"type\":\"bar\"},{\"alignmentgroup\":\"True\",\"customdata\":[[1.0],[1.0],[1.0],[1.0],[1.0],[1.0],[1.0],[1.0]],\"hovertemplate\":\"Municipio=Aratuba<br>value=%{x}<br>count=%{y}<br>Indicador=%{customdata[0]}<extra></extra>\",\"legendgroup\":\"Aratuba\",\"marker\":{\"color\":\"#00cc96\",\"pattern\":{\"shape\":\"\"}},\"name\":\"Aratuba\",\"offsetgroup\":\"Aratuba\",\"orientation\":\"v\",\"showlegend\":true,\"textposition\":\"auto\",\"x\":[\"Ruim\",\"Ruim\",\"Ruim\",\"Ruim\",\"Razoavel\",\"Otimo\",\"Otimo\",\"Bom\"],\"xaxis\":\"x\",\"y\":[1,1,1,1,1,1,1,1],\"yaxis\":\"y\",\"type\":\"bar\"},{\"alignmentgroup\":\"True\",\"customdata\":[[1.0],[1.0],[1.0],[1.0],[1.0],[1.0],[1.0],[1.0]],\"hovertemplate\":\"Municipio=Barreira<br>value=%{x}<br>count=%{y}<br>Indicador=%{customdata[0]}<extra></extra>\",\"legendgroup\":\"Barreira\",\"marker\":{\"color\":\"#ab63fa\",\"pattern\":{\"shape\":\"\"}},\"name\":\"Barreira\",\"offsetgroup\":\"Barreira\",\"orientation\":\"v\",\"showlegend\":true,\"textposition\":\"auto\",\"x\":[\"Razoavel\",\"Razoavel\",\"Razoavel\",\"Razoavel\",\"Razoavel\",\"Razoavel\",\"Razoavel\",\"Razoavel\"],\"xaxis\":\"x\",\"y\":[1,1,1,1,1,1,1,1],\"yaxis\":\"y\",\"type\":\"bar\"},{\"alignmentgroup\":\"True\",\"customdata\":[[1.0],[1.0],[1.0],[1.0],[1.0],[1.0],[1.0],[1.0]],\"hovertemplate\":\"Municipio=Baturite<br>value=%{x}<br>count=%{y}<br>Indicador=%{customdata[0]}<extra></extra>\",\"legendgroup\":\"Baturite\",\"marker\":{\"color\":\"#FFA15A\",\"pattern\":{\"shape\":\"\"}},\"name\":\"Baturite\",\"offsetgroup\":\"Baturite\",\"orientation\":\"v\",\"showlegend\":true,\"textposition\":\"auto\",\"x\":[\"Ruim\",\"Ruim\",\"Ruim\",\"Ruim\",\"Ruim\",\"Razoavel\",\"Razoavel\",\"Razoavel\"],\"xaxis\":\"x\",\"y\":[1,1,1,1,1,1,1,1],\"yaxis\":\"y\",\"type\":\"bar\"},{\"alignmentgroup\":\"True\",\"customdata\":[[1.0],[1.0],[1.0],[1.0],[1.0],[1.0],[1.0],[1.0]],\"hovertemplate\":\"Municipio=Capistrano<br>value=%{x}<br>count=%{y}<br>Indicador=%{customdata[0]}<extra></extra>\",\"legendgroup\":\"Capistrano\",\"marker\":{\"color\":\"#19d3f3\",\"pattern\":{\"shape\":\"\"}},\"name\":\"Capistrano\",\"offsetgroup\":\"Capistrano\",\"orientation\":\"v\",\"showlegend\":true,\"textposition\":\"auto\",\"x\":[\"Bom\",\"Razoavel\",\"Bom\",\"Otimo\",\"Otimo\",\"Otimo\",\"Otimo\",\"Otimo\"],\"xaxis\":\"x\",\"y\":[1,1,1,1,1,1,1,1],\"yaxis\":\"y\",\"type\":\"bar\"},{\"alignmentgroup\":\"True\",\"customdata\":[[1.0],[1.0],[1.0],[1.0],[1.0],[1.0],[1.0],[1.0]],\"hovertemplate\":\"Municipio=Guaramiranga<br>value=%{x}<br>count=%{y}<br>Indicador=%{customdata[0]}<extra></extra>\",\"legendgroup\":\"Guaramiranga\",\"marker\":{\"color\":\"#FF6692\",\"pattern\":{\"shape\":\"\"}},\"name\":\"Guaramiranga\",\"offsetgroup\":\"Guaramiranga\",\"orientation\":\"v\",\"showlegend\":true,\"textposition\":\"auto\",\"x\":[\"Razoavel\",\"Razoavel\",\"Bom\",\"Razoavel\",\"Otimo\",\"Otimo\",\"Otimo\",\"Otimo\"],\"xaxis\":\"x\",\"y\":[1,1,1,1,1,1,1,1],\"yaxis\":\"y\",\"type\":\"bar\"},{\"alignmentgroup\":\"True\",\"customdata\":[[1.0],[1.0],[1.0],[1.0],[1.0],[1.0],[1.0],[1.0]],\"hovertemplate\":\"Municipio=Itapiuna<br>value=%{x}<br>count=%{y}<br>Indicador=%{customdata[0]}<extra></extra>\",\"legendgroup\":\"Itapiuna\",\"marker\":{\"color\":\"#B6E880\",\"pattern\":{\"shape\":\"\"}},\"name\":\"Itapiuna\",\"offsetgroup\":\"Itapiuna\",\"orientation\":\"v\",\"showlegend\":true,\"textposition\":\"auto\",\"x\":[\"Ruim\",\"Ruim\",\"Ruim\",\"Ruim\",\"Razoavel\",\"Bom\",\"Bom\",\"Bom\"],\"xaxis\":\"x\",\"y\":[1,1,1,1,1,1,1,1],\"yaxis\":\"y\",\"type\":\"bar\"},{\"alignmentgroup\":\"True\",\"customdata\":[[1.0],[1.0],[1.0],[1.0],[1.0],[1.0],[1.0],[1.0]],\"hovertemplate\":\"Municipio=Mulungu<br>value=%{x}<br>count=%{y}<br>Indicador=%{customdata[0]}<extra></extra>\",\"legendgroup\":\"Mulungu\",\"marker\":{\"color\":\"#FF97FF\",\"pattern\":{\"shape\":\"\"}},\"name\":\"Mulungu\",\"offsetgroup\":\"Mulungu\",\"orientation\":\"v\",\"showlegend\":true,\"textposition\":\"auto\",\"x\":[\"Ruim\",\"Ruim\",\"Ruim\",\"Ruim\",\"Ruim\",\"Bom\",\"Otimo\",\"Otimo\"],\"xaxis\":\"x\",\"y\":[1,1,1,1,1,1,1,1],\"yaxis\":\"y\",\"type\":\"bar\"},{\"alignmentgroup\":\"True\",\"customdata\":[[1.0],[1.0],[1.0],[1.0],[1.0],[1.0],[1.0],[1.0]],\"hovertemplate\":\"Municipio=Ocora<br>value=%{x}<br>count=%{y}<br>Indicador=%{customdata[0]}<extra></extra>\",\"legendgroup\":\"Ocora\",\"marker\":{\"color\":\"#FECB52\",\"pattern\":{\"shape\":\"\"}},\"name\":\"Ocora\",\"offsetgroup\":\"Ocora\",\"orientation\":\"v\",\"showlegend\":true,\"textposition\":\"auto\",\"x\":[\"Bom\",\"Bom\",\"Razoavel\",\"Bom\",\"Bom\",\"Bom\",\"Otimo\",\"Otimo\"],\"xaxis\":\"x\",\"y\":[1,1,1,1,1,1,1,1],\"yaxis\":\"y\",\"type\":\"bar\"},{\"alignmentgroup\":\"True\",\"customdata\":[[1.0],[1.0],[1.0],[1.0],[1.0],[1.0],[1.0],[1.0]],\"hovertemplate\":\"Municipio=Pacoti<br>value=%{x}<br>count=%{y}<br>Indicador=%{customdata[0]}<extra></extra>\",\"legendgroup\":\"Pacoti\",\"marker\":{\"color\":\"#636efa\",\"pattern\":{\"shape\":\"\"}},\"name\":\"Pacoti\",\"offsetgroup\":\"Pacoti\",\"orientation\":\"v\",\"showlegend\":true,\"textposition\":\"auto\",\"x\":[\"Otimo\",\"Bom\",\"Bom\",\"Razoavel\",\"Bom\",\"Otimo\",\"Otimo\",\"Otimo\"],\"xaxis\":\"x\",\"y\":[1,1,1,1,1,1,1,1],\"yaxis\":\"y\",\"type\":\"bar\"},{\"alignmentgroup\":\"True\",\"customdata\":[[1.0],[1.0],[1.0],[1.0],[1.0],[1.0],[1.0],[1.0]],\"hovertemplate\":\"Municipio=Palmacia<br>value=%{x}<br>count=%{y}<br>Indicador=%{customdata[0]}<extra></extra>\",\"legendgroup\":\"Palmacia\",\"marker\":{\"color\":\"#EF553B\",\"pattern\":{\"shape\":\"\"}},\"name\":\"Palmacia\",\"offsetgroup\":\"Palmacia\",\"orientation\":\"v\",\"showlegend\":true,\"textposition\":\"auto\",\"x\":[\"Ruim\",\"Razoavel\",\"Bom\",\"Bom\",\"Bom\",\"Bom\",\"Otimo\",\"Bom\"],\"xaxis\":\"x\",\"y\":[1,1,1,1,1,1,1,1],\"yaxis\":\"y\",\"type\":\"bar\"},{\"alignmentgroup\":\"True\",\"customdata\":[[1.0],[1.0],[1.0],[1.0],[1.0],[1.0],[1.0],[1.0]],\"hovertemplate\":\"Municipio=Reden\\u00e7\\u00e3o<br>value=%{x}<br>count=%{y}<br>Indicador=%{customdata[0]}<extra></extra>\",\"legendgroup\":\"Reden\\u00e7\\u00e3o\",\"marker\":{\"color\":\"#00cc96\",\"pattern\":{\"shape\":\"\"}},\"name\":\"Reden\\u00e7\\u00e3o\",\"offsetgroup\":\"Reden\\u00e7\\u00e3o\",\"orientation\":\"v\",\"showlegend\":true,\"textposition\":\"auto\",\"x\":[\"Ruim\",\"Razoavel\",\"Razoavel\",\"Bom\",\"Bom\",\"Otimo\",\"Otimo\",\"Otimo\"],\"xaxis\":\"x\",\"y\":[1,1,1,1,1,1,1,1],\"yaxis\":\"y\",\"type\":\"bar\"}],                        {\"template\":{\"data\":{\"histogram2dcontour\":[{\"type\":\"histogram2dcontour\",\"colorbar\":{\"outlinewidth\":0,\"ticks\":\"\"},\"colorscale\":[[0.0,\"#0d0887\"],[0.1111111111111111,\"#46039f\"],[0.2222222222222222,\"#7201a8\"],[0.3333333333333333,\"#9c179e\"],[0.4444444444444444,\"#bd3786\"],[0.5555555555555556,\"#d8576b\"],[0.6666666666666666,\"#ed7953\"],[0.7777777777777778,\"#fb9f3a\"],[0.8888888888888888,\"#fdca26\"],[1.0,\"#f0f921\"]]}],\"choropleth\":[{\"type\":\"choropleth\",\"colorbar\":{\"outlinewidth\":0,\"ticks\":\"\"}}],\"histogram2d\":[{\"type\":\"histogram2d\",\"colorbar\":{\"outlinewidth\":0,\"ticks\":\"\"},\"colorscale\":[[0.0,\"#0d0887\"],[0.1111111111111111,\"#46039f\"],[0.2222222222222222,\"#7201a8\"],[0.3333333333333333,\"#9c179e\"],[0.4444444444444444,\"#bd3786\"],[0.5555555555555556,\"#d8576b\"],[0.6666666666666666,\"#ed7953\"],[0.7777777777777778,\"#fb9f3a\"],[0.8888888888888888,\"#fdca26\"],[1.0,\"#f0f921\"]]}],\"heatmap\":[{\"type\":\"heatmap\",\"colorbar\":{\"outlinewidth\":0,\"ticks\":\"\"},\"colorscale\":[[0.0,\"#0d0887\"],[0.1111111111111111,\"#46039f\"],[0.2222222222222222,\"#7201a8\"],[0.3333333333333333,\"#9c179e\"],[0.4444444444444444,\"#bd3786\"],[0.5555555555555556,\"#d8576b\"],[0.6666666666666666,\"#ed7953\"],[0.7777777777777778,\"#fb9f3a\"],[0.8888888888888888,\"#fdca26\"],[1.0,\"#f0f921\"]]}],\"heatmapgl\":[{\"type\":\"heatmapgl\",\"colorbar\":{\"outlinewidth\":0,\"ticks\":\"\"},\"colorscale\":[[0.0,\"#0d0887\"],[0.1111111111111111,\"#46039f\"],[0.2222222222222222,\"#7201a8\"],[0.3333333333333333,\"#9c179e\"],[0.4444444444444444,\"#bd3786\"],[0.5555555555555556,\"#d8576b\"],[0.6666666666666666,\"#ed7953\"],[0.7777777777777778,\"#fb9f3a\"],[0.8888888888888888,\"#fdca26\"],[1.0,\"#f0f921\"]]}],\"contourcarpet\":[{\"type\":\"contourcarpet\",\"colorbar\":{\"outlinewidth\":0,\"ticks\":\"\"}}],\"contour\":[{\"type\":\"contour\",\"colorbar\":{\"outlinewidth\":0,\"ticks\":\"\"},\"colorscale\":[[0.0,\"#0d0887\"],[0.1111111111111111,\"#46039f\"],[0.2222222222222222,\"#7201a8\"],[0.3333333333333333,\"#9c179e\"],[0.4444444444444444,\"#bd3786\"],[0.5555555555555556,\"#d8576b\"],[0.6666666666666666,\"#ed7953\"],[0.7777777777777778,\"#fb9f3a\"],[0.8888888888888888,\"#fdca26\"],[1.0,\"#f0f921\"]]}],\"surface\":[{\"type\":\"surface\",\"colorbar\":{\"outlinewidth\":0,\"ticks\":\"\"},\"colorscale\":[[0.0,\"#0d0887\"],[0.1111111111111111,\"#46039f\"],[0.2222222222222222,\"#7201a8\"],[0.3333333333333333,\"#9c179e\"],[0.4444444444444444,\"#bd3786\"],[0.5555555555555556,\"#d8576b\"],[0.6666666666666666,\"#ed7953\"],[0.7777777777777778,\"#fb9f3a\"],[0.8888888888888888,\"#fdca26\"],[1.0,\"#f0f921\"]]}],\"mesh3d\":[{\"type\":\"mesh3d\",\"colorbar\":{\"outlinewidth\":0,\"ticks\":\"\"}}],\"scatter\":[{\"fillpattern\":{\"fillmode\":\"overlay\",\"size\":10,\"solidity\":0.2},\"type\":\"scatter\"}],\"parcoords\":[{\"type\":\"parcoords\",\"line\":{\"colorbar\":{\"outlinewidth\":0,\"ticks\":\"\"}}}],\"scatterpolargl\":[{\"type\":\"scatterpolargl\",\"marker\":{\"colorbar\":{\"outlinewidth\":0,\"ticks\":\"\"}}}],\"bar\":[{\"error_x\":{\"color\":\"#2a3f5f\"},\"error_y\":{\"color\":\"#2a3f5f\"},\"marker\":{\"line\":{\"color\":\"#E5ECF6\",\"width\":0.5},\"pattern\":{\"fillmode\":\"overlay\",\"size\":10,\"solidity\":0.2}},\"type\":\"bar\"}],\"scattergeo\":[{\"type\":\"scattergeo\",\"marker\":{\"colorbar\":{\"outlinewidth\":0,\"ticks\":\"\"}}}],\"scatterpolar\":[{\"type\":\"scatterpolar\",\"marker\":{\"colorbar\":{\"outlinewidth\":0,\"ticks\":\"\"}}}],\"histogram\":[{\"marker\":{\"pattern\":{\"fillmode\":\"overlay\",\"size\":10,\"solidity\":0.2}},\"type\":\"histogram\"}],\"scattergl\":[{\"type\":\"scattergl\",\"marker\":{\"colorbar\":{\"outlinewidth\":0,\"ticks\":\"\"}}}],\"scatter3d\":[{\"type\":\"scatter3d\",\"line\":{\"colorbar\":{\"outlinewidth\":0,\"ticks\":\"\"}},\"marker\":{\"colorbar\":{\"outlinewidth\":0,\"ticks\":\"\"}}}],\"scattermapbox\":[{\"type\":\"scattermapbox\",\"marker\":{\"colorbar\":{\"outlinewidth\":0,\"ticks\":\"\"}}}],\"scatterternary\":[{\"type\":\"scatterternary\",\"marker\":{\"colorbar\":{\"outlinewidth\":0,\"ticks\":\"\"}}}],\"scattercarpet\":[{\"type\":\"scattercarpet\",\"marker\":{\"colorbar\":{\"outlinewidth\":0,\"ticks\":\"\"}}}],\"carpet\":[{\"aaxis\":{\"endlinecolor\":\"#2a3f5f\",\"gridcolor\":\"white\",\"linecolor\":\"white\",\"minorgridcolor\":\"white\",\"startlinecolor\":\"#2a3f5f\"},\"baxis\":{\"endlinecolor\":\"#2a3f5f\",\"gridcolor\":\"white\",\"linecolor\":\"white\",\"minorgridcolor\":\"white\",\"startlinecolor\":\"#2a3f5f\"},\"type\":\"carpet\"}],\"table\":[{\"cells\":{\"fill\":{\"color\":\"#EBF0F8\"},\"line\":{\"color\":\"white\"}},\"header\":{\"fill\":{\"color\":\"#C8D4E3\"},\"line\":{\"color\":\"white\"}},\"type\":\"table\"}],\"barpolar\":[{\"marker\":{\"line\":{\"color\":\"#E5ECF6\",\"width\":0.5},\"pattern\":{\"fillmode\":\"overlay\",\"size\":10,\"solidity\":0.2}},\"type\":\"barpolar\"}],\"pie\":[{\"automargin\":true,\"type\":\"pie\"}]},\"layout\":{\"autotypenumbers\":\"strict\",\"colorway\":[\"#636efa\",\"#EF553B\",\"#00cc96\",\"#ab63fa\",\"#FFA15A\",\"#19d3f3\",\"#FF6692\",\"#B6E880\",\"#FF97FF\",\"#FECB52\"],\"font\":{\"color\":\"#2a3f5f\"},\"hovermode\":\"closest\",\"hoverlabel\":{\"align\":\"left\"},\"paper_bgcolor\":\"white\",\"plot_bgcolor\":\"#E5ECF6\",\"polar\":{\"bgcolor\":\"#E5ECF6\",\"angularaxis\":{\"gridcolor\":\"white\",\"linecolor\":\"white\",\"ticks\":\"\"},\"radialaxis\":{\"gridcolor\":\"white\",\"linecolor\":\"white\",\"ticks\":\"\"}},\"ternary\":{\"bgcolor\":\"#E5ECF6\",\"aaxis\":{\"gridcolor\":\"white\",\"linecolor\":\"white\",\"ticks\":\"\"},\"baxis\":{\"gridcolor\":\"white\",\"linecolor\":\"white\",\"ticks\":\"\"},\"caxis\":{\"gridcolor\":\"white\",\"linecolor\":\"white\",\"ticks\":\"\"}},\"coloraxis\":{\"colorbar\":{\"outlinewidth\":0,\"ticks\":\"\"}},\"colorscale\":{\"sequential\":[[0.0,\"#0d0887\"],[0.1111111111111111,\"#46039f\"],[0.2222222222222222,\"#7201a8\"],[0.3333333333333333,\"#9c179e\"],[0.4444444444444444,\"#bd3786\"],[0.5555555555555556,\"#d8576b\"],[0.6666666666666666,\"#ed7953\"],[0.7777777777777778,\"#fb9f3a\"],[0.8888888888888888,\"#fdca26\"],[1.0,\"#f0f921\"]],\"sequentialminus\":[[0.0,\"#0d0887\"],[0.1111111111111111,\"#46039f\"],[0.2222222222222222,\"#7201a8\"],[0.3333333333333333,\"#9c179e\"],[0.4444444444444444,\"#bd3786\"],[0.5555555555555556,\"#d8576b\"],[0.6666666666666666,\"#ed7953\"],[0.7777777777777778,\"#fb9f3a\"],[0.8888888888888888,\"#fdca26\"],[1.0,\"#f0f921\"]],\"diverging\":[[0,\"#8e0152\"],[0.1,\"#c51b7d\"],[0.2,\"#de77ae\"],[0.3,\"#f1b6da\"],[0.4,\"#fde0ef\"],[0.5,\"#f7f7f7\"],[0.6,\"#e6f5d0\"],[0.7,\"#b8e186\"],[0.8,\"#7fbc41\"],[0.9,\"#4d9221\"],[1,\"#276419\"]]},\"xaxis\":{\"gridcolor\":\"white\",\"linecolor\":\"white\",\"ticks\":\"\",\"title\":{\"standoff\":15},\"zerolinecolor\":\"white\",\"automargin\":true,\"zerolinewidth\":2},\"yaxis\":{\"gridcolor\":\"white\",\"linecolor\":\"white\",\"ticks\":\"\",\"title\":{\"standoff\":15},\"zerolinecolor\":\"white\",\"automargin\":true,\"zerolinewidth\":2},\"scene\":{\"xaxis\":{\"backgroundcolor\":\"#E5ECF6\",\"gridcolor\":\"white\",\"linecolor\":\"white\",\"showbackground\":true,\"ticks\":\"\",\"zerolinecolor\":\"white\",\"gridwidth\":2},\"yaxis\":{\"backgroundcolor\":\"#E5ECF6\",\"gridcolor\":\"white\",\"linecolor\":\"white\",\"showbackground\":true,\"ticks\":\"\",\"zerolinecolor\":\"white\",\"gridwidth\":2},\"zaxis\":{\"backgroundcolor\":\"#E5ECF6\",\"gridcolor\":\"white\",\"linecolor\":\"white\",\"showbackground\":true,\"ticks\":\"\",\"zerolinecolor\":\"white\",\"gridwidth\":2}},\"shapedefaults\":{\"line\":{\"color\":\"#2a3f5f\"}},\"annotationdefaults\":{\"arrowcolor\":\"#2a3f5f\",\"arrowhead\":0,\"arrowwidth\":1},\"geo\":{\"bgcolor\":\"white\",\"landcolor\":\"#E5ECF6\",\"subunitcolor\":\"white\",\"showland\":true,\"showlakes\":true,\"lakecolor\":\"white\"},\"title\":{\"x\":0.05},\"mapbox\":{\"style\":\"light\"}}},\"xaxis\":{\"anchor\":\"y\",\"domain\":[0.0,1.0],\"title\":{\"text\":\"Classifica\\u00e7\\u00f5es\"}},\"yaxis\":{\"anchor\":\"x\",\"domain\":[0.0,1.0],\"title\":{\"text\":\"2020 - 2022 (1 AO 2 Quadrimestre)\"}},\"legend\":{\"title\":{\"text\":\"Municipio\"},\"tracegroupgap\":0},\"margin\":{\"t\":60},\"barmode\":\"group\",\"title\":{\"text\":\"Analise de Desempenho do Maci\\u00e7o de Baturit\\u00e9 ( Classificas\\u00f5es )\"}},                        {\"responsive\": true}                    ).then(function(){\n",
              "                            \n",
              "var gd = document.getElementById('ed938be7-c012-48b9-883f-e507c6490d45');\n",
              "var x = new MutationObserver(function (mutations, observer) {{\n",
              "        var display = window.getComputedStyle(gd).display;\n",
              "        if (!display || display === 'none') {{\n",
              "            console.log([gd, 'removed!']);\n",
              "            Plotly.purge(gd);\n",
              "            observer.disconnect();\n",
              "        }}\n",
              "}});\n",
              "\n",
              "// Listen for the removal of the full notebook cells\n",
              "var notebookContainer = gd.closest('#notebook-container');\n",
              "if (notebookContainer) {{\n",
              "    x.observe(notebookContainer, {childList: true});\n",
              "}}\n",
              "\n",
              "// Listen for the clearing of the current output cell\n",
              "var outputEl = gd.closest('.output');\n",
              "if (outputEl) {{\n",
              "    x.observe(outputEl, {childList: true});\n",
              "}}\n",
              "\n",
              "                        })                };                            </script>        </div>\n",
              "</body>\n",
              "</html>"
            ]
          },
          "metadata": {}
        }
      ]
    },
    {
      "cell_type": "markdown",
      "source": [
        "## Indicador 2\n",
        "  >2. 2020 até 2022 (1 ao 2 Quadrimestre)"
      ],
      "metadata": {
        "id": "ogFYa-gAOoF0"
      }
    },
    {
      "cell_type": "code",
      "source": [
        "indicador2 = bd.loc[bd['Indicador']== 2]"
      ],
      "metadata": {
        "id": "VTRldj7yOpkq"
      },
      "execution_count": 113,
      "outputs": []
    },
    {
      "cell_type": "code",
      "source": [
        "grafico = px.bar(indicador2,\n",
        "                  hover_data= ['Indicador'],\n",
        "                  color = 'Municipio'\n",
        "                 ,y=['Classificação','Classificação.1','Classificação.2','Classificação.3','Classificação.4','Classificação.5','Classificação.6','Classificação.7'],\n",
        "                 barmode ='group'\n",
        "                 )\n",
        "grafico.update_layout(title = 'Analise de Desempenho do Maciço de Baturité ( Classificasões )')\n",
        "grafico.update_xaxes(title = 'Classificações')\n",
        "grafico.update_yaxes(title ='2020 - 2022 (1 AO 2 Quadrimestre)' ) \n",
        "grafico.show()"
      ],
      "metadata": {
        "colab": {
          "base_uri": "https://localhost:8080/",
          "height": 542
        },
        "id": "PkLqk1MIO_tz",
        "outputId": "db35bff2-336e-4189-c057-50eee7b8a618"
      },
      "execution_count": 117,
      "outputs": [
        {
          "output_type": "display_data",
          "data": {
            "text/html": [
              "<html>\n",
              "<head><meta charset=\"utf-8\" /></head>\n",
              "<body>\n",
              "    <div>            <script src=\"https://cdnjs.cloudflare.com/ajax/libs/mathjax/2.7.5/MathJax.js?config=TeX-AMS-MML_SVG\"></script><script type=\"text/javascript\">if (window.MathJax && window.MathJax.Hub && window.MathJax.Hub.Config) {window.MathJax.Hub.Config({SVG: {font: \"STIX-Web\"}});}</script>                <script type=\"text/javascript\">window.PlotlyConfig = {MathJaxConfig: 'local'};</script>\n",
              "        <script src=\"https://cdn.plot.ly/plotly-2.16.1.min.js\"></script>                <div id=\"5b43a843-7351-46a2-8156-504de5d63932\" class=\"plotly-graph-div\" style=\"height:525px; width:100%;\"></div>            <script type=\"text/javascript\">                                    window.PLOTLYENV=window.PLOTLYENV || {};                                    if (document.getElementById(\"5b43a843-7351-46a2-8156-504de5d63932\")) {                    Plotly.newPlot(                        \"5b43a843-7351-46a2-8156-504de5d63932\",                        [{\"alignmentgroup\":\"True\",\"customdata\":[[2.0],[2.0],[2.0],[2.0],[2.0],[2.0],[2.0],[2.0]],\"hovertemplate\":\"Municipio=Acarape<br>value=%{x}<br>count=%{y}<br>Indicador=%{customdata[0]}<extra></extra>\",\"legendgroup\":\"Acarape\",\"marker\":{\"color\":\"#636efa\",\"pattern\":{\"shape\":\"\"}},\"name\":\"Acarape\",\"offsetgroup\":\"Acarape\",\"orientation\":\"v\",\"showlegend\":true,\"textposition\":\"auto\",\"x\":[\"Otimo\",\"Otimo\",\"Bom\",\"Otimo\",\"Bom\",\"Otimo\",\"Otimo\",\"Otimo\"],\"xaxis\":\"x\",\"y\":[1,1,1,1,1,1,1,1],\"yaxis\":\"y\",\"type\":\"bar\"},{\"alignmentgroup\":\"True\",\"customdata\":[[2.0],[2.0],[2.0],[2.0],[2.0],[2.0],[2.0],[2.0]],\"hovertemplate\":\"Municipio=Aracoiaba<br>value=%{x}<br>count=%{y}<br>Indicador=%{customdata[0]}<extra></extra>\",\"legendgroup\":\"Aracoiaba\",\"marker\":{\"color\":\"#EF553B\",\"pattern\":{\"shape\":\"\"}},\"name\":\"Aracoiaba\",\"offsetgroup\":\"Aracoiaba\",\"orientation\":\"v\",\"showlegend\":true,\"textposition\":\"auto\",\"x\":[\"Bom\",\"Razoavel\",\"Bom\",\"Bom\",\"Bom\",\"Bom\",\"Bom\",\"Otimo\"],\"xaxis\":\"x\",\"y\":[1,1,1,1,1,1,1,1],\"yaxis\":\"y\",\"type\":\"bar\"},{\"alignmentgroup\":\"True\",\"customdata\":[[2.0],[2.0],[2.0],[2.0],[2.0],[2.0],[2.0],[2.0]],\"hovertemplate\":\"Municipio=Aratuba<br>value=%{x}<br>count=%{y}<br>Indicador=%{customdata[0]}<extra></extra>\",\"legendgroup\":\"Aratuba\",\"marker\":{\"color\":\"#00cc96\",\"pattern\":{\"shape\":\"\"}},\"name\":\"Aratuba\",\"offsetgroup\":\"Aratuba\",\"orientation\":\"v\",\"showlegend\":true,\"textposition\":\"auto\",\"x\":[\"Ruim\",\"Ruim\",\"Ruim\",\"Razoavel\",\"Bom\",\"Otimo\",\"Otimo\",\"Otimo\"],\"xaxis\":\"x\",\"y\":[1,1,1,1,1,1,1,1],\"yaxis\":\"y\",\"type\":\"bar\"},{\"alignmentgroup\":\"True\",\"customdata\":[[2.0],[2.0],[2.0],[2.0],[2.0],[2.0],[2.0],[2.0]],\"hovertemplate\":\"Municipio=Barreira<br>value=%{x}<br>count=%{y}<br>Indicador=%{customdata[0]}<extra></extra>\",\"legendgroup\":\"Barreira\",\"marker\":{\"color\":\"#ab63fa\",\"pattern\":{\"shape\":\"\"}},\"name\":\"Barreira\",\"offsetgroup\":\"Barreira\",\"orientation\":\"v\",\"showlegend\":true,\"textposition\":\"auto\",\"x\":[\"Bom\",\"Bom\",\"Bom\",\"Bom\",\"Bom\",\"Bom\",\"Bom\",\"Otimo\"],\"xaxis\":\"x\",\"y\":[1,1,1,1,1,1,1,1],\"yaxis\":\"y\",\"type\":\"bar\"},{\"alignmentgroup\":\"True\",\"customdata\":[[2.0],[2.0],[2.0],[2.0],[2.0],[2.0],[2.0],[2.0]],\"hovertemplate\":\"Municipio=Baturite<br>value=%{x}<br>count=%{y}<br>Indicador=%{customdata[0]}<extra></extra>\",\"legendgroup\":\"Baturite\",\"marker\":{\"color\":\"#FFA15A\",\"pattern\":{\"shape\":\"\"}},\"name\":\"Baturite\",\"offsetgroup\":\"Baturite\",\"orientation\":\"v\",\"showlegend\":true,\"textposition\":\"auto\",\"x\":[\"Razoavel\",\"Bom\",\"Razoavel\",\"Razoavel\",\"Razoavel\",\"Otimo\",\"Otimo\",\"Otimo\"],\"xaxis\":\"x\",\"y\":[1,1,1,1,1,1,1,1],\"yaxis\":\"y\",\"type\":\"bar\"},{\"alignmentgroup\":\"True\",\"customdata\":[[2.0],[2.0],[2.0],[2.0],[2.0],[2.0],[2.0],[2.0]],\"hovertemplate\":\"Municipio=Capistrano<br>value=%{x}<br>count=%{y}<br>Indicador=%{customdata[0]}<extra></extra>\",\"legendgroup\":\"Capistrano\",\"marker\":{\"color\":\"#19d3f3\",\"pattern\":{\"shape\":\"\"}},\"name\":\"Capistrano\",\"offsetgroup\":\"Capistrano\",\"orientation\":\"v\",\"showlegend\":true,\"textposition\":\"auto\",\"x\":[\"Bom\",\"Otimo\",\"Otimo\",\"Otimo\",\"Otimo\",\"Otimo\",\"Otimo\",\"Otimo\"],\"xaxis\":\"x\",\"y\":[1,1,1,1,1,1,1,1],\"yaxis\":\"y\",\"type\":\"bar\"},{\"alignmentgroup\":\"True\",\"customdata\":[[2.0],[2.0],[2.0],[2.0],[2.0],[2.0],[2.0],[2.0]],\"hovertemplate\":\"Municipio=Guaramiranga<br>value=%{x}<br>count=%{y}<br>Indicador=%{customdata[0]}<extra></extra>\",\"legendgroup\":\"Guaramiranga\",\"marker\":{\"color\":\"#FF6692\",\"pattern\":{\"shape\":\"\"}},\"name\":\"Guaramiranga\",\"offsetgroup\":\"Guaramiranga\",\"orientation\":\"v\",\"showlegend\":true,\"textposition\":\"auto\",\"x\":[\"Bom\",\"Bom\",\"Razoavel\",\"Razoavel\",\"Otimo\",\"Otimo\",\"Otimo\",\"Otimo\"],\"xaxis\":\"x\",\"y\":[1,1,1,1,1,1,1,1],\"yaxis\":\"y\",\"type\":\"bar\"},{\"alignmentgroup\":\"True\",\"customdata\":[[2.0],[2.0],[2.0],[2.0],[2.0],[2.0],[2.0],[2.0]],\"hovertemplate\":\"Municipio=Itapiuna<br>value=%{x}<br>count=%{y}<br>Indicador=%{customdata[0]}<extra></extra>\",\"legendgroup\":\"Itapiuna\",\"marker\":{\"color\":\"#B6E880\",\"pattern\":{\"shape\":\"\"}},\"name\":\"Itapiuna\",\"offsetgroup\":\"Itapiuna\",\"orientation\":\"v\",\"showlegend\":true,\"textposition\":\"auto\",\"x\":[\"Ruim\",\"Ruim\",\"Ruim\",\"Bom\",\"Otimo\",\"Otimo\",\"Otimo\",\"Otimo\"],\"xaxis\":\"x\",\"y\":[1,1,1,1,1,1,1,1],\"yaxis\":\"y\",\"type\":\"bar\"},{\"alignmentgroup\":\"True\",\"customdata\":[[2.0],[2.0],[2.0],[2.0],[2.0],[2.0],[2.0],[2.0]],\"hovertemplate\":\"Municipio=Mulungu<br>value=%{x}<br>count=%{y}<br>Indicador=%{customdata[0]}<extra></extra>\",\"legendgroup\":\"Mulungu\",\"marker\":{\"color\":\"#FF97FF\",\"pattern\":{\"shape\":\"\"}},\"name\":\"Mulungu\",\"offsetgroup\":\"Mulungu\",\"orientation\":\"v\",\"showlegend\":true,\"textposition\":\"auto\",\"x\":[\"Ruim\",\"Ruim\",\"Ruim\",\"Ruim\",\"Bom\",\"Otimo\",\"Otimo\",\"Otimo\"],\"xaxis\":\"x\",\"y\":[1,1,1,1,1,1,1,1],\"yaxis\":\"y\",\"type\":\"bar\"},{\"alignmentgroup\":\"True\",\"customdata\":[[2.0],[2.0],[2.0],[2.0],[2.0],[2.0],[2.0],[2.0]],\"hovertemplate\":\"Municipio=Ocora<br>value=%{x}<br>count=%{y}<br>Indicador=%{customdata[0]}<extra></extra>\",\"legendgroup\":\"Ocora\",\"marker\":{\"color\":\"#FECB52\",\"pattern\":{\"shape\":\"\"}},\"name\":\"Ocora\",\"offsetgroup\":\"Ocora\",\"orientation\":\"v\",\"showlegend\":true,\"textposition\":\"auto\",\"x\":[\"Bom\",\"Otimo\",\"Bom\",\"Otimo\",\"Bom\",\"Otimo\",\"Otimo\",\"Otimo\"],\"xaxis\":\"x\",\"y\":[1,1,1,1,1,1,1,1],\"yaxis\":\"y\",\"type\":\"bar\"},{\"alignmentgroup\":\"True\",\"customdata\":[[2.0],[2.0],[2.0],[2.0],[2.0],[2.0],[2.0],[2.0]],\"hovertemplate\":\"Municipio=Pacoti<br>value=%{x}<br>count=%{y}<br>Indicador=%{customdata[0]}<extra></extra>\",\"legendgroup\":\"Pacoti\",\"marker\":{\"color\":\"#636efa\",\"pattern\":{\"shape\":\"\"}},\"name\":\"Pacoti\",\"offsetgroup\":\"Pacoti\",\"orientation\":\"v\",\"showlegend\":true,\"textposition\":\"auto\",\"x\":[\"Otimo\",\"Otimo\",\"Otimo\",\"Bom\",\"Otimo\",\"Otimo\",\"Otimo\",\"Otimo\"],\"xaxis\":\"x\",\"y\":[1,1,1,1,1,1,1,1],\"yaxis\":\"y\",\"type\":\"bar\"},{\"alignmentgroup\":\"True\",\"customdata\":[[2.0],[2.0],[2.0],[2.0],[2.0],[2.0],[2.0],[2.0]],\"hovertemplate\":\"Municipio=Palmacia<br>value=%{x}<br>count=%{y}<br>Indicador=%{customdata[0]}<extra></extra>\",\"legendgroup\":\"Palmacia\",\"marker\":{\"color\":\"#EF553B\",\"pattern\":{\"shape\":\"\"}},\"name\":\"Palmacia\",\"offsetgroup\":\"Palmacia\",\"orientation\":\"v\",\"showlegend\":true,\"textposition\":\"auto\",\"x\":[\"Otimo\",\"Otimo\",\"Otimo\",\"Otimo\",\"Otimo\",\"Otimo\",\"Otimo\",\"Otimo\"],\"xaxis\":\"x\",\"y\":[1,1,1,1,1,1,1,1],\"yaxis\":\"y\",\"type\":\"bar\"},{\"alignmentgroup\":\"True\",\"customdata\":[[2.0],[2.0],[2.0],[2.0],[2.0],[2.0],[2.0],[2.0]],\"hovertemplate\":\"Municipio=Reden\\u00e7\\u00e3o<br>value=%{x}<br>count=%{y}<br>Indicador=%{customdata[0]}<extra></extra>\",\"legendgroup\":\"Reden\\u00e7\\u00e3o\",\"marker\":{\"color\":\"#00cc96\",\"pattern\":{\"shape\":\"\"}},\"name\":\"Reden\\u00e7\\u00e3o\",\"offsetgroup\":\"Reden\\u00e7\\u00e3o\",\"orientation\":\"v\",\"showlegend\":true,\"textposition\":\"auto\",\"x\":[\"Razoavel\",\"Bom\",\"Bom\",\"Otimo\",\"Otimo\",\"Otimo\",\"Otimo\",\"Otimo\"],\"xaxis\":\"x\",\"y\":[1,1,1,1,1,1,1,1],\"yaxis\":\"y\",\"type\":\"bar\"}],                        {\"template\":{\"data\":{\"histogram2dcontour\":[{\"type\":\"histogram2dcontour\",\"colorbar\":{\"outlinewidth\":0,\"ticks\":\"\"},\"colorscale\":[[0.0,\"#0d0887\"],[0.1111111111111111,\"#46039f\"],[0.2222222222222222,\"#7201a8\"],[0.3333333333333333,\"#9c179e\"],[0.4444444444444444,\"#bd3786\"],[0.5555555555555556,\"#d8576b\"],[0.6666666666666666,\"#ed7953\"],[0.7777777777777778,\"#fb9f3a\"],[0.8888888888888888,\"#fdca26\"],[1.0,\"#f0f921\"]]}],\"choropleth\":[{\"type\":\"choropleth\",\"colorbar\":{\"outlinewidth\":0,\"ticks\":\"\"}}],\"histogram2d\":[{\"type\":\"histogram2d\",\"colorbar\":{\"outlinewidth\":0,\"ticks\":\"\"},\"colorscale\":[[0.0,\"#0d0887\"],[0.1111111111111111,\"#46039f\"],[0.2222222222222222,\"#7201a8\"],[0.3333333333333333,\"#9c179e\"],[0.4444444444444444,\"#bd3786\"],[0.5555555555555556,\"#d8576b\"],[0.6666666666666666,\"#ed7953\"],[0.7777777777777778,\"#fb9f3a\"],[0.8888888888888888,\"#fdca26\"],[1.0,\"#f0f921\"]]}],\"heatmap\":[{\"type\":\"heatmap\",\"colorbar\":{\"outlinewidth\":0,\"ticks\":\"\"},\"colorscale\":[[0.0,\"#0d0887\"],[0.1111111111111111,\"#46039f\"],[0.2222222222222222,\"#7201a8\"],[0.3333333333333333,\"#9c179e\"],[0.4444444444444444,\"#bd3786\"],[0.5555555555555556,\"#d8576b\"],[0.6666666666666666,\"#ed7953\"],[0.7777777777777778,\"#fb9f3a\"],[0.8888888888888888,\"#fdca26\"],[1.0,\"#f0f921\"]]}],\"heatmapgl\":[{\"type\":\"heatmapgl\",\"colorbar\":{\"outlinewidth\":0,\"ticks\":\"\"},\"colorscale\":[[0.0,\"#0d0887\"],[0.1111111111111111,\"#46039f\"],[0.2222222222222222,\"#7201a8\"],[0.3333333333333333,\"#9c179e\"],[0.4444444444444444,\"#bd3786\"],[0.5555555555555556,\"#d8576b\"],[0.6666666666666666,\"#ed7953\"],[0.7777777777777778,\"#fb9f3a\"],[0.8888888888888888,\"#fdca26\"],[1.0,\"#f0f921\"]]}],\"contourcarpet\":[{\"type\":\"contourcarpet\",\"colorbar\":{\"outlinewidth\":0,\"ticks\":\"\"}}],\"contour\":[{\"type\":\"contour\",\"colorbar\":{\"outlinewidth\":0,\"ticks\":\"\"},\"colorscale\":[[0.0,\"#0d0887\"],[0.1111111111111111,\"#46039f\"],[0.2222222222222222,\"#7201a8\"],[0.3333333333333333,\"#9c179e\"],[0.4444444444444444,\"#bd3786\"],[0.5555555555555556,\"#d8576b\"],[0.6666666666666666,\"#ed7953\"],[0.7777777777777778,\"#fb9f3a\"],[0.8888888888888888,\"#fdca26\"],[1.0,\"#f0f921\"]]}],\"surface\":[{\"type\":\"surface\",\"colorbar\":{\"outlinewidth\":0,\"ticks\":\"\"},\"colorscale\":[[0.0,\"#0d0887\"],[0.1111111111111111,\"#46039f\"],[0.2222222222222222,\"#7201a8\"],[0.3333333333333333,\"#9c179e\"],[0.4444444444444444,\"#bd3786\"],[0.5555555555555556,\"#d8576b\"],[0.6666666666666666,\"#ed7953\"],[0.7777777777777778,\"#fb9f3a\"],[0.8888888888888888,\"#fdca26\"],[1.0,\"#f0f921\"]]}],\"mesh3d\":[{\"type\":\"mesh3d\",\"colorbar\":{\"outlinewidth\":0,\"ticks\":\"\"}}],\"scatter\":[{\"fillpattern\":{\"fillmode\":\"overlay\",\"size\":10,\"solidity\":0.2},\"type\":\"scatter\"}],\"parcoords\":[{\"type\":\"parcoords\",\"line\":{\"colorbar\":{\"outlinewidth\":0,\"ticks\":\"\"}}}],\"scatterpolargl\":[{\"type\":\"scatterpolargl\",\"marker\":{\"colorbar\":{\"outlinewidth\":0,\"ticks\":\"\"}}}],\"bar\":[{\"error_x\":{\"color\":\"#2a3f5f\"},\"error_y\":{\"color\":\"#2a3f5f\"},\"marker\":{\"line\":{\"color\":\"#E5ECF6\",\"width\":0.5},\"pattern\":{\"fillmode\":\"overlay\",\"size\":10,\"solidity\":0.2}},\"type\":\"bar\"}],\"scattergeo\":[{\"type\":\"scattergeo\",\"marker\":{\"colorbar\":{\"outlinewidth\":0,\"ticks\":\"\"}}}],\"scatterpolar\":[{\"type\":\"scatterpolar\",\"marker\":{\"colorbar\":{\"outlinewidth\":0,\"ticks\":\"\"}}}],\"histogram\":[{\"marker\":{\"pattern\":{\"fillmode\":\"overlay\",\"size\":10,\"solidity\":0.2}},\"type\":\"histogram\"}],\"scattergl\":[{\"type\":\"scattergl\",\"marker\":{\"colorbar\":{\"outlinewidth\":0,\"ticks\":\"\"}}}],\"scatter3d\":[{\"type\":\"scatter3d\",\"line\":{\"colorbar\":{\"outlinewidth\":0,\"ticks\":\"\"}},\"marker\":{\"colorbar\":{\"outlinewidth\":0,\"ticks\":\"\"}}}],\"scattermapbox\":[{\"type\":\"scattermapbox\",\"marker\":{\"colorbar\":{\"outlinewidth\":0,\"ticks\":\"\"}}}],\"scatterternary\":[{\"type\":\"scatterternary\",\"marker\":{\"colorbar\":{\"outlinewidth\":0,\"ticks\":\"\"}}}],\"scattercarpet\":[{\"type\":\"scattercarpet\",\"marker\":{\"colorbar\":{\"outlinewidth\":0,\"ticks\":\"\"}}}],\"carpet\":[{\"aaxis\":{\"endlinecolor\":\"#2a3f5f\",\"gridcolor\":\"white\",\"linecolor\":\"white\",\"minorgridcolor\":\"white\",\"startlinecolor\":\"#2a3f5f\"},\"baxis\":{\"endlinecolor\":\"#2a3f5f\",\"gridcolor\":\"white\",\"linecolor\":\"white\",\"minorgridcolor\":\"white\",\"startlinecolor\":\"#2a3f5f\"},\"type\":\"carpet\"}],\"table\":[{\"cells\":{\"fill\":{\"color\":\"#EBF0F8\"},\"line\":{\"color\":\"white\"}},\"header\":{\"fill\":{\"color\":\"#C8D4E3\"},\"line\":{\"color\":\"white\"}},\"type\":\"table\"}],\"barpolar\":[{\"marker\":{\"line\":{\"color\":\"#E5ECF6\",\"width\":0.5},\"pattern\":{\"fillmode\":\"overlay\",\"size\":10,\"solidity\":0.2}},\"type\":\"barpolar\"}],\"pie\":[{\"automargin\":true,\"type\":\"pie\"}]},\"layout\":{\"autotypenumbers\":\"strict\",\"colorway\":[\"#636efa\",\"#EF553B\",\"#00cc96\",\"#ab63fa\",\"#FFA15A\",\"#19d3f3\",\"#FF6692\",\"#B6E880\",\"#FF97FF\",\"#FECB52\"],\"font\":{\"color\":\"#2a3f5f\"},\"hovermode\":\"closest\",\"hoverlabel\":{\"align\":\"left\"},\"paper_bgcolor\":\"white\",\"plot_bgcolor\":\"#E5ECF6\",\"polar\":{\"bgcolor\":\"#E5ECF6\",\"angularaxis\":{\"gridcolor\":\"white\",\"linecolor\":\"white\",\"ticks\":\"\"},\"radialaxis\":{\"gridcolor\":\"white\",\"linecolor\":\"white\",\"ticks\":\"\"}},\"ternary\":{\"bgcolor\":\"#E5ECF6\",\"aaxis\":{\"gridcolor\":\"white\",\"linecolor\":\"white\",\"ticks\":\"\"},\"baxis\":{\"gridcolor\":\"white\",\"linecolor\":\"white\",\"ticks\":\"\"},\"caxis\":{\"gridcolor\":\"white\",\"linecolor\":\"white\",\"ticks\":\"\"}},\"coloraxis\":{\"colorbar\":{\"outlinewidth\":0,\"ticks\":\"\"}},\"colorscale\":{\"sequential\":[[0.0,\"#0d0887\"],[0.1111111111111111,\"#46039f\"],[0.2222222222222222,\"#7201a8\"],[0.3333333333333333,\"#9c179e\"],[0.4444444444444444,\"#bd3786\"],[0.5555555555555556,\"#d8576b\"],[0.6666666666666666,\"#ed7953\"],[0.7777777777777778,\"#fb9f3a\"],[0.8888888888888888,\"#fdca26\"],[1.0,\"#f0f921\"]],\"sequentialminus\":[[0.0,\"#0d0887\"],[0.1111111111111111,\"#46039f\"],[0.2222222222222222,\"#7201a8\"],[0.3333333333333333,\"#9c179e\"],[0.4444444444444444,\"#bd3786\"],[0.5555555555555556,\"#d8576b\"],[0.6666666666666666,\"#ed7953\"],[0.7777777777777778,\"#fb9f3a\"],[0.8888888888888888,\"#fdca26\"],[1.0,\"#f0f921\"]],\"diverging\":[[0,\"#8e0152\"],[0.1,\"#c51b7d\"],[0.2,\"#de77ae\"],[0.3,\"#f1b6da\"],[0.4,\"#fde0ef\"],[0.5,\"#f7f7f7\"],[0.6,\"#e6f5d0\"],[0.7,\"#b8e186\"],[0.8,\"#7fbc41\"],[0.9,\"#4d9221\"],[1,\"#276419\"]]},\"xaxis\":{\"gridcolor\":\"white\",\"linecolor\":\"white\",\"ticks\":\"\",\"title\":{\"standoff\":15},\"zerolinecolor\":\"white\",\"automargin\":true,\"zerolinewidth\":2},\"yaxis\":{\"gridcolor\":\"white\",\"linecolor\":\"white\",\"ticks\":\"\",\"title\":{\"standoff\":15},\"zerolinecolor\":\"white\",\"automargin\":true,\"zerolinewidth\":2},\"scene\":{\"xaxis\":{\"backgroundcolor\":\"#E5ECF6\",\"gridcolor\":\"white\",\"linecolor\":\"white\",\"showbackground\":true,\"ticks\":\"\",\"zerolinecolor\":\"white\",\"gridwidth\":2},\"yaxis\":{\"backgroundcolor\":\"#E5ECF6\",\"gridcolor\":\"white\",\"linecolor\":\"white\",\"showbackground\":true,\"ticks\":\"\",\"zerolinecolor\":\"white\",\"gridwidth\":2},\"zaxis\":{\"backgroundcolor\":\"#E5ECF6\",\"gridcolor\":\"white\",\"linecolor\":\"white\",\"showbackground\":true,\"ticks\":\"\",\"zerolinecolor\":\"white\",\"gridwidth\":2}},\"shapedefaults\":{\"line\":{\"color\":\"#2a3f5f\"}},\"annotationdefaults\":{\"arrowcolor\":\"#2a3f5f\",\"arrowhead\":0,\"arrowwidth\":1},\"geo\":{\"bgcolor\":\"white\",\"landcolor\":\"#E5ECF6\",\"subunitcolor\":\"white\",\"showland\":true,\"showlakes\":true,\"lakecolor\":\"white\"},\"title\":{\"x\":0.05},\"mapbox\":{\"style\":\"light\"}}},\"xaxis\":{\"anchor\":\"y\",\"domain\":[0.0,1.0],\"title\":{\"text\":\"Classifica\\u00e7\\u00f5es\"}},\"yaxis\":{\"anchor\":\"x\",\"domain\":[0.0,1.0],\"title\":{\"text\":\"2020 - 2022 (1 AO 2 Quadrimestre)\"}},\"legend\":{\"title\":{\"text\":\"Municipio\"},\"tracegroupgap\":0},\"margin\":{\"t\":60},\"barmode\":\"group\",\"title\":{\"text\":\"Analise de Desempenho do Maci\\u00e7o de Baturit\\u00e9 ( Classificas\\u00f5es )\"}},                        {\"responsive\": true}                    ).then(function(){\n",
              "                            \n",
              "var gd = document.getElementById('5b43a843-7351-46a2-8156-504de5d63932');\n",
              "var x = new MutationObserver(function (mutations, observer) {{\n",
              "        var display = window.getComputedStyle(gd).display;\n",
              "        if (!display || display === 'none') {{\n",
              "            console.log([gd, 'removed!']);\n",
              "            Plotly.purge(gd);\n",
              "            observer.disconnect();\n",
              "        }}\n",
              "}});\n",
              "\n",
              "// Listen for the removal of the full notebook cells\n",
              "var notebookContainer = gd.closest('#notebook-container');\n",
              "if (notebookContainer) {{\n",
              "    x.observe(notebookContainer, {childList: true});\n",
              "}}\n",
              "\n",
              "// Listen for the clearing of the current output cell\n",
              "var outputEl = gd.closest('.output');\n",
              "if (outputEl) {{\n",
              "    x.observe(outputEl, {childList: true});\n",
              "}}\n",
              "\n",
              "                        })                };                            </script>        </div>\n",
              "</body>\n",
              "</html>"
            ]
          },
          "metadata": {}
        }
      ]
    },
    {
      "cell_type": "markdown",
      "source": [
        "## Indicador 3\n",
        "  >3. 2020 até 2022 (1 ao 2 Quadrimestre)"
      ],
      "metadata": {
        "id": "I5fqTUHsQmG0"
      }
    },
    {
      "cell_type": "code",
      "source": [
        "indicador3 = bd.loc[bd['Indicador'] == 3]"
      ],
      "metadata": {
        "id": "RC8m1ifdQx-_"
      },
      "execution_count": 118,
      "outputs": []
    },
    {
      "cell_type": "code",
      "source": [
        "grafico = px.bar(indicador3,\n",
        "                  hover_data= ['Indicador'],\n",
        "                  color = 'Municipio'\n",
        "                 ,y=['Classificação','Classificação.1','Classificação.2','Classificação.3','Classificação.4','Classificação.5','Classificação.6','Classificação.7'],\n",
        "                 barmode ='group'\n",
        "                 )\n",
        "grafico.update_layout(title = 'Analise de Desempenho do Maciço de Baturité ( Classificasões )')\n",
        "grafico.update_xaxes(title = 'Classificações')\n",
        "grafico.update_yaxes(title ='2020 - 2022 (1 AO 2 Quadrimestre)' ) \n",
        "grafico.show()"
      ],
      "metadata": {
        "colab": {
          "base_uri": "https://localhost:8080/",
          "height": 542
        },
        "id": "XH4CrD2nQ3Tk",
        "outputId": "6901a5b7-ec05-4025-f493-08c1a1de166b"
      },
      "execution_count": 119,
      "outputs": [
        {
          "output_type": "display_data",
          "data": {
            "text/html": [
              "<html>\n",
              "<head><meta charset=\"utf-8\" /></head>\n",
              "<body>\n",
              "    <div>            <script src=\"https://cdnjs.cloudflare.com/ajax/libs/mathjax/2.7.5/MathJax.js?config=TeX-AMS-MML_SVG\"></script><script type=\"text/javascript\">if (window.MathJax && window.MathJax.Hub && window.MathJax.Hub.Config) {window.MathJax.Hub.Config({SVG: {font: \"STIX-Web\"}});}</script>                <script type=\"text/javascript\">window.PlotlyConfig = {MathJaxConfig: 'local'};</script>\n",
              "        <script src=\"https://cdn.plot.ly/plotly-2.16.1.min.js\"></script>                <div id=\"e2d3593a-f8b3-4b63-b300-dd5679714f1f\" class=\"plotly-graph-div\" style=\"height:525px; width:100%;\"></div>            <script type=\"text/javascript\">                                    window.PLOTLYENV=window.PLOTLYENV || {};                                    if (document.getElementById(\"e2d3593a-f8b3-4b63-b300-dd5679714f1f\")) {                    Plotly.newPlot(                        \"e2d3593a-f8b3-4b63-b300-dd5679714f1f\",                        [{\"alignmentgroup\":\"True\",\"customdata\":[[3.0],[3.0],[3.0],[3.0],[3.0],[3.0],[3.0],[3.0]],\"hovertemplate\":\"Municipio=Acarape<br>value=%{x}<br>count=%{y}<br>Indicador=%{customdata[0]}<extra></extra>\",\"legendgroup\":\"Acarape\",\"marker\":{\"color\":\"#636efa\",\"pattern\":{\"shape\":\"\"}},\"name\":\"Acarape\",\"offsetgroup\":\"Acarape\",\"orientation\":\"v\",\"showlegend\":true,\"textposition\":\"auto\",\"x\":[\"Razoavel\",\"Bom\",\"Razoavel\",\"Razoavel\",\"Bom\",\"Bom\",\"Bom\",\"Otimo\"],\"xaxis\":\"x\",\"y\":[1,1,1,1,1,1,1,1],\"yaxis\":\"y\",\"type\":\"bar\"},{\"alignmentgroup\":\"True\",\"customdata\":[[3.0],[3.0],[3.0],[3.0],[3.0],[3.0],[3.0],[3.0]],\"hovertemplate\":\"Municipio=Aracoiaba<br>value=%{x}<br>count=%{y}<br>Indicador=%{customdata[0]}<extra></extra>\",\"legendgroup\":\"Aracoiaba\",\"marker\":{\"color\":\"#EF553B\",\"pattern\":{\"shape\":\"\"}},\"name\":\"Aracoiaba\",\"offsetgroup\":\"Aracoiaba\",\"orientation\":\"v\",\"showlegend\":true,\"textposition\":\"auto\",\"x\":[\"Razoavel\",\"Razoavel\",\"Bom\",\"Otimo\",\"Otimo\",\"Otimo\",\"Bom\",\"Otimo\"],\"xaxis\":\"x\",\"y\":[1,1,1,1,1,1,1,1],\"yaxis\":\"y\",\"type\":\"bar\"},{\"alignmentgroup\":\"True\",\"customdata\":[[3.0],[3.0],[3.0],[3.0],[3.0],[3.0],[3.0],[3.0]],\"hovertemplate\":\"Municipio=Aratuba<br>value=%{x}<br>count=%{y}<br>Indicador=%{customdata[0]}<extra></extra>\",\"legendgroup\":\"Aratuba\",\"marker\":{\"color\":\"#00cc96\",\"pattern\":{\"shape\":\"\"}},\"name\":\"Aratuba\",\"offsetgroup\":\"Aratuba\",\"orientation\":\"v\",\"showlegend\":true,\"textposition\":\"auto\",\"x\":[\"Razoavel\",\"Ruim\",\"Ruim\",\"Razoavel\",\"Otimo\",\"Otimo\",\"Otimo\",\"Otimo\"],\"xaxis\":\"x\",\"y\":[1,1,1,1,1,1,1,1],\"yaxis\":\"y\",\"type\":\"bar\"},{\"alignmentgroup\":\"True\",\"customdata\":[[3.0],[3.0],[3.0],[3.0],[3.0],[3.0],[3.0],[3.0]],\"hovertemplate\":\"Municipio=Barreira<br>value=%{x}<br>count=%{y}<br>Indicador=%{customdata[0]}<extra></extra>\",\"legendgroup\":\"Barreira\",\"marker\":{\"color\":\"#ab63fa\",\"pattern\":{\"shape\":\"\"}},\"name\":\"Barreira\",\"offsetgroup\":\"Barreira\",\"orientation\":\"v\",\"showlegend\":true,\"textposition\":\"auto\",\"x\":[\"Razoavel\",\"Razoavel\",\"Razoavel\",\"Razoavel\",\"Ruim\",\"Razoavel\",\"Razoavel\",\"Bom\"],\"xaxis\":\"x\",\"y\":[1,1,1,1,1,1,1,1],\"yaxis\":\"y\",\"type\":\"bar\"},{\"alignmentgroup\":\"True\",\"customdata\":[[3.0],[3.0],[3.0],[3.0],[3.0],[3.0],[3.0],[3.0]],\"hovertemplate\":\"Municipio=Baturite<br>value=%{x}<br>count=%{y}<br>Indicador=%{customdata[0]}<extra></extra>\",\"legendgroup\":\"Baturite\",\"marker\":{\"color\":\"#FFA15A\",\"pattern\":{\"shape\":\"\"}},\"name\":\"Baturite\",\"offsetgroup\":\"Baturite\",\"orientation\":\"v\",\"showlegend\":true,\"textposition\":\"auto\",\"x\":[\"Ruim\",\"Ruim\",\"Ruim\",\"Ruim\",\"Razoavel\",\"Bom\",\"Otimo\",\"Otimo\"],\"xaxis\":\"x\",\"y\":[1,1,1,1,1,1,1,1],\"yaxis\":\"y\",\"type\":\"bar\"},{\"alignmentgroup\":\"True\",\"customdata\":[[3.0],[3.0],[3.0],[3.0],[3.0],[3.0],[3.0],[3.0]],\"hovertemplate\":\"Municipio=Capistrano<br>value=%{x}<br>count=%{y}<br>Indicador=%{customdata[0]}<extra></extra>\",\"legendgroup\":\"Capistrano\",\"marker\":{\"color\":\"#19d3f3\",\"pattern\":{\"shape\":\"\"}},\"name\":\"Capistrano\",\"offsetgroup\":\"Capistrano\",\"orientation\":\"v\",\"showlegend\":true,\"textposition\":\"auto\",\"x\":[\"Razoavel\",\"Bom\",\"Otimo\",\"Otimo\",\"Otimo\",\"Otimo\",\"Otimo\",\"Otimo\"],\"xaxis\":\"x\",\"y\":[1,1,1,1,1,1,1,1],\"yaxis\":\"y\",\"type\":\"bar\"},{\"alignmentgroup\":\"True\",\"customdata\":[[3.0],[3.0],[3.0],[3.0],[3.0],[3.0],[3.0],[3.0]],\"hovertemplate\":\"Municipio=Guaramiranga<br>value=%{x}<br>count=%{y}<br>Indicador=%{customdata[0]}<extra></extra>\",\"legendgroup\":\"Guaramiranga\",\"marker\":{\"color\":\"#FF6692\",\"pattern\":{\"shape\":\"\"}},\"name\":\"Guaramiranga\",\"offsetgroup\":\"Guaramiranga\",\"orientation\":\"v\",\"showlegend\":true,\"textposition\":\"auto\",\"x\":[\"Bom\",\"Ruim\",\"Ruim\",\"Ruim\",\"Otimo\",\"Otimo\",\"Otimo\",\"Otimo\"],\"xaxis\":\"x\",\"y\":[1,1,1,1,1,1,1,1],\"yaxis\":\"y\",\"type\":\"bar\"},{\"alignmentgroup\":\"True\",\"customdata\":[[3.0],[3.0],[3.0],[3.0],[3.0],[3.0],[3.0],[3.0]],\"hovertemplate\":\"Municipio=Itapiuna<br>value=%{x}<br>count=%{y}<br>Indicador=%{customdata[0]}<extra></extra>\",\"legendgroup\":\"Itapiuna\",\"marker\":{\"color\":\"#B6E880\",\"pattern\":{\"shape\":\"\"}},\"name\":\"Itapiuna\",\"offsetgroup\":\"Itapiuna\",\"orientation\":\"v\",\"showlegend\":true,\"textposition\":\"auto\",\"x\":[\"Ruim\",\"Ruim\",\"Ruim\",\"Ruim\",\"Bom\",\"Otimo\",\"Razoavel\",\"Bom\"],\"xaxis\":\"x\",\"y\":[1,1,1,1,1,1,1,1],\"yaxis\":\"y\",\"type\":\"bar\"},{\"alignmentgroup\":\"True\",\"customdata\":[[3.0],[3.0],[3.0],[3.0],[3.0],[3.0],[3.0],[3.0]],\"hovertemplate\":\"Municipio=Mulungu<br>value=%{x}<br>count=%{y}<br>Indicador=%{customdata[0]}<extra></extra>\",\"legendgroup\":\"Mulungu\",\"marker\":{\"color\":\"#FF97FF\",\"pattern\":{\"shape\":\"\"}},\"name\":\"Mulungu\",\"offsetgroup\":\"Mulungu\",\"orientation\":\"v\",\"showlegend\":true,\"textposition\":\"auto\",\"x\":[\"Razoavel\",\"Razoavel\",\"Ruim\",\"Bom\",\"Otimo\",\"Otimo\",\"Otimo\",\"Otimo\"],\"xaxis\":\"x\",\"y\":[1,1,1,1,1,1,1,1],\"yaxis\":\"y\",\"type\":\"bar\"},{\"alignmentgroup\":\"True\",\"customdata\":[[3.0],[3.0],[3.0],[3.0],[3.0],[3.0],[3.0],[3.0]],\"hovertemplate\":\"Municipio=Ocora<br>value=%{x}<br>count=%{y}<br>Indicador=%{customdata[0]}<extra></extra>\",\"legendgroup\":\"Ocora\",\"marker\":{\"color\":\"#FECB52\",\"pattern\":{\"shape\":\"\"}},\"name\":\"Ocora\",\"offsetgroup\":\"Ocora\",\"orientation\":\"v\",\"showlegend\":true,\"textposition\":\"auto\",\"x\":[\"Otimo\",\"Otimo\",\"Otimo\",\"Otimo\",\"Otimo\",\"Otimo\",\"Otimo\",\"Otimo\"],\"xaxis\":\"x\",\"y\":[1,1,1,1,1,1,1,1],\"yaxis\":\"y\",\"type\":\"bar\"},{\"alignmentgroup\":\"True\",\"customdata\":[[3.0],[3.0],[3.0],[3.0],[3.0],[3.0],[3.0],[3.0]],\"hovertemplate\":\"Municipio=Pacoti<br>value=%{x}<br>count=%{y}<br>Indicador=%{customdata[0]}<extra></extra>\",\"legendgroup\":\"Pacoti\",\"marker\":{\"color\":\"#636efa\",\"pattern\":{\"shape\":\"\"}},\"name\":\"Pacoti\",\"offsetgroup\":\"Pacoti\",\"orientation\":\"v\",\"showlegend\":true,\"textposition\":\"auto\",\"x\":[\"Bom\",\"Razoavel\",\"Bom\",\"Bom\",\"Otimo\",\"Otimo\",\"Otimo\",\"Otimo\"],\"xaxis\":\"x\",\"y\":[1,1,1,1,1,1,1,1],\"yaxis\":\"y\",\"type\":\"bar\"},{\"alignmentgroup\":\"True\",\"customdata\":[[3.0],[3.0],[3.0],[3.0],[3.0],[3.0],[3.0],[3.0]],\"hovertemplate\":\"Municipio=Palmacia<br>value=%{x}<br>count=%{y}<br>Indicador=%{customdata[0]}<extra></extra>\",\"legendgroup\":\"Palmacia\",\"marker\":{\"color\":\"#EF553B\",\"pattern\":{\"shape\":\"\"}},\"name\":\"Palmacia\",\"offsetgroup\":\"Palmacia\",\"orientation\":\"v\",\"showlegend\":true,\"textposition\":\"auto\",\"x\":[\"Otimo\",\"Otimo\",\"Otimo\",\"Otimo\",\"Otimo\",\"Otimo\",\"Otimo\",\"Otimo\"],\"xaxis\":\"x\",\"y\":[1,1,1,1,1,1,1,1],\"yaxis\":\"y\",\"type\":\"bar\"},{\"alignmentgroup\":\"True\",\"customdata\":[[3.0],[3.0],[3.0],[3.0],[3.0],[3.0],[3.0],[3.0]],\"hovertemplate\":\"Municipio=Reden\\u00e7\\u00e3o<br>value=%{x}<br>count=%{y}<br>Indicador=%{customdata[0]}<extra></extra>\",\"legendgroup\":\"Reden\\u00e7\\u00e3o\",\"marker\":{\"color\":\"#00cc96\",\"pattern\":{\"shape\":\"\"}},\"name\":\"Reden\\u00e7\\u00e3o\",\"offsetgroup\":\"Reden\\u00e7\\u00e3o\",\"orientation\":\"v\",\"showlegend\":true,\"textposition\":\"auto\",\"x\":[\"Razoavel\",\"Razoavel\",\"Bom\",\"Otimo\",\"Otimo\",\"Otimo\",\"Otimo\",\"Otimo\"],\"xaxis\":\"x\",\"y\":[1,1,1,1,1,1,1,1],\"yaxis\":\"y\",\"type\":\"bar\"}],                        {\"template\":{\"data\":{\"histogram2dcontour\":[{\"type\":\"histogram2dcontour\",\"colorbar\":{\"outlinewidth\":0,\"ticks\":\"\"},\"colorscale\":[[0.0,\"#0d0887\"],[0.1111111111111111,\"#46039f\"],[0.2222222222222222,\"#7201a8\"],[0.3333333333333333,\"#9c179e\"],[0.4444444444444444,\"#bd3786\"],[0.5555555555555556,\"#d8576b\"],[0.6666666666666666,\"#ed7953\"],[0.7777777777777778,\"#fb9f3a\"],[0.8888888888888888,\"#fdca26\"],[1.0,\"#f0f921\"]]}],\"choropleth\":[{\"type\":\"choropleth\",\"colorbar\":{\"outlinewidth\":0,\"ticks\":\"\"}}],\"histogram2d\":[{\"type\":\"histogram2d\",\"colorbar\":{\"outlinewidth\":0,\"ticks\":\"\"},\"colorscale\":[[0.0,\"#0d0887\"],[0.1111111111111111,\"#46039f\"],[0.2222222222222222,\"#7201a8\"],[0.3333333333333333,\"#9c179e\"],[0.4444444444444444,\"#bd3786\"],[0.5555555555555556,\"#d8576b\"],[0.6666666666666666,\"#ed7953\"],[0.7777777777777778,\"#fb9f3a\"],[0.8888888888888888,\"#fdca26\"],[1.0,\"#f0f921\"]]}],\"heatmap\":[{\"type\":\"heatmap\",\"colorbar\":{\"outlinewidth\":0,\"ticks\":\"\"},\"colorscale\":[[0.0,\"#0d0887\"],[0.1111111111111111,\"#46039f\"],[0.2222222222222222,\"#7201a8\"],[0.3333333333333333,\"#9c179e\"],[0.4444444444444444,\"#bd3786\"],[0.5555555555555556,\"#d8576b\"],[0.6666666666666666,\"#ed7953\"],[0.7777777777777778,\"#fb9f3a\"],[0.8888888888888888,\"#fdca26\"],[1.0,\"#f0f921\"]]}],\"heatmapgl\":[{\"type\":\"heatmapgl\",\"colorbar\":{\"outlinewidth\":0,\"ticks\":\"\"},\"colorscale\":[[0.0,\"#0d0887\"],[0.1111111111111111,\"#46039f\"],[0.2222222222222222,\"#7201a8\"],[0.3333333333333333,\"#9c179e\"],[0.4444444444444444,\"#bd3786\"],[0.5555555555555556,\"#d8576b\"],[0.6666666666666666,\"#ed7953\"],[0.7777777777777778,\"#fb9f3a\"],[0.8888888888888888,\"#fdca26\"],[1.0,\"#f0f921\"]]}],\"contourcarpet\":[{\"type\":\"contourcarpet\",\"colorbar\":{\"outlinewidth\":0,\"ticks\":\"\"}}],\"contour\":[{\"type\":\"contour\",\"colorbar\":{\"outlinewidth\":0,\"ticks\":\"\"},\"colorscale\":[[0.0,\"#0d0887\"],[0.1111111111111111,\"#46039f\"],[0.2222222222222222,\"#7201a8\"],[0.3333333333333333,\"#9c179e\"],[0.4444444444444444,\"#bd3786\"],[0.5555555555555556,\"#d8576b\"],[0.6666666666666666,\"#ed7953\"],[0.7777777777777778,\"#fb9f3a\"],[0.8888888888888888,\"#fdca26\"],[1.0,\"#f0f921\"]]}],\"surface\":[{\"type\":\"surface\",\"colorbar\":{\"outlinewidth\":0,\"ticks\":\"\"},\"colorscale\":[[0.0,\"#0d0887\"],[0.1111111111111111,\"#46039f\"],[0.2222222222222222,\"#7201a8\"],[0.3333333333333333,\"#9c179e\"],[0.4444444444444444,\"#bd3786\"],[0.5555555555555556,\"#d8576b\"],[0.6666666666666666,\"#ed7953\"],[0.7777777777777778,\"#fb9f3a\"],[0.8888888888888888,\"#fdca26\"],[1.0,\"#f0f921\"]]}],\"mesh3d\":[{\"type\":\"mesh3d\",\"colorbar\":{\"outlinewidth\":0,\"ticks\":\"\"}}],\"scatter\":[{\"fillpattern\":{\"fillmode\":\"overlay\",\"size\":10,\"solidity\":0.2},\"type\":\"scatter\"}],\"parcoords\":[{\"type\":\"parcoords\",\"line\":{\"colorbar\":{\"outlinewidth\":0,\"ticks\":\"\"}}}],\"scatterpolargl\":[{\"type\":\"scatterpolargl\",\"marker\":{\"colorbar\":{\"outlinewidth\":0,\"ticks\":\"\"}}}],\"bar\":[{\"error_x\":{\"color\":\"#2a3f5f\"},\"error_y\":{\"color\":\"#2a3f5f\"},\"marker\":{\"line\":{\"color\":\"#E5ECF6\",\"width\":0.5},\"pattern\":{\"fillmode\":\"overlay\",\"size\":10,\"solidity\":0.2}},\"type\":\"bar\"}],\"scattergeo\":[{\"type\":\"scattergeo\",\"marker\":{\"colorbar\":{\"outlinewidth\":0,\"ticks\":\"\"}}}],\"scatterpolar\":[{\"type\":\"scatterpolar\",\"marker\":{\"colorbar\":{\"outlinewidth\":0,\"ticks\":\"\"}}}],\"histogram\":[{\"marker\":{\"pattern\":{\"fillmode\":\"overlay\",\"size\":10,\"solidity\":0.2}},\"type\":\"histogram\"}],\"scattergl\":[{\"type\":\"scattergl\",\"marker\":{\"colorbar\":{\"outlinewidth\":0,\"ticks\":\"\"}}}],\"scatter3d\":[{\"type\":\"scatter3d\",\"line\":{\"colorbar\":{\"outlinewidth\":0,\"ticks\":\"\"}},\"marker\":{\"colorbar\":{\"outlinewidth\":0,\"ticks\":\"\"}}}],\"scattermapbox\":[{\"type\":\"scattermapbox\",\"marker\":{\"colorbar\":{\"outlinewidth\":0,\"ticks\":\"\"}}}],\"scatterternary\":[{\"type\":\"scatterternary\",\"marker\":{\"colorbar\":{\"outlinewidth\":0,\"ticks\":\"\"}}}],\"scattercarpet\":[{\"type\":\"scattercarpet\",\"marker\":{\"colorbar\":{\"outlinewidth\":0,\"ticks\":\"\"}}}],\"carpet\":[{\"aaxis\":{\"endlinecolor\":\"#2a3f5f\",\"gridcolor\":\"white\",\"linecolor\":\"white\",\"minorgridcolor\":\"white\",\"startlinecolor\":\"#2a3f5f\"},\"baxis\":{\"endlinecolor\":\"#2a3f5f\",\"gridcolor\":\"white\",\"linecolor\":\"white\",\"minorgridcolor\":\"white\",\"startlinecolor\":\"#2a3f5f\"},\"type\":\"carpet\"}],\"table\":[{\"cells\":{\"fill\":{\"color\":\"#EBF0F8\"},\"line\":{\"color\":\"white\"}},\"header\":{\"fill\":{\"color\":\"#C8D4E3\"},\"line\":{\"color\":\"white\"}},\"type\":\"table\"}],\"barpolar\":[{\"marker\":{\"line\":{\"color\":\"#E5ECF6\",\"width\":0.5},\"pattern\":{\"fillmode\":\"overlay\",\"size\":10,\"solidity\":0.2}},\"type\":\"barpolar\"}],\"pie\":[{\"automargin\":true,\"type\":\"pie\"}]},\"layout\":{\"autotypenumbers\":\"strict\",\"colorway\":[\"#636efa\",\"#EF553B\",\"#00cc96\",\"#ab63fa\",\"#FFA15A\",\"#19d3f3\",\"#FF6692\",\"#B6E880\",\"#FF97FF\",\"#FECB52\"],\"font\":{\"color\":\"#2a3f5f\"},\"hovermode\":\"closest\",\"hoverlabel\":{\"align\":\"left\"},\"paper_bgcolor\":\"white\",\"plot_bgcolor\":\"#E5ECF6\",\"polar\":{\"bgcolor\":\"#E5ECF6\",\"angularaxis\":{\"gridcolor\":\"white\",\"linecolor\":\"white\",\"ticks\":\"\"},\"radialaxis\":{\"gridcolor\":\"white\",\"linecolor\":\"white\",\"ticks\":\"\"}},\"ternary\":{\"bgcolor\":\"#E5ECF6\",\"aaxis\":{\"gridcolor\":\"white\",\"linecolor\":\"white\",\"ticks\":\"\"},\"baxis\":{\"gridcolor\":\"white\",\"linecolor\":\"white\",\"ticks\":\"\"},\"caxis\":{\"gridcolor\":\"white\",\"linecolor\":\"white\",\"ticks\":\"\"}},\"coloraxis\":{\"colorbar\":{\"outlinewidth\":0,\"ticks\":\"\"}},\"colorscale\":{\"sequential\":[[0.0,\"#0d0887\"],[0.1111111111111111,\"#46039f\"],[0.2222222222222222,\"#7201a8\"],[0.3333333333333333,\"#9c179e\"],[0.4444444444444444,\"#bd3786\"],[0.5555555555555556,\"#d8576b\"],[0.6666666666666666,\"#ed7953\"],[0.7777777777777778,\"#fb9f3a\"],[0.8888888888888888,\"#fdca26\"],[1.0,\"#f0f921\"]],\"sequentialminus\":[[0.0,\"#0d0887\"],[0.1111111111111111,\"#46039f\"],[0.2222222222222222,\"#7201a8\"],[0.3333333333333333,\"#9c179e\"],[0.4444444444444444,\"#bd3786\"],[0.5555555555555556,\"#d8576b\"],[0.6666666666666666,\"#ed7953\"],[0.7777777777777778,\"#fb9f3a\"],[0.8888888888888888,\"#fdca26\"],[1.0,\"#f0f921\"]],\"diverging\":[[0,\"#8e0152\"],[0.1,\"#c51b7d\"],[0.2,\"#de77ae\"],[0.3,\"#f1b6da\"],[0.4,\"#fde0ef\"],[0.5,\"#f7f7f7\"],[0.6,\"#e6f5d0\"],[0.7,\"#b8e186\"],[0.8,\"#7fbc41\"],[0.9,\"#4d9221\"],[1,\"#276419\"]]},\"xaxis\":{\"gridcolor\":\"white\",\"linecolor\":\"white\",\"ticks\":\"\",\"title\":{\"standoff\":15},\"zerolinecolor\":\"white\",\"automargin\":true,\"zerolinewidth\":2},\"yaxis\":{\"gridcolor\":\"white\",\"linecolor\":\"white\",\"ticks\":\"\",\"title\":{\"standoff\":15},\"zerolinecolor\":\"white\",\"automargin\":true,\"zerolinewidth\":2},\"scene\":{\"xaxis\":{\"backgroundcolor\":\"#E5ECF6\",\"gridcolor\":\"white\",\"linecolor\":\"white\",\"showbackground\":true,\"ticks\":\"\",\"zerolinecolor\":\"white\",\"gridwidth\":2},\"yaxis\":{\"backgroundcolor\":\"#E5ECF6\",\"gridcolor\":\"white\",\"linecolor\":\"white\",\"showbackground\":true,\"ticks\":\"\",\"zerolinecolor\":\"white\",\"gridwidth\":2},\"zaxis\":{\"backgroundcolor\":\"#E5ECF6\",\"gridcolor\":\"white\",\"linecolor\":\"white\",\"showbackground\":true,\"ticks\":\"\",\"zerolinecolor\":\"white\",\"gridwidth\":2}},\"shapedefaults\":{\"line\":{\"color\":\"#2a3f5f\"}},\"annotationdefaults\":{\"arrowcolor\":\"#2a3f5f\",\"arrowhead\":0,\"arrowwidth\":1},\"geo\":{\"bgcolor\":\"white\",\"landcolor\":\"#E5ECF6\",\"subunitcolor\":\"white\",\"showland\":true,\"showlakes\":true,\"lakecolor\":\"white\"},\"title\":{\"x\":0.05},\"mapbox\":{\"style\":\"light\"}}},\"xaxis\":{\"anchor\":\"y\",\"domain\":[0.0,1.0],\"title\":{\"text\":\"Classifica\\u00e7\\u00f5es\"}},\"yaxis\":{\"anchor\":\"x\",\"domain\":[0.0,1.0],\"title\":{\"text\":\"2020 - 2022 (1 AO 2 Quadrimestre)\"}},\"legend\":{\"title\":{\"text\":\"Municipio\"},\"tracegroupgap\":0},\"margin\":{\"t\":60},\"barmode\":\"group\",\"title\":{\"text\":\"Analise de Desempenho do Maci\\u00e7o de Baturit\\u00e9 ( Classificas\\u00f5es )\"}},                        {\"responsive\": true}                    ).then(function(){\n",
              "                            \n",
              "var gd = document.getElementById('e2d3593a-f8b3-4b63-b300-dd5679714f1f');\n",
              "var x = new MutationObserver(function (mutations, observer) {{\n",
              "        var display = window.getComputedStyle(gd).display;\n",
              "        if (!display || display === 'none') {{\n",
              "            console.log([gd, 'removed!']);\n",
              "            Plotly.purge(gd);\n",
              "            observer.disconnect();\n",
              "        }}\n",
              "}});\n",
              "\n",
              "// Listen for the removal of the full notebook cells\n",
              "var notebookContainer = gd.closest('#notebook-container');\n",
              "if (notebookContainer) {{\n",
              "    x.observe(notebookContainer, {childList: true});\n",
              "}}\n",
              "\n",
              "// Listen for the clearing of the current output cell\n",
              "var outputEl = gd.closest('.output');\n",
              "if (outputEl) {{\n",
              "    x.observe(outputEl, {childList: true});\n",
              "}}\n",
              "\n",
              "                        })                };                            </script>        </div>\n",
              "</body>\n",
              "</html>"
            ]
          },
          "metadata": {}
        }
      ]
    },
    {
      "cell_type": "markdown",
      "source": [
        "## Indicador 4\n",
        "  >4. 2020 até 2022 (1 ao 2 Quadrimestre)"
      ],
      "metadata": {
        "id": "lMitZhrBQ8oM"
      }
    },
    {
      "cell_type": "code",
      "source": [
        "indicador4 = bd.loc[bd['Indicador'] == 4]"
      ],
      "metadata": {
        "id": "V68z19OZQ-by"
      },
      "execution_count": 120,
      "outputs": []
    },
    {
      "cell_type": "code",
      "source": [
        "grafico = px.bar(indicador4,\n",
        "                  hover_data= ['Indicador'],\n",
        "                  color = 'Municipio'\n",
        "                 ,y=['Classificação','Classificação.1','Classificação.2','Classificação.3','Classificação.4','Classificação.5','Classificação.6','Classificação.7'],\n",
        "                 barmode ='group'\n",
        "                 )\n",
        "grafico.update_layout(title = 'Analise de Desempenho do Maciço de Baturité ( Classificasões )')\n",
        "grafico.update_xaxes(title = 'Classificações')\n",
        "grafico.update_yaxes(title ='2020 - 2022 (1 AO 2 Quadrimestre)' ) \n",
        "grafico.show()"
      ],
      "metadata": {
        "colab": {
          "base_uri": "https://localhost:8080/",
          "height": 542
        },
        "id": "SQT4p6kuRCgq",
        "outputId": "20f7060f-ef87-4800-e0ba-d133698c40c7"
      },
      "execution_count": 125,
      "outputs": [
        {
          "output_type": "display_data",
          "data": {
            "text/html": [
              "<html>\n",
              "<head><meta charset=\"utf-8\" /></head>\n",
              "<body>\n",
              "    <div>            <script src=\"https://cdnjs.cloudflare.com/ajax/libs/mathjax/2.7.5/MathJax.js?config=TeX-AMS-MML_SVG\"></script><script type=\"text/javascript\">if (window.MathJax && window.MathJax.Hub && window.MathJax.Hub.Config) {window.MathJax.Hub.Config({SVG: {font: \"STIX-Web\"}});}</script>                <script type=\"text/javascript\">window.PlotlyConfig = {MathJaxConfig: 'local'};</script>\n",
              "        <script src=\"https://cdn.plot.ly/plotly-2.16.1.min.js\"></script>                <div id=\"7e992cb4-1fd5-4439-beeb-0739bc72d7e5\" class=\"plotly-graph-div\" style=\"height:525px; width:100%;\"></div>            <script type=\"text/javascript\">                                    window.PLOTLYENV=window.PLOTLYENV || {};                                    if (document.getElementById(\"7e992cb4-1fd5-4439-beeb-0739bc72d7e5\")) {                    Plotly.newPlot(                        \"7e992cb4-1fd5-4439-beeb-0739bc72d7e5\",                        [{\"alignmentgroup\":\"True\",\"customdata\":[[4.0],[4.0],[4.0],[4.0],[4.0],[4.0],[4.0],[4.0]],\"hovertemplate\":\"Municipio=Acarape<br>value=%{x}<br>count=%{y}<br>Indicador=%{customdata[0]}<extra></extra>\",\"legendgroup\":\"Acarape\",\"marker\":{\"color\":\"#636efa\",\"pattern\":{\"shape\":\"\"}},\"name\":\"Acarape\",\"offsetgroup\":\"Acarape\",\"orientation\":\"v\",\"showlegend\":true,\"textposition\":\"auto\",\"x\":[\"Razoavel\",\"Razoavel\",\"Ruim\",\"Ruim\",\"Ruim\",\"Ruim\",\"Ruim\",\"Ruim\"],\"xaxis\":\"x\",\"y\":[1,1,1,1,1,1,1,1],\"yaxis\":\"y\",\"type\":\"bar\"},{\"alignmentgroup\":\"True\",\"customdata\":[[4.0],[4.0],[4.0],[4.0],[4.0],[4.0],[4.0],[4.0]],\"hovertemplate\":\"Municipio=Aracoiaba<br>value=%{x}<br>count=%{y}<br>Indicador=%{customdata[0]}<extra></extra>\",\"legendgroup\":\"Aracoiaba\",\"marker\":{\"color\":\"#EF553B\",\"pattern\":{\"shape\":\"\"}},\"name\":\"Aracoiaba\",\"offsetgroup\":\"Aracoiaba\",\"orientation\":\"v\",\"showlegend\":true,\"textposition\":\"auto\",\"x\":[\"Ruim\",\"Ruim\",\"Ruim\",\"Ruim\",\"Ruim\",\"Ruim\",\"Ruim\",\"Razoavel\"],\"xaxis\":\"x\",\"y\":[1,1,1,1,1,1,1,1],\"yaxis\":\"y\",\"type\":\"bar\"},{\"alignmentgroup\":\"True\",\"customdata\":[[4.0],[4.0],[4.0],[4.0],[4.0],[4.0],[4.0],[4.0]],\"hovertemplate\":\"Municipio=Aratuba<br>value=%{x}<br>count=%{y}<br>Indicador=%{customdata[0]}<extra></extra>\",\"legendgroup\":\"Aratuba\",\"marker\":{\"color\":\"#00cc96\",\"pattern\":{\"shape\":\"\"}},\"name\":\"Aratuba\",\"offsetgroup\":\"Aratuba\",\"orientation\":\"v\",\"showlegend\":true,\"textposition\":\"auto\",\"x\":[\"Ruim\",\"Ruim\",\"Ruim\",\"Ruim\",\"Ruim\",\"Razoavel\",\"Razoavel\",\"Bom\"],\"xaxis\":\"x\",\"y\":[1,1,1,1,1,1,1,1],\"yaxis\":\"y\",\"type\":\"bar\"},{\"alignmentgroup\":\"True\",\"customdata\":[[4.0],[4.0],[4.0],[4.0],[4.0],[4.0],[4.0],[4.0]],\"hovertemplate\":\"Municipio=Barreira<br>value=%{x}<br>count=%{y}<br>Indicador=%{customdata[0]}<extra></extra>\",\"legendgroup\":\"Barreira\",\"marker\":{\"color\":\"#ab63fa\",\"pattern\":{\"shape\":\"\"}},\"name\":\"Barreira\",\"offsetgroup\":\"Barreira\",\"orientation\":\"v\",\"showlegend\":true,\"textposition\":\"auto\",\"x\":[\"Razoavel\",\"Razoavel\",\"Razoavel\",\"Razoavel\",\"Ruim\",\"Ruim\",\"Razoavel\",\"Razoavel\"],\"xaxis\":\"x\",\"y\":[1,1,1,1,1,1,1,1],\"yaxis\":\"y\",\"type\":\"bar\"},{\"alignmentgroup\":\"True\",\"customdata\":[[4.0],[4.0],[4.0],[4.0],[4.0],[4.0],[4.0],[4.0]],\"hovertemplate\":\"Municipio=Baturite<br>value=%{x}<br>count=%{y}<br>Indicador=%{customdata[0]}<extra></extra>\",\"legendgroup\":\"Baturite\",\"marker\":{\"color\":\"#FFA15A\",\"pattern\":{\"shape\":\"\"}},\"name\":\"Baturite\",\"offsetgroup\":\"Baturite\",\"orientation\":\"v\",\"showlegend\":true,\"textposition\":\"auto\",\"x\":[\"Razoavel\",\"Ruim\",\"Ruim\",\"Ruim\",\"Ruim\",\"Ruim\",\"Ruim\",\"Razoavel\"],\"xaxis\":\"x\",\"y\":[1,1,1,1,1,1,1,1],\"yaxis\":\"y\",\"type\":\"bar\"},{\"alignmentgroup\":\"True\",\"customdata\":[[4.0],[4.0],[4.0],[4.0],[4.0],[4.0],[4.0],[4.0]],\"hovertemplate\":\"Municipio=Capistrano<br>value=%{x}<br>count=%{y}<br>Indicador=%{customdata[0]}<extra></extra>\",\"legendgroup\":\"Capistrano\",\"marker\":{\"color\":\"#19d3f3\",\"pattern\":{\"shape\":\"\"}},\"name\":\"Capistrano\",\"offsetgroup\":\"Capistrano\",\"orientation\":\"v\",\"showlegend\":true,\"textposition\":\"auto\",\"x\":[\"Razoavel\",\"Razoavel\",\"Razoavel\",\"Razoavel\",\"Razoavel\",\"Bom\",\"Bom\",\"Bom\"],\"xaxis\":\"x\",\"y\":[1,1,1,1,1,1,1,1],\"yaxis\":\"y\",\"type\":\"bar\"},{\"alignmentgroup\":\"True\",\"customdata\":[[4.0],[4.0],[4.0],[4.0],[4.0],[4.0],[4.0],[4.0]],\"hovertemplate\":\"Municipio=Guaramiranga<br>value=%{x}<br>count=%{y}<br>Indicador=%{customdata[0]}<extra></extra>\",\"legendgroup\":\"Guaramiranga\",\"marker\":{\"color\":\"#FF6692\",\"pattern\":{\"shape\":\"\"}},\"name\":\"Guaramiranga\",\"offsetgroup\":\"Guaramiranga\",\"orientation\":\"v\",\"showlegend\":true,\"textposition\":\"auto\",\"x\":[\"Bom\",\"Razoavel\",\"Razoavel\",\"Razoavel\",\"Razoavel\",\"Razoavel\",\"Razoavel\",\"Bom\"],\"xaxis\":\"x\",\"y\":[1,1,1,1,1,1,1,1],\"yaxis\":\"y\",\"type\":\"bar\"},{\"alignmentgroup\":\"True\",\"customdata\":[[4.0],[4.0],[4.0],[4.0],[4.0],[4.0],[4.0],[4.0]],\"hovertemplate\":\"Municipio=Itapiuna<br>value=%{x}<br>count=%{y}<br>Indicador=%{customdata[0]}<extra></extra>\",\"legendgroup\":\"Itapiuna\",\"marker\":{\"color\":\"#B6E880\",\"pattern\":{\"shape\":\"\"}},\"name\":\"Itapiuna\",\"offsetgroup\":\"Itapiuna\",\"orientation\":\"v\",\"showlegend\":true,\"textposition\":\"auto\",\"x\":[\"Ruim\",\"Ruim\",\"Ruim\",\"Ruim\",\"Ruim\",\"Ruim\",\"Ruim\",\"Ruim\"],\"xaxis\":\"x\",\"y\":[1,1,1,1,1,1,1,1],\"yaxis\":\"y\",\"type\":\"bar\"},{\"alignmentgroup\":\"True\",\"customdata\":[[4.0],[4.0],[4.0],[4.0],[4.0],[4.0],[4.0],[4.0]],\"hovertemplate\":\"Municipio=Mulungu<br>value=%{x}<br>count=%{y}<br>Indicador=%{customdata[0]}<extra></extra>\",\"legendgroup\":\"Mulungu\",\"marker\":{\"color\":\"#FF97FF\",\"pattern\":{\"shape\":\"\"}},\"name\":\"Mulungu\",\"offsetgroup\":\"Mulungu\",\"orientation\":\"v\",\"showlegend\":true,\"textposition\":\"auto\",\"x\":[\"Razoavel\",\"Razoavel\",\"Ruim\",\"Ruim\",\"Ruim\",\"Ruim\",\"Ruim\",\"Razoavel\"],\"xaxis\":\"x\",\"y\":[1,1,1,1,1,1,1,1],\"yaxis\":\"y\",\"type\":\"bar\"},{\"alignmentgroup\":\"True\",\"customdata\":[[4.0],[4.0],[4.0],[4.0],[4.0],[4.0],[4.0],[4.0]],\"hovertemplate\":\"Municipio=Ocora<br>value=%{x}<br>count=%{y}<br>Indicador=%{customdata[0]}<extra></extra>\",\"legendgroup\":\"Ocora\",\"marker\":{\"color\":\"#FECB52\",\"pattern\":{\"shape\":\"\"}},\"name\":\"Ocora\",\"offsetgroup\":\"Ocora\",\"orientation\":\"v\",\"showlegend\":true,\"textposition\":\"auto\",\"x\":[\"Otimo\",\"Otimo\",\"Otimo\",\"Bom\",\"Bom\",\"Bom\",\"Bom\",\"Otimo\"],\"xaxis\":\"x\",\"y\":[1,1,1,1,1,1,1,1],\"yaxis\":\"y\",\"type\":\"bar\"},{\"alignmentgroup\":\"True\",\"customdata\":[[4.0],[4.0],[4.0],[4.0],[4.0],[4.0],[4.0],[4.0]],\"hovertemplate\":\"Municipio=Pacoti<br>value=%{x}<br>count=%{y}<br>Indicador=%{customdata[0]}<extra></extra>\",\"legendgroup\":\"Pacoti\",\"marker\":{\"color\":\"#636efa\",\"pattern\":{\"shape\":\"\"}},\"name\":\"Pacoti\",\"offsetgroup\":\"Pacoti\",\"orientation\":\"v\",\"showlegend\":true,\"textposition\":\"auto\",\"x\":[\"Bom\",\"Razoavel\",\"Razoavel\",\"Razoavel\",\"Razoavel\",\"Razoavel\",\"Razoavel\",\"Bom\"],\"xaxis\":\"x\",\"y\":[1,1,1,1,1,1,1,1],\"yaxis\":\"y\",\"type\":\"bar\"},{\"alignmentgroup\":\"True\",\"customdata\":[[4.0],[4.0],[4.0],[4.0],[4.0],[4.0],[4.0],[4.0]],\"hovertemplate\":\"Municipio=Palmacia<br>value=%{x}<br>count=%{y}<br>Indicador=%{customdata[0]}<extra></extra>\",\"legendgroup\":\"Palmacia\",\"marker\":{\"color\":\"#EF553B\",\"pattern\":{\"shape\":\"\"}},\"name\":\"Palmacia\",\"offsetgroup\":\"Palmacia\",\"orientation\":\"v\",\"showlegend\":true,\"textposition\":\"auto\",\"x\":[\"Razoavel\",\"Razoavel\",\"Razoavel\",\"Razoavel\",\"Razoavel\",\"Razoavel\",\"Razoavel\",\"Otimo\"],\"xaxis\":\"x\",\"y\":[1,1,1,1,1,1,1,1],\"yaxis\":\"y\",\"type\":\"bar\"},{\"alignmentgroup\":\"True\",\"customdata\":[[4.0],[4.0],[4.0],[4.0],[4.0],[4.0],[4.0],[4.0]],\"hovertemplate\":\"Municipio=Reden\\u00e7\\u00e3o<br>value=%{x}<br>count=%{y}<br>Indicador=%{customdata[0]}<extra></extra>\",\"legendgroup\":\"Reden\\u00e7\\u00e3o\",\"marker\":{\"color\":\"#00cc96\",\"pattern\":{\"shape\":\"\"}},\"name\":\"Reden\\u00e7\\u00e3o\",\"offsetgroup\":\"Reden\\u00e7\\u00e3o\",\"orientation\":\"v\",\"showlegend\":true,\"textposition\":\"auto\",\"x\":[\"Razoavel\",\"Razoavel\",\"Razoavel\",\"Razoavel\",\"Razoavel\",\"Razoavel\",\"Razoavel\",\"Razoavel\"],\"xaxis\":\"x\",\"y\":[1,1,1,1,1,1,1,1],\"yaxis\":\"y\",\"type\":\"bar\"}],                        {\"template\":{\"data\":{\"histogram2dcontour\":[{\"type\":\"histogram2dcontour\",\"colorbar\":{\"outlinewidth\":0,\"ticks\":\"\"},\"colorscale\":[[0.0,\"#0d0887\"],[0.1111111111111111,\"#46039f\"],[0.2222222222222222,\"#7201a8\"],[0.3333333333333333,\"#9c179e\"],[0.4444444444444444,\"#bd3786\"],[0.5555555555555556,\"#d8576b\"],[0.6666666666666666,\"#ed7953\"],[0.7777777777777778,\"#fb9f3a\"],[0.8888888888888888,\"#fdca26\"],[1.0,\"#f0f921\"]]}],\"choropleth\":[{\"type\":\"choropleth\",\"colorbar\":{\"outlinewidth\":0,\"ticks\":\"\"}}],\"histogram2d\":[{\"type\":\"histogram2d\",\"colorbar\":{\"outlinewidth\":0,\"ticks\":\"\"},\"colorscale\":[[0.0,\"#0d0887\"],[0.1111111111111111,\"#46039f\"],[0.2222222222222222,\"#7201a8\"],[0.3333333333333333,\"#9c179e\"],[0.4444444444444444,\"#bd3786\"],[0.5555555555555556,\"#d8576b\"],[0.6666666666666666,\"#ed7953\"],[0.7777777777777778,\"#fb9f3a\"],[0.8888888888888888,\"#fdca26\"],[1.0,\"#f0f921\"]]}],\"heatmap\":[{\"type\":\"heatmap\",\"colorbar\":{\"outlinewidth\":0,\"ticks\":\"\"},\"colorscale\":[[0.0,\"#0d0887\"],[0.1111111111111111,\"#46039f\"],[0.2222222222222222,\"#7201a8\"],[0.3333333333333333,\"#9c179e\"],[0.4444444444444444,\"#bd3786\"],[0.5555555555555556,\"#d8576b\"],[0.6666666666666666,\"#ed7953\"],[0.7777777777777778,\"#fb9f3a\"],[0.8888888888888888,\"#fdca26\"],[1.0,\"#f0f921\"]]}],\"heatmapgl\":[{\"type\":\"heatmapgl\",\"colorbar\":{\"outlinewidth\":0,\"ticks\":\"\"},\"colorscale\":[[0.0,\"#0d0887\"],[0.1111111111111111,\"#46039f\"],[0.2222222222222222,\"#7201a8\"],[0.3333333333333333,\"#9c179e\"],[0.4444444444444444,\"#bd3786\"],[0.5555555555555556,\"#d8576b\"],[0.6666666666666666,\"#ed7953\"],[0.7777777777777778,\"#fb9f3a\"],[0.8888888888888888,\"#fdca26\"],[1.0,\"#f0f921\"]]}],\"contourcarpet\":[{\"type\":\"contourcarpet\",\"colorbar\":{\"outlinewidth\":0,\"ticks\":\"\"}}],\"contour\":[{\"type\":\"contour\",\"colorbar\":{\"outlinewidth\":0,\"ticks\":\"\"},\"colorscale\":[[0.0,\"#0d0887\"],[0.1111111111111111,\"#46039f\"],[0.2222222222222222,\"#7201a8\"],[0.3333333333333333,\"#9c179e\"],[0.4444444444444444,\"#bd3786\"],[0.5555555555555556,\"#d8576b\"],[0.6666666666666666,\"#ed7953\"],[0.7777777777777778,\"#fb9f3a\"],[0.8888888888888888,\"#fdca26\"],[1.0,\"#f0f921\"]]}],\"surface\":[{\"type\":\"surface\",\"colorbar\":{\"outlinewidth\":0,\"ticks\":\"\"},\"colorscale\":[[0.0,\"#0d0887\"],[0.1111111111111111,\"#46039f\"],[0.2222222222222222,\"#7201a8\"],[0.3333333333333333,\"#9c179e\"],[0.4444444444444444,\"#bd3786\"],[0.5555555555555556,\"#d8576b\"],[0.6666666666666666,\"#ed7953\"],[0.7777777777777778,\"#fb9f3a\"],[0.8888888888888888,\"#fdca26\"],[1.0,\"#f0f921\"]]}],\"mesh3d\":[{\"type\":\"mesh3d\",\"colorbar\":{\"outlinewidth\":0,\"ticks\":\"\"}}],\"scatter\":[{\"fillpattern\":{\"fillmode\":\"overlay\",\"size\":10,\"solidity\":0.2},\"type\":\"scatter\"}],\"parcoords\":[{\"type\":\"parcoords\",\"line\":{\"colorbar\":{\"outlinewidth\":0,\"ticks\":\"\"}}}],\"scatterpolargl\":[{\"type\":\"scatterpolargl\",\"marker\":{\"colorbar\":{\"outlinewidth\":0,\"ticks\":\"\"}}}],\"bar\":[{\"error_x\":{\"color\":\"#2a3f5f\"},\"error_y\":{\"color\":\"#2a3f5f\"},\"marker\":{\"line\":{\"color\":\"#E5ECF6\",\"width\":0.5},\"pattern\":{\"fillmode\":\"overlay\",\"size\":10,\"solidity\":0.2}},\"type\":\"bar\"}],\"scattergeo\":[{\"type\":\"scattergeo\",\"marker\":{\"colorbar\":{\"outlinewidth\":0,\"ticks\":\"\"}}}],\"scatterpolar\":[{\"type\":\"scatterpolar\",\"marker\":{\"colorbar\":{\"outlinewidth\":0,\"ticks\":\"\"}}}],\"histogram\":[{\"marker\":{\"pattern\":{\"fillmode\":\"overlay\",\"size\":10,\"solidity\":0.2}},\"type\":\"histogram\"}],\"scattergl\":[{\"type\":\"scattergl\",\"marker\":{\"colorbar\":{\"outlinewidth\":0,\"ticks\":\"\"}}}],\"scatter3d\":[{\"type\":\"scatter3d\",\"line\":{\"colorbar\":{\"outlinewidth\":0,\"ticks\":\"\"}},\"marker\":{\"colorbar\":{\"outlinewidth\":0,\"ticks\":\"\"}}}],\"scattermapbox\":[{\"type\":\"scattermapbox\",\"marker\":{\"colorbar\":{\"outlinewidth\":0,\"ticks\":\"\"}}}],\"scatterternary\":[{\"type\":\"scatterternary\",\"marker\":{\"colorbar\":{\"outlinewidth\":0,\"ticks\":\"\"}}}],\"scattercarpet\":[{\"type\":\"scattercarpet\",\"marker\":{\"colorbar\":{\"outlinewidth\":0,\"ticks\":\"\"}}}],\"carpet\":[{\"aaxis\":{\"endlinecolor\":\"#2a3f5f\",\"gridcolor\":\"white\",\"linecolor\":\"white\",\"minorgridcolor\":\"white\",\"startlinecolor\":\"#2a3f5f\"},\"baxis\":{\"endlinecolor\":\"#2a3f5f\",\"gridcolor\":\"white\",\"linecolor\":\"white\",\"minorgridcolor\":\"white\",\"startlinecolor\":\"#2a3f5f\"},\"type\":\"carpet\"}],\"table\":[{\"cells\":{\"fill\":{\"color\":\"#EBF0F8\"},\"line\":{\"color\":\"white\"}},\"header\":{\"fill\":{\"color\":\"#C8D4E3\"},\"line\":{\"color\":\"white\"}},\"type\":\"table\"}],\"barpolar\":[{\"marker\":{\"line\":{\"color\":\"#E5ECF6\",\"width\":0.5},\"pattern\":{\"fillmode\":\"overlay\",\"size\":10,\"solidity\":0.2}},\"type\":\"barpolar\"}],\"pie\":[{\"automargin\":true,\"type\":\"pie\"}]},\"layout\":{\"autotypenumbers\":\"strict\",\"colorway\":[\"#636efa\",\"#EF553B\",\"#00cc96\",\"#ab63fa\",\"#FFA15A\",\"#19d3f3\",\"#FF6692\",\"#B6E880\",\"#FF97FF\",\"#FECB52\"],\"font\":{\"color\":\"#2a3f5f\"},\"hovermode\":\"closest\",\"hoverlabel\":{\"align\":\"left\"},\"paper_bgcolor\":\"white\",\"plot_bgcolor\":\"#E5ECF6\",\"polar\":{\"bgcolor\":\"#E5ECF6\",\"angularaxis\":{\"gridcolor\":\"white\",\"linecolor\":\"white\",\"ticks\":\"\"},\"radialaxis\":{\"gridcolor\":\"white\",\"linecolor\":\"white\",\"ticks\":\"\"}},\"ternary\":{\"bgcolor\":\"#E5ECF6\",\"aaxis\":{\"gridcolor\":\"white\",\"linecolor\":\"white\",\"ticks\":\"\"},\"baxis\":{\"gridcolor\":\"white\",\"linecolor\":\"white\",\"ticks\":\"\"},\"caxis\":{\"gridcolor\":\"white\",\"linecolor\":\"white\",\"ticks\":\"\"}},\"coloraxis\":{\"colorbar\":{\"outlinewidth\":0,\"ticks\":\"\"}},\"colorscale\":{\"sequential\":[[0.0,\"#0d0887\"],[0.1111111111111111,\"#46039f\"],[0.2222222222222222,\"#7201a8\"],[0.3333333333333333,\"#9c179e\"],[0.4444444444444444,\"#bd3786\"],[0.5555555555555556,\"#d8576b\"],[0.6666666666666666,\"#ed7953\"],[0.7777777777777778,\"#fb9f3a\"],[0.8888888888888888,\"#fdca26\"],[1.0,\"#f0f921\"]],\"sequentialminus\":[[0.0,\"#0d0887\"],[0.1111111111111111,\"#46039f\"],[0.2222222222222222,\"#7201a8\"],[0.3333333333333333,\"#9c179e\"],[0.4444444444444444,\"#bd3786\"],[0.5555555555555556,\"#d8576b\"],[0.6666666666666666,\"#ed7953\"],[0.7777777777777778,\"#fb9f3a\"],[0.8888888888888888,\"#fdca26\"],[1.0,\"#f0f921\"]],\"diverging\":[[0,\"#8e0152\"],[0.1,\"#c51b7d\"],[0.2,\"#de77ae\"],[0.3,\"#f1b6da\"],[0.4,\"#fde0ef\"],[0.5,\"#f7f7f7\"],[0.6,\"#e6f5d0\"],[0.7,\"#b8e186\"],[0.8,\"#7fbc41\"],[0.9,\"#4d9221\"],[1,\"#276419\"]]},\"xaxis\":{\"gridcolor\":\"white\",\"linecolor\":\"white\",\"ticks\":\"\",\"title\":{\"standoff\":15},\"zerolinecolor\":\"white\",\"automargin\":true,\"zerolinewidth\":2},\"yaxis\":{\"gridcolor\":\"white\",\"linecolor\":\"white\",\"ticks\":\"\",\"title\":{\"standoff\":15},\"zerolinecolor\":\"white\",\"automargin\":true,\"zerolinewidth\":2},\"scene\":{\"xaxis\":{\"backgroundcolor\":\"#E5ECF6\",\"gridcolor\":\"white\",\"linecolor\":\"white\",\"showbackground\":true,\"ticks\":\"\",\"zerolinecolor\":\"white\",\"gridwidth\":2},\"yaxis\":{\"backgroundcolor\":\"#E5ECF6\",\"gridcolor\":\"white\",\"linecolor\":\"white\",\"showbackground\":true,\"ticks\":\"\",\"zerolinecolor\":\"white\",\"gridwidth\":2},\"zaxis\":{\"backgroundcolor\":\"#E5ECF6\",\"gridcolor\":\"white\",\"linecolor\":\"white\",\"showbackground\":true,\"ticks\":\"\",\"zerolinecolor\":\"white\",\"gridwidth\":2}},\"shapedefaults\":{\"line\":{\"color\":\"#2a3f5f\"}},\"annotationdefaults\":{\"arrowcolor\":\"#2a3f5f\",\"arrowhead\":0,\"arrowwidth\":1},\"geo\":{\"bgcolor\":\"white\",\"landcolor\":\"#E5ECF6\",\"subunitcolor\":\"white\",\"showland\":true,\"showlakes\":true,\"lakecolor\":\"white\"},\"title\":{\"x\":0.05},\"mapbox\":{\"style\":\"light\"}}},\"xaxis\":{\"anchor\":\"y\",\"domain\":[0.0,1.0],\"title\":{\"text\":\"Classifica\\u00e7\\u00f5es\"}},\"yaxis\":{\"anchor\":\"x\",\"domain\":[0.0,1.0],\"title\":{\"text\":\"2020 - 2022 (1 AO 2 Quadrimestre)\"}},\"legend\":{\"title\":{\"text\":\"Municipio\"},\"tracegroupgap\":0},\"margin\":{\"t\":60},\"barmode\":\"group\",\"title\":{\"text\":\"Analise de Desempenho do Maci\\u00e7o de Baturit\\u00e9 ( Classificas\\u00f5es )\"}},                        {\"responsive\": true}                    ).then(function(){\n",
              "                            \n",
              "var gd = document.getElementById('7e992cb4-1fd5-4439-beeb-0739bc72d7e5');\n",
              "var x = new MutationObserver(function (mutations, observer) {{\n",
              "        var display = window.getComputedStyle(gd).display;\n",
              "        if (!display || display === 'none') {{\n",
              "            console.log([gd, 'removed!']);\n",
              "            Plotly.purge(gd);\n",
              "            observer.disconnect();\n",
              "        }}\n",
              "}});\n",
              "\n",
              "// Listen for the removal of the full notebook cells\n",
              "var notebookContainer = gd.closest('#notebook-container');\n",
              "if (notebookContainer) {{\n",
              "    x.observe(notebookContainer, {childList: true});\n",
              "}}\n",
              "\n",
              "// Listen for the clearing of the current output cell\n",
              "var outputEl = gd.closest('.output');\n",
              "if (outputEl) {{\n",
              "    x.observe(outputEl, {childList: true});\n",
              "}}\n",
              "\n",
              "                        })                };                            </script>        </div>\n",
              "</body>\n",
              "</html>"
            ]
          },
          "metadata": {}
        }
      ]
    },
    {
      "cell_type": "code",
      "source": [],
      "metadata": {
        "id": "7MbeUfD8RFLS"
      },
      "execution_count": null,
      "outputs": []
    },
    {
      "cell_type": "markdown",
      "source": [
        "## Indicador 5\n",
        "  >5. 2020 até 2022 (1 ao 2 Quadrimestre)"
      ],
      "metadata": {
        "id": "tynUbOL4RXzK"
      }
    },
    {
      "cell_type": "code",
      "source": [
        "indicador5 = bd.loc[bd['Indicador'] == 5]"
      ],
      "metadata": {
        "id": "BqTMVMDTRqmF"
      },
      "execution_count": 127,
      "outputs": []
    },
    {
      "cell_type": "code",
      "source": [
        "grafico = px.bar(indicador5,\n",
        "                  hover_data= ['Indicador'],\n",
        "                  color = 'Municipio'\n",
        "                 ,y=['Classificação','Classificação.1','Classificação.2','Classificação.3','Classificação.4','Classificação.5','Classificação.6','Classificação.7'],\n",
        "                 barmode ='group'\n",
        "                 )\n",
        "grafico.update_layout(title = 'Analise de Desempenho do Maciço de Baturité ( Classificasões )')\n",
        "grafico.update_xaxes(title = 'Classificações')\n",
        "grafico.update_yaxes(title ='2020 - 2022 (1 AO 2 Quadrimestre)' ) \n",
        "grafico.show()"
      ],
      "metadata": {
        "colab": {
          "base_uri": "https://localhost:8080/",
          "height": 542
        },
        "id": "5R188E3nRZr6",
        "outputId": "05ef9a3b-42d9-47db-898b-14643aec13cc"
      },
      "execution_count": 128,
      "outputs": [
        {
          "output_type": "display_data",
          "data": {
            "text/html": [
              "<html>\n",
              "<head><meta charset=\"utf-8\" /></head>\n",
              "<body>\n",
              "    <div>            <script src=\"https://cdnjs.cloudflare.com/ajax/libs/mathjax/2.7.5/MathJax.js?config=TeX-AMS-MML_SVG\"></script><script type=\"text/javascript\">if (window.MathJax && window.MathJax.Hub && window.MathJax.Hub.Config) {window.MathJax.Hub.Config({SVG: {font: \"STIX-Web\"}});}</script>                <script type=\"text/javascript\">window.PlotlyConfig = {MathJaxConfig: 'local'};</script>\n",
              "        <script src=\"https://cdn.plot.ly/plotly-2.16.1.min.js\"></script>                <div id=\"cad70f8e-50f7-477f-be92-63b7819799eb\" class=\"plotly-graph-div\" style=\"height:525px; width:100%;\"></div>            <script type=\"text/javascript\">                                    window.PLOTLYENV=window.PLOTLYENV || {};                                    if (document.getElementById(\"cad70f8e-50f7-477f-be92-63b7819799eb\")) {                    Plotly.newPlot(                        \"cad70f8e-50f7-477f-be92-63b7819799eb\",                        [{\"alignmentgroup\":\"True\",\"customdata\":[[5.0],[5.0],[5.0],[5.0],[5.0],[5.0],[5.0],[5.0]],\"hovertemplate\":\"Municipio=Acarape<br>value=%{x}<br>count=%{y}<br>Indicador=%{customdata[0]}<extra></extra>\",\"legendgroup\":\"Acarape\",\"marker\":{\"color\":\"#636efa\",\"pattern\":{\"shape\":\"\"}},\"name\":\"Acarape\",\"offsetgroup\":\"Acarape\",\"orientation\":\"v\",\"showlegend\":true,\"textposition\":\"auto\",\"x\":[\"Ruim\",\"Bom\",\"Bom\",\"Ruim\",\"Ruim\",\"Ruim\",\"Ruim\",\"Bom\"],\"xaxis\":\"x\",\"y\":[1,1,1,1,1,1,1,1],\"yaxis\":\"y\",\"type\":\"bar\"},{\"alignmentgroup\":\"True\",\"customdata\":[[5.0],[5.0],[5.0],[5.0],[5.0],[5.0],[5.0],[5.0]],\"hovertemplate\":\"Municipio=Aracoiaba<br>value=%{x}<br>count=%{y}<br>Indicador=%{customdata[0]}<extra></extra>\",\"legendgroup\":\"Aracoiaba\",\"marker\":{\"color\":\"#EF553B\",\"pattern\":{\"shape\":\"\"}},\"name\":\"Aracoiaba\",\"offsetgroup\":\"Aracoiaba\",\"orientation\":\"v\",\"showlegend\":true,\"textposition\":\"auto\",\"x\":[\"Ruim\",\"Razoavel\",\"Razoavel\",\"Ruim\",\"Ruim\",\"Ruim\",\"Bom\",\"Bom\"],\"xaxis\":\"x\",\"y\":[1,1,1,1,1,1,1,1],\"yaxis\":\"y\",\"type\":\"bar\"},{\"alignmentgroup\":\"True\",\"customdata\":[[5.0],[5.0],[5.0],[5.0],[5.0],[5.0],[5.0],[5.0]],\"hovertemplate\":\"Municipio=Aratuba<br>value=%{x}<br>count=%{y}<br>Indicador=%{customdata[0]}<extra></extra>\",\"legendgroup\":\"Aratuba\",\"marker\":{\"color\":\"#00cc96\",\"pattern\":{\"shape\":\"\"}},\"name\":\"Aratuba\",\"offsetgroup\":\"Aratuba\",\"orientation\":\"v\",\"showlegend\":true,\"textposition\":\"auto\",\"x\":[\"Bom\",\"Ruim\",\"Ruim\",\"Ruim\",\"Ruim\",\"Ruim\",\"Bom\",\"Bom\"],\"xaxis\":\"x\",\"y\":[1,1,1,1,1,1,1,1],\"yaxis\":\"y\",\"type\":\"bar\"},{\"alignmentgroup\":\"True\",\"customdata\":[[5.0],[5.0],[5.0],[5.0],[5.0],[5.0],[5.0],[5.0]],\"hovertemplate\":\"Municipio=Barreira<br>value=%{x}<br>count=%{y}<br>Indicador=%{customdata[0]}<extra></extra>\",\"legendgroup\":\"Barreira\",\"marker\":{\"color\":\"#ab63fa\",\"pattern\":{\"shape\":\"\"}},\"name\":\"Barreira\",\"offsetgroup\":\"Barreira\",\"orientation\":\"v\",\"showlegend\":true,\"textposition\":\"auto\",\"x\":[\"Ruim\",\"Ruim\",\"Ruim\",\"Ruim\",\"Ruim\",\"Ruim\",\"Razoavel\",\"Razoavel\"],\"xaxis\":\"x\",\"y\":[1,1,1,1,1,1,1,1],\"yaxis\":\"y\",\"type\":\"bar\"},{\"alignmentgroup\":\"True\",\"customdata\":[[5.0],[5.0],[5.0],[5.0],[5.0],[5.0],[5.0],[5.0]],\"hovertemplate\":\"Municipio=Baturite<br>value=%{x}<br>count=%{y}<br>Indicador=%{customdata[0]}<extra></extra>\",\"legendgroup\":\"Baturite\",\"marker\":{\"color\":\"#FFA15A\",\"pattern\":{\"shape\":\"\"}},\"name\":\"Baturite\",\"offsetgroup\":\"Baturite\",\"orientation\":\"v\",\"showlegend\":true,\"textposition\":\"auto\",\"x\":[\"Ruim\",\"Ruim\",\"Ruim\",\"Ruim\",\"Ruim\",\"Ruim\",\"Razoavel\",\"Bom\"],\"xaxis\":\"x\",\"y\":[1,1,1,1,1,1,1,1],\"yaxis\":\"y\",\"type\":\"bar\"},{\"alignmentgroup\":\"True\",\"customdata\":[[5.0],[5.0],[5.0],[5.0],[5.0],[5.0],[5.0],[5.0]],\"hovertemplate\":\"Municipio=Capistrano<br>value=%{x}<br>count=%{y}<br>Indicador=%{customdata[0]}<extra></extra>\",\"legendgroup\":\"Capistrano\",\"marker\":{\"color\":\"#19d3f3\",\"pattern\":{\"shape\":\"\"}},\"name\":\"Capistrano\",\"offsetgroup\":\"Capistrano\",\"orientation\":\"v\",\"showlegend\":true,\"textposition\":\"auto\",\"x\":[\"Ruim\",\"Razoavel\",\"Razoavel\",\"Razoavel\",\"Razoavel\",\"Ruim\",\"Bom\",\"Bom\"],\"xaxis\":\"x\",\"y\":[1,1,1,1,1,1,1,1],\"yaxis\":\"y\",\"type\":\"bar\"},{\"alignmentgroup\":\"True\",\"customdata\":[[5.0],[5.0],[5.0],[5.0],[5.0],[5.0],[5.0],[5.0]],\"hovertemplate\":\"Municipio=Guaramiranga<br>value=%{x}<br>count=%{y}<br>Indicador=%{customdata[0]}<extra></extra>\",\"legendgroup\":\"Guaramiranga\",\"marker\":{\"color\":\"#FF6692\",\"pattern\":{\"shape\":\"\"}},\"name\":\"Guaramiranga\",\"offsetgroup\":\"Guaramiranga\",\"orientation\":\"v\",\"showlegend\":true,\"textposition\":\"auto\",\"x\":[\"Razoavel\",\"Razoavel\",\"Bom\",\"Razoavel\",\"Ruim\",\"Ruim\",\"Bom\",\"Otimo\"],\"xaxis\":\"x\",\"y\":[1,1,1,1,1,1,1,1],\"yaxis\":\"y\",\"type\":\"bar\"},{\"alignmentgroup\":\"True\",\"customdata\":[[5.0],[5.0],[5.0],[5.0],[5.0],[5.0],[5.0],[5.0]],\"hovertemplate\":\"Municipio=Itapiuna<br>value=%{x}<br>count=%{y}<br>Indicador=%{customdata[0]}<extra></extra>\",\"legendgroup\":\"Itapiuna\",\"marker\":{\"color\":\"#B6E880\",\"pattern\":{\"shape\":\"\"}},\"name\":\"Itapiuna\",\"offsetgroup\":\"Itapiuna\",\"orientation\":\"v\",\"showlegend\":true,\"textposition\":\"auto\",\"x\":[\"Ruim\",\"Otimo\",\"Razoavel\",\"Ruim\",\"Ruim\",\"Ruim\",\"Bom\",\"Bom\"],\"xaxis\":\"x\",\"y\":[1,1,1,1,1,1,1,1],\"yaxis\":\"y\",\"type\":\"bar\"},{\"alignmentgroup\":\"True\",\"customdata\":[[5.0],[5.0],[5.0],[5.0],[5.0],[5.0],[5.0],[5.0]],\"hovertemplate\":\"Municipio=Mulungu<br>value=%{x}<br>count=%{y}<br>Indicador=%{customdata[0]}<extra></extra>\",\"legendgroup\":\"Mulungu\",\"marker\":{\"color\":\"#FF97FF\",\"pattern\":{\"shape\":\"\"}},\"name\":\"Mulungu\",\"offsetgroup\":\"Mulungu\",\"orientation\":\"v\",\"showlegend\":true,\"textposition\":\"auto\",\"x\":[\"Ruim\",\"Bom\",\"Bom\",\"Ruim\",\"Ruim\",\"Ruim\",\"Bom\",\"Otimo\"],\"xaxis\":\"x\",\"y\":[1,1,1,1,1,1,1,1],\"yaxis\":\"y\",\"type\":\"bar\"},{\"alignmentgroup\":\"True\",\"customdata\":[[5.0],[5.0],[5.0],[5.0],[5.0],[5.0],[5.0],[5.0]],\"hovertemplate\":\"Municipio=Ocora<br>value=%{x}<br>count=%{y}<br>Indicador=%{customdata[0]}<extra></extra>\",\"legendgroup\":\"Ocora\",\"marker\":{\"color\":\"#FECB52\",\"pattern\":{\"shape\":\"\"}},\"name\":\"Ocora\",\"offsetgroup\":\"Ocora\",\"orientation\":\"v\",\"showlegend\":true,\"textposition\":\"auto\",\"x\":[\"Ruim\",\"Razoavel\",\"Ruim\",\"Razoavel\",\"Ruim\",\"Ruim\",\"Razoavel\",\"Bom\"],\"xaxis\":\"x\",\"y\":[1,1,1,1,1,1,1,1],\"yaxis\":\"y\",\"type\":\"bar\"},{\"alignmentgroup\":\"True\",\"customdata\":[[5.0],[5.0],[5.0],[5.0],[5.0],[5.0],[5.0],[5.0]],\"hovertemplate\":\"Municipio=Pacoti<br>value=%{x}<br>count=%{y}<br>Indicador=%{customdata[0]}<extra></extra>\",\"legendgroup\":\"Pacoti\",\"marker\":{\"color\":\"#636efa\",\"pattern\":{\"shape\":\"\"}},\"name\":\"Pacoti\",\"offsetgroup\":\"Pacoti\",\"orientation\":\"v\",\"showlegend\":true,\"textposition\":\"auto\",\"x\":[\"Ruim\",\"Razoavel\",\"Razoavel\",\"Razoavel\",\"Ruim\",\"Ruim\",\"Bom\",\"Razoavel\"],\"xaxis\":\"x\",\"y\":[1,1,1,1,1,1,1,1],\"yaxis\":\"y\",\"type\":\"bar\"},{\"alignmentgroup\":\"True\",\"customdata\":[[5.0],[5.0],[5.0],[5.0],[5.0],[5.0],[5.0],[5.0]],\"hovertemplate\":\"Municipio=Palmacia<br>value=%{x}<br>count=%{y}<br>Indicador=%{customdata[0]}<extra></extra>\",\"legendgroup\":\"Palmacia\",\"marker\":{\"color\":\"#EF553B\",\"pattern\":{\"shape\":\"\"}},\"name\":\"Palmacia\",\"offsetgroup\":\"Palmacia\",\"orientation\":\"v\",\"showlegend\":true,\"textposition\":\"auto\",\"x\":[\"Ruim\",\"Ruim\",\"Razoavel\",\"Razoavel\",\"Ruim\",\"Ruim\",\"Razoavel\",\"Bom\"],\"xaxis\":\"x\",\"y\":[1,1,1,1,1,1,1,1],\"yaxis\":\"y\",\"type\":\"bar\"},{\"alignmentgroup\":\"True\",\"customdata\":[[5.0],[5.0],[5.0],[5.0],[5.0],[5.0],[5.0],[5.0]],\"hovertemplate\":\"Municipio=Reden\\u00e7\\u00e3o<br>value=%{x}<br>count=%{y}<br>Indicador=%{customdata[0]}<extra></extra>\",\"legendgroup\":\"Reden\\u00e7\\u00e3o\",\"marker\":{\"color\":\"#00cc96\",\"pattern\":{\"shape\":\"\"}},\"name\":\"Reden\\u00e7\\u00e3o\",\"offsetgroup\":\"Reden\\u00e7\\u00e3o\",\"orientation\":\"v\",\"showlegend\":true,\"textposition\":\"auto\",\"x\":[\"Ruim\",\"Razoavel\",\"Razoavel\",\"Razoavel\",\"Ruim\",\"Ruim\",\"Razoavel\",\"Bom\"],\"xaxis\":\"x\",\"y\":[1,1,1,1,1,1,1,1],\"yaxis\":\"y\",\"type\":\"bar\"}],                        {\"template\":{\"data\":{\"histogram2dcontour\":[{\"type\":\"histogram2dcontour\",\"colorbar\":{\"outlinewidth\":0,\"ticks\":\"\"},\"colorscale\":[[0.0,\"#0d0887\"],[0.1111111111111111,\"#46039f\"],[0.2222222222222222,\"#7201a8\"],[0.3333333333333333,\"#9c179e\"],[0.4444444444444444,\"#bd3786\"],[0.5555555555555556,\"#d8576b\"],[0.6666666666666666,\"#ed7953\"],[0.7777777777777778,\"#fb9f3a\"],[0.8888888888888888,\"#fdca26\"],[1.0,\"#f0f921\"]]}],\"choropleth\":[{\"type\":\"choropleth\",\"colorbar\":{\"outlinewidth\":0,\"ticks\":\"\"}}],\"histogram2d\":[{\"type\":\"histogram2d\",\"colorbar\":{\"outlinewidth\":0,\"ticks\":\"\"},\"colorscale\":[[0.0,\"#0d0887\"],[0.1111111111111111,\"#46039f\"],[0.2222222222222222,\"#7201a8\"],[0.3333333333333333,\"#9c179e\"],[0.4444444444444444,\"#bd3786\"],[0.5555555555555556,\"#d8576b\"],[0.6666666666666666,\"#ed7953\"],[0.7777777777777778,\"#fb9f3a\"],[0.8888888888888888,\"#fdca26\"],[1.0,\"#f0f921\"]]}],\"heatmap\":[{\"type\":\"heatmap\",\"colorbar\":{\"outlinewidth\":0,\"ticks\":\"\"},\"colorscale\":[[0.0,\"#0d0887\"],[0.1111111111111111,\"#46039f\"],[0.2222222222222222,\"#7201a8\"],[0.3333333333333333,\"#9c179e\"],[0.4444444444444444,\"#bd3786\"],[0.5555555555555556,\"#d8576b\"],[0.6666666666666666,\"#ed7953\"],[0.7777777777777778,\"#fb9f3a\"],[0.8888888888888888,\"#fdca26\"],[1.0,\"#f0f921\"]]}],\"heatmapgl\":[{\"type\":\"heatmapgl\",\"colorbar\":{\"outlinewidth\":0,\"ticks\":\"\"},\"colorscale\":[[0.0,\"#0d0887\"],[0.1111111111111111,\"#46039f\"],[0.2222222222222222,\"#7201a8\"],[0.3333333333333333,\"#9c179e\"],[0.4444444444444444,\"#bd3786\"],[0.5555555555555556,\"#d8576b\"],[0.6666666666666666,\"#ed7953\"],[0.7777777777777778,\"#fb9f3a\"],[0.8888888888888888,\"#fdca26\"],[1.0,\"#f0f921\"]]}],\"contourcarpet\":[{\"type\":\"contourcarpet\",\"colorbar\":{\"outlinewidth\":0,\"ticks\":\"\"}}],\"contour\":[{\"type\":\"contour\",\"colorbar\":{\"outlinewidth\":0,\"ticks\":\"\"},\"colorscale\":[[0.0,\"#0d0887\"],[0.1111111111111111,\"#46039f\"],[0.2222222222222222,\"#7201a8\"],[0.3333333333333333,\"#9c179e\"],[0.4444444444444444,\"#bd3786\"],[0.5555555555555556,\"#d8576b\"],[0.6666666666666666,\"#ed7953\"],[0.7777777777777778,\"#fb9f3a\"],[0.8888888888888888,\"#fdca26\"],[1.0,\"#f0f921\"]]}],\"surface\":[{\"type\":\"surface\",\"colorbar\":{\"outlinewidth\":0,\"ticks\":\"\"},\"colorscale\":[[0.0,\"#0d0887\"],[0.1111111111111111,\"#46039f\"],[0.2222222222222222,\"#7201a8\"],[0.3333333333333333,\"#9c179e\"],[0.4444444444444444,\"#bd3786\"],[0.5555555555555556,\"#d8576b\"],[0.6666666666666666,\"#ed7953\"],[0.7777777777777778,\"#fb9f3a\"],[0.8888888888888888,\"#fdca26\"],[1.0,\"#f0f921\"]]}],\"mesh3d\":[{\"type\":\"mesh3d\",\"colorbar\":{\"outlinewidth\":0,\"ticks\":\"\"}}],\"scatter\":[{\"fillpattern\":{\"fillmode\":\"overlay\",\"size\":10,\"solidity\":0.2},\"type\":\"scatter\"}],\"parcoords\":[{\"type\":\"parcoords\",\"line\":{\"colorbar\":{\"outlinewidth\":0,\"ticks\":\"\"}}}],\"scatterpolargl\":[{\"type\":\"scatterpolargl\",\"marker\":{\"colorbar\":{\"outlinewidth\":0,\"ticks\":\"\"}}}],\"bar\":[{\"error_x\":{\"color\":\"#2a3f5f\"},\"error_y\":{\"color\":\"#2a3f5f\"},\"marker\":{\"line\":{\"color\":\"#E5ECF6\",\"width\":0.5},\"pattern\":{\"fillmode\":\"overlay\",\"size\":10,\"solidity\":0.2}},\"type\":\"bar\"}],\"scattergeo\":[{\"type\":\"scattergeo\",\"marker\":{\"colorbar\":{\"outlinewidth\":0,\"ticks\":\"\"}}}],\"scatterpolar\":[{\"type\":\"scatterpolar\",\"marker\":{\"colorbar\":{\"outlinewidth\":0,\"ticks\":\"\"}}}],\"histogram\":[{\"marker\":{\"pattern\":{\"fillmode\":\"overlay\",\"size\":10,\"solidity\":0.2}},\"type\":\"histogram\"}],\"scattergl\":[{\"type\":\"scattergl\",\"marker\":{\"colorbar\":{\"outlinewidth\":0,\"ticks\":\"\"}}}],\"scatter3d\":[{\"type\":\"scatter3d\",\"line\":{\"colorbar\":{\"outlinewidth\":0,\"ticks\":\"\"}},\"marker\":{\"colorbar\":{\"outlinewidth\":0,\"ticks\":\"\"}}}],\"scattermapbox\":[{\"type\":\"scattermapbox\",\"marker\":{\"colorbar\":{\"outlinewidth\":0,\"ticks\":\"\"}}}],\"scatterternary\":[{\"type\":\"scatterternary\",\"marker\":{\"colorbar\":{\"outlinewidth\":0,\"ticks\":\"\"}}}],\"scattercarpet\":[{\"type\":\"scattercarpet\",\"marker\":{\"colorbar\":{\"outlinewidth\":0,\"ticks\":\"\"}}}],\"carpet\":[{\"aaxis\":{\"endlinecolor\":\"#2a3f5f\",\"gridcolor\":\"white\",\"linecolor\":\"white\",\"minorgridcolor\":\"white\",\"startlinecolor\":\"#2a3f5f\"},\"baxis\":{\"endlinecolor\":\"#2a3f5f\",\"gridcolor\":\"white\",\"linecolor\":\"white\",\"minorgridcolor\":\"white\",\"startlinecolor\":\"#2a3f5f\"},\"type\":\"carpet\"}],\"table\":[{\"cells\":{\"fill\":{\"color\":\"#EBF0F8\"},\"line\":{\"color\":\"white\"}},\"header\":{\"fill\":{\"color\":\"#C8D4E3\"},\"line\":{\"color\":\"white\"}},\"type\":\"table\"}],\"barpolar\":[{\"marker\":{\"line\":{\"color\":\"#E5ECF6\",\"width\":0.5},\"pattern\":{\"fillmode\":\"overlay\",\"size\":10,\"solidity\":0.2}},\"type\":\"barpolar\"}],\"pie\":[{\"automargin\":true,\"type\":\"pie\"}]},\"layout\":{\"autotypenumbers\":\"strict\",\"colorway\":[\"#636efa\",\"#EF553B\",\"#00cc96\",\"#ab63fa\",\"#FFA15A\",\"#19d3f3\",\"#FF6692\",\"#B6E880\",\"#FF97FF\",\"#FECB52\"],\"font\":{\"color\":\"#2a3f5f\"},\"hovermode\":\"closest\",\"hoverlabel\":{\"align\":\"left\"},\"paper_bgcolor\":\"white\",\"plot_bgcolor\":\"#E5ECF6\",\"polar\":{\"bgcolor\":\"#E5ECF6\",\"angularaxis\":{\"gridcolor\":\"white\",\"linecolor\":\"white\",\"ticks\":\"\"},\"radialaxis\":{\"gridcolor\":\"white\",\"linecolor\":\"white\",\"ticks\":\"\"}},\"ternary\":{\"bgcolor\":\"#E5ECF6\",\"aaxis\":{\"gridcolor\":\"white\",\"linecolor\":\"white\",\"ticks\":\"\"},\"baxis\":{\"gridcolor\":\"white\",\"linecolor\":\"white\",\"ticks\":\"\"},\"caxis\":{\"gridcolor\":\"white\",\"linecolor\":\"white\",\"ticks\":\"\"}},\"coloraxis\":{\"colorbar\":{\"outlinewidth\":0,\"ticks\":\"\"}},\"colorscale\":{\"sequential\":[[0.0,\"#0d0887\"],[0.1111111111111111,\"#46039f\"],[0.2222222222222222,\"#7201a8\"],[0.3333333333333333,\"#9c179e\"],[0.4444444444444444,\"#bd3786\"],[0.5555555555555556,\"#d8576b\"],[0.6666666666666666,\"#ed7953\"],[0.7777777777777778,\"#fb9f3a\"],[0.8888888888888888,\"#fdca26\"],[1.0,\"#f0f921\"]],\"sequentialminus\":[[0.0,\"#0d0887\"],[0.1111111111111111,\"#46039f\"],[0.2222222222222222,\"#7201a8\"],[0.3333333333333333,\"#9c179e\"],[0.4444444444444444,\"#bd3786\"],[0.5555555555555556,\"#d8576b\"],[0.6666666666666666,\"#ed7953\"],[0.7777777777777778,\"#fb9f3a\"],[0.8888888888888888,\"#fdca26\"],[1.0,\"#f0f921\"]],\"diverging\":[[0,\"#8e0152\"],[0.1,\"#c51b7d\"],[0.2,\"#de77ae\"],[0.3,\"#f1b6da\"],[0.4,\"#fde0ef\"],[0.5,\"#f7f7f7\"],[0.6,\"#e6f5d0\"],[0.7,\"#b8e186\"],[0.8,\"#7fbc41\"],[0.9,\"#4d9221\"],[1,\"#276419\"]]},\"xaxis\":{\"gridcolor\":\"white\",\"linecolor\":\"white\",\"ticks\":\"\",\"title\":{\"standoff\":15},\"zerolinecolor\":\"white\",\"automargin\":true,\"zerolinewidth\":2},\"yaxis\":{\"gridcolor\":\"white\",\"linecolor\":\"white\",\"ticks\":\"\",\"title\":{\"standoff\":15},\"zerolinecolor\":\"white\",\"automargin\":true,\"zerolinewidth\":2},\"scene\":{\"xaxis\":{\"backgroundcolor\":\"#E5ECF6\",\"gridcolor\":\"white\",\"linecolor\":\"white\",\"showbackground\":true,\"ticks\":\"\",\"zerolinecolor\":\"white\",\"gridwidth\":2},\"yaxis\":{\"backgroundcolor\":\"#E5ECF6\",\"gridcolor\":\"white\",\"linecolor\":\"white\",\"showbackground\":true,\"ticks\":\"\",\"zerolinecolor\":\"white\",\"gridwidth\":2},\"zaxis\":{\"backgroundcolor\":\"#E5ECF6\",\"gridcolor\":\"white\",\"linecolor\":\"white\",\"showbackground\":true,\"ticks\":\"\",\"zerolinecolor\":\"white\",\"gridwidth\":2}},\"shapedefaults\":{\"line\":{\"color\":\"#2a3f5f\"}},\"annotationdefaults\":{\"arrowcolor\":\"#2a3f5f\",\"arrowhead\":0,\"arrowwidth\":1},\"geo\":{\"bgcolor\":\"white\",\"landcolor\":\"#E5ECF6\",\"subunitcolor\":\"white\",\"showland\":true,\"showlakes\":true,\"lakecolor\":\"white\"},\"title\":{\"x\":0.05},\"mapbox\":{\"style\":\"light\"}}},\"xaxis\":{\"anchor\":\"y\",\"domain\":[0.0,1.0],\"title\":{\"text\":\"Classifica\\u00e7\\u00f5es\"}},\"yaxis\":{\"anchor\":\"x\",\"domain\":[0.0,1.0],\"title\":{\"text\":\"2020 - 2022 (1 AO 2 Quadrimestre)\"}},\"legend\":{\"title\":{\"text\":\"Municipio\"},\"tracegroupgap\":0},\"margin\":{\"t\":60},\"barmode\":\"group\",\"title\":{\"text\":\"Analise de Desempenho do Maci\\u00e7o de Baturit\\u00e9 ( Classificas\\u00f5es )\"}},                        {\"responsive\": true}                    ).then(function(){\n",
              "                            \n",
              "var gd = document.getElementById('cad70f8e-50f7-477f-be92-63b7819799eb');\n",
              "var x = new MutationObserver(function (mutations, observer) {{\n",
              "        var display = window.getComputedStyle(gd).display;\n",
              "        if (!display || display === 'none') {{\n",
              "            console.log([gd, 'removed!']);\n",
              "            Plotly.purge(gd);\n",
              "            observer.disconnect();\n",
              "        }}\n",
              "}});\n",
              "\n",
              "// Listen for the removal of the full notebook cells\n",
              "var notebookContainer = gd.closest('#notebook-container');\n",
              "if (notebookContainer) {{\n",
              "    x.observe(notebookContainer, {childList: true});\n",
              "}}\n",
              "\n",
              "// Listen for the clearing of the current output cell\n",
              "var outputEl = gd.closest('.output');\n",
              "if (outputEl) {{\n",
              "    x.observe(outputEl, {childList: true});\n",
              "}}\n",
              "\n",
              "                        })                };                            </script>        </div>\n",
              "</body>\n",
              "</html>"
            ]
          },
          "metadata": {}
        }
      ]
    },
    {
      "cell_type": "markdown",
      "source": [
        "## Indicador 6 \n",
        "  >6. 2020 até 2022 (1 ao 2 Quadrimestre)"
      ],
      "metadata": {
        "id": "V2LR3z9XSdng"
      }
    },
    {
      "cell_type": "code",
      "source": [
        "indicador6 = bd.loc[bd['Indicador'] == 6]\n",
        "grafico = px.bar(indicador6,\n",
        "                  hover_data= ['Indicador'],\n",
        "                  color = 'Municipio'\n",
        "                 ,y=['Classificação','Classificação.1','Classificação.2','Classificação.3','Classificação.4','Classificação.5','Classificação.6','Classificação.7'],\n",
        "                 barmode ='group'\n",
        "                 )\n",
        "grafico.update_layout(title = 'Analise de Desempenho do Maciço de Baturité ( Classificasões )')\n",
        "grafico.update_xaxes(title = 'Classificações')\n",
        "grafico.update_yaxes(title ='2020 - 2022 (1 AO 2 Quadrimestre)' ) \n",
        "grafico.show()"
      ],
      "metadata": {
        "colab": {
          "base_uri": "https://localhost:8080/",
          "height": 542
        },
        "id": "dm8YVi3ISj3c",
        "outputId": "6de752bb-a281-410b-ff36-4a9a292ca277"
      },
      "execution_count": 129,
      "outputs": [
        {
          "output_type": "display_data",
          "data": {
            "text/html": [
              "<html>\n",
              "<head><meta charset=\"utf-8\" /></head>\n",
              "<body>\n",
              "    <div>            <script src=\"https://cdnjs.cloudflare.com/ajax/libs/mathjax/2.7.5/MathJax.js?config=TeX-AMS-MML_SVG\"></script><script type=\"text/javascript\">if (window.MathJax && window.MathJax.Hub && window.MathJax.Hub.Config) {window.MathJax.Hub.Config({SVG: {font: \"STIX-Web\"}});}</script>                <script type=\"text/javascript\">window.PlotlyConfig = {MathJaxConfig: 'local'};</script>\n",
              "        <script src=\"https://cdn.plot.ly/plotly-2.16.1.min.js\"></script>                <div id=\"d5a7c625-84e0-4080-9ba1-6327d3ac1185\" class=\"plotly-graph-div\" style=\"height:525px; width:100%;\"></div>            <script type=\"text/javascript\">                                    window.PLOTLYENV=window.PLOTLYENV || {};                                    if (document.getElementById(\"d5a7c625-84e0-4080-9ba1-6327d3ac1185\")) {                    Plotly.newPlot(                        \"d5a7c625-84e0-4080-9ba1-6327d3ac1185\",                        [{\"alignmentgroup\":\"True\",\"customdata\":[[6.0],[6.0],[6.0],[6.0],[6.0],[6.0],[6.0],[6.0]],\"hovertemplate\":\"Municipio=Acarape<br>value=%{x}<br>count=%{y}<br>Indicador=%{customdata[0]}<extra></extra>\",\"legendgroup\":\"Acarape\",\"marker\":{\"color\":\"#636efa\",\"pattern\":{\"shape\":\"\"}},\"name\":\"Acarape\",\"offsetgroup\":\"Acarape\",\"orientation\":\"v\",\"showlegend\":true,\"textposition\":\"auto\",\"x\":[\"Ruim\",\"Ruim\",\"Ruim\",\"Ruim\",\"Ruim\",\"Ruim\",\"Ruim\",\"Ruim\"],\"xaxis\":\"x\",\"y\":[1,1,1,1,1,1,1,1],\"yaxis\":\"y\",\"type\":\"bar\"},{\"alignmentgroup\":\"True\",\"customdata\":[[6.0],[6.0],[6.0],[6.0],[6.0],[6.0],[6.0],[6.0]],\"hovertemplate\":\"Municipio=Aracoiaba<br>value=%{x}<br>count=%{y}<br>Indicador=%{customdata[0]}<extra></extra>\",\"legendgroup\":\"Aracoiaba\",\"marker\":{\"color\":\"#EF553B\",\"pattern\":{\"shape\":\"\"}},\"name\":\"Aracoiaba\",\"offsetgroup\":\"Aracoiaba\",\"orientation\":\"v\",\"showlegend\":true,\"textposition\":\"auto\",\"x\":[\"Ruim\",\"Ruim\",\"Ruim\",\"Ruim\",\"Ruim\",\"Ruim\",\"Razoavel\",\"Razoavel\"],\"xaxis\":\"x\",\"y\":[1,1,1,1,1,1,1,1],\"yaxis\":\"y\",\"type\":\"bar\"},{\"alignmentgroup\":\"True\",\"customdata\":[[6.0],[6.0],[6.0],[6.0],[6.0],[6.0],[6.0],[6.0]],\"hovertemplate\":\"Municipio=Aratuba<br>value=%{x}<br>count=%{y}<br>Indicador=%{customdata[0]}<extra></extra>\",\"legendgroup\":\"Aratuba\",\"marker\":{\"color\":\"#00cc96\",\"pattern\":{\"shape\":\"\"}},\"name\":\"Aratuba\",\"offsetgroup\":\"Aratuba\",\"orientation\":\"v\",\"showlegend\":true,\"textposition\":\"auto\",\"x\":[\"Ruim\",\"Ruim\",\"Ruim\",\"Ruim\",\"Razoavel\",\"Razoavel\",\"Razoavel\",\"Razoavel\"],\"xaxis\":\"x\",\"y\":[1,1,1,1,1,1,1,1],\"yaxis\":\"y\",\"type\":\"bar\"},{\"alignmentgroup\":\"True\",\"customdata\":[[6.0],[6.0],[6.0],[6.0],[6.0],[6.0],[6.0],[6.0]],\"hovertemplate\":\"Municipio=Barreira<br>value=%{x}<br>count=%{y}<br>Indicador=%{customdata[0]}<extra></extra>\",\"legendgroup\":\"Barreira\",\"marker\":{\"color\":\"#ab63fa\",\"pattern\":{\"shape\":\"\"}},\"name\":\"Barreira\",\"offsetgroup\":\"Barreira\",\"orientation\":\"v\",\"showlegend\":true,\"textposition\":\"auto\",\"x\":[\"Ruim\",\"Ruim\",\"Ruim\",\"Ruim\",\"Ruim\",\"Ruim\",\"Ruim\",\"Razoavel\"],\"xaxis\":\"x\",\"y\":[1,1,1,1,1,1,1,1],\"yaxis\":\"y\",\"type\":\"bar\"},{\"alignmentgroup\":\"True\",\"customdata\":[[6.0],[6.0],[6.0],[6.0],[6.0],[6.0],[6.0],[6.0]],\"hovertemplate\":\"Municipio=Baturite<br>value=%{x}<br>count=%{y}<br>Indicador=%{customdata[0]}<extra></extra>\",\"legendgroup\":\"Baturite\",\"marker\":{\"color\":\"#FFA15A\",\"pattern\":{\"shape\":\"\"}},\"name\":\"Baturite\",\"offsetgroup\":\"Baturite\",\"orientation\":\"v\",\"showlegend\":true,\"textposition\":\"auto\",\"x\":[\"Ruim\",\"Ruim\",\"Ruim\",\"Ruim\",\"Ruim\",\"Ruim\",\"Ruim\",\"Ruim\"],\"xaxis\":\"x\",\"y\":[1,1,1,1,1,1,1,1],\"yaxis\":\"y\",\"type\":\"bar\"},{\"alignmentgroup\":\"True\",\"customdata\":[[6.0],[6.0],[6.0],[6.0],[6.0],[6.0],[6.0],[6.0]],\"hovertemplate\":\"Municipio=Capistrano<br>value=%{x}<br>count=%{y}<br>Indicador=%{customdata[0]}<extra></extra>\",\"legendgroup\":\"Capistrano\",\"marker\":{\"color\":\"#19d3f3\",\"pattern\":{\"shape\":\"\"}},\"name\":\"Capistrano\",\"offsetgroup\":\"Capistrano\",\"orientation\":\"v\",\"showlegend\":true,\"textposition\":\"auto\",\"x\":[\"Ruim\",\"Ruim\",\"Ruim\",\"Ruim\",\"Razoavel\",\"Razoavel\",\"Razoavel\",\"Bom\"],\"xaxis\":\"x\",\"y\":[1,1,1,1,1,1,1,1],\"yaxis\":\"y\",\"type\":\"bar\"},{\"alignmentgroup\":\"True\",\"customdata\":[[6.0],[6.0],[6.0],[6.0],[6.0],[6.0],[6.0],[6.0]],\"hovertemplate\":\"Municipio=Guaramiranga<br>value=%{x}<br>count=%{y}<br>Indicador=%{customdata[0]}<extra></extra>\",\"legendgroup\":\"Guaramiranga\",\"marker\":{\"color\":\"#FF6692\",\"pattern\":{\"shape\":\"\"}},\"name\":\"Guaramiranga\",\"offsetgroup\":\"Guaramiranga\",\"orientation\":\"v\",\"showlegend\":true,\"textposition\":\"auto\",\"x\":[\"Ruim\",\"Ruim\",\"Ruim\",\"Ruim\",\"Ruim\",\"Ruim\",\"Razoavel\",\"Bom\"],\"xaxis\":\"x\",\"y\":[1,1,1,1,1,1,1,1],\"yaxis\":\"y\",\"type\":\"bar\"},{\"alignmentgroup\":\"True\",\"customdata\":[[6.0],[6.0],[6.0],[6.0],[6.0],[6.0],[6.0],[6.0]],\"hovertemplate\":\"Municipio=Itapiuna<br>value=%{x}<br>count=%{y}<br>Indicador=%{customdata[0]}<extra></extra>\",\"legendgroup\":\"Itapiuna\",\"marker\":{\"color\":\"#B6E880\",\"pattern\":{\"shape\":\"\"}},\"name\":\"Itapiuna\",\"offsetgroup\":\"Itapiuna\",\"orientation\":\"v\",\"showlegend\":true,\"textposition\":\"auto\",\"x\":[\"Ruim\",\"Ruim\",\"Ruim\",\"Ruim\",\"Ruim\",\"Ruim\",\"Razoavel\",\"Bom\"],\"xaxis\":\"x\",\"y\":[1,1,1,1,1,1,1,1],\"yaxis\":\"y\",\"type\":\"bar\"},{\"alignmentgroup\":\"True\",\"customdata\":[[6.0],[6.0],[6.0],[6.0],[6.0],[6.0],[6.0],[6.0]],\"hovertemplate\":\"Municipio=Mulungu<br>value=%{x}<br>count=%{y}<br>Indicador=%{customdata[0]}<extra></extra>\",\"legendgroup\":\"Mulungu\",\"marker\":{\"color\":\"#FF97FF\",\"pattern\":{\"shape\":\"\"}},\"name\":\"Mulungu\",\"offsetgroup\":\"Mulungu\",\"orientation\":\"v\",\"showlegend\":true,\"textposition\":\"auto\",\"x\":[\"Ruim\",\"Ruim\",\"Ruim\",\"Ruim\",\"Ruim\",\"Ruim\",\"Razoavel\",\"Razoavel\"],\"xaxis\":\"x\",\"y\":[1,1,1,1,1,1,1,1],\"yaxis\":\"y\",\"type\":\"bar\"},{\"alignmentgroup\":\"True\",\"customdata\":[[6.0],[6.0],[6.0],[6.0],[6.0],[6.0],[6.0],[6.0]],\"hovertemplate\":\"Municipio=Ocora<br>value=%{x}<br>count=%{y}<br>Indicador=%{customdata[0]}<extra></extra>\",\"legendgroup\":\"Ocora\",\"marker\":{\"color\":\"#FECB52\",\"pattern\":{\"shape\":\"\"}},\"name\":\"Ocora\",\"offsetgroup\":\"Ocora\",\"orientation\":\"v\",\"showlegend\":true,\"textposition\":\"auto\",\"x\":[\"Ruim\",\"Ruim\",\"Ruim\",\"Ruim\",\"Razoavel\",\"Razoavel\",\"Razoavel\",\"Bom\"],\"xaxis\":\"x\",\"y\":[1,1,1,1,1,1,1,1],\"yaxis\":\"y\",\"type\":\"bar\"},{\"alignmentgroup\":\"True\",\"customdata\":[[6.0],[6.0],[6.0],[6.0],[6.0],[6.0],[6.0],[6.0]],\"hovertemplate\":\"Municipio=Pacoti<br>value=%{x}<br>count=%{y}<br>Indicador=%{customdata[0]}<extra></extra>\",\"legendgroup\":\"Pacoti\",\"marker\":{\"color\":\"#636efa\",\"pattern\":{\"shape\":\"\"}},\"name\":\"Pacoti\",\"offsetgroup\":\"Pacoti\",\"orientation\":\"v\",\"showlegend\":true,\"textposition\":\"auto\",\"x\":[\"Ruim\",\"Ruim\",\"Ruim\",\"Ruim\",\"Ruim\",\"Ruim\",\"Ruim\",\"Razoavel\"],\"xaxis\":\"x\",\"y\":[1,1,1,1,1,1,1,1],\"yaxis\":\"y\",\"type\":\"bar\"},{\"alignmentgroup\":\"True\",\"customdata\":[[6.0],[6.0],[6.0],[6.0],[6.0],[6.0],[6.0],[6.0]],\"hovertemplate\":\"Municipio=Palmacia<br>value=%{x}<br>count=%{y}<br>Indicador=%{customdata[0]}<extra></extra>\",\"legendgroup\":\"Palmacia\",\"marker\":{\"color\":\"#EF553B\",\"pattern\":{\"shape\":\"\"}},\"name\":\"Palmacia\",\"offsetgroup\":\"Palmacia\",\"orientation\":\"v\",\"showlegend\":true,\"textposition\":\"auto\",\"x\":[\"Ruim\",\"Ruim\",\"Ruim\",\"Ruim\",\"Ruim\",\"Ruim\",\"Razoavel\",\"Bom\"],\"xaxis\":\"x\",\"y\":[1,1,1,1,1,1,1,1],\"yaxis\":\"y\",\"type\":\"bar\"},{\"alignmentgroup\":\"True\",\"customdata\":[[6.0],[6.0],[6.0],[6.0],[6.0],[6.0],[6.0],[6.0]],\"hovertemplate\":\"Municipio=Reden\\u00e7\\u00e3o<br>value=%{x}<br>count=%{y}<br>Indicador=%{customdata[0]}<extra></extra>\",\"legendgroup\":\"Reden\\u00e7\\u00e3o\",\"marker\":{\"color\":\"#00cc96\",\"pattern\":{\"shape\":\"\"}},\"name\":\"Reden\\u00e7\\u00e3o\",\"offsetgroup\":\"Reden\\u00e7\\u00e3o\",\"orientation\":\"v\",\"showlegend\":true,\"textposition\":\"auto\",\"x\":[\"Ruim\",\"Ruim\",\"Ruim\",\"Razoavel\",\"Bom\",\"Bom\",\"Bom\",\"Bom\"],\"xaxis\":\"x\",\"y\":[1,1,1,1,1,1,1,1],\"yaxis\":\"y\",\"type\":\"bar\"}],                        {\"template\":{\"data\":{\"histogram2dcontour\":[{\"type\":\"histogram2dcontour\",\"colorbar\":{\"outlinewidth\":0,\"ticks\":\"\"},\"colorscale\":[[0.0,\"#0d0887\"],[0.1111111111111111,\"#46039f\"],[0.2222222222222222,\"#7201a8\"],[0.3333333333333333,\"#9c179e\"],[0.4444444444444444,\"#bd3786\"],[0.5555555555555556,\"#d8576b\"],[0.6666666666666666,\"#ed7953\"],[0.7777777777777778,\"#fb9f3a\"],[0.8888888888888888,\"#fdca26\"],[1.0,\"#f0f921\"]]}],\"choropleth\":[{\"type\":\"choropleth\",\"colorbar\":{\"outlinewidth\":0,\"ticks\":\"\"}}],\"histogram2d\":[{\"type\":\"histogram2d\",\"colorbar\":{\"outlinewidth\":0,\"ticks\":\"\"},\"colorscale\":[[0.0,\"#0d0887\"],[0.1111111111111111,\"#46039f\"],[0.2222222222222222,\"#7201a8\"],[0.3333333333333333,\"#9c179e\"],[0.4444444444444444,\"#bd3786\"],[0.5555555555555556,\"#d8576b\"],[0.6666666666666666,\"#ed7953\"],[0.7777777777777778,\"#fb9f3a\"],[0.8888888888888888,\"#fdca26\"],[1.0,\"#f0f921\"]]}],\"heatmap\":[{\"type\":\"heatmap\",\"colorbar\":{\"outlinewidth\":0,\"ticks\":\"\"},\"colorscale\":[[0.0,\"#0d0887\"],[0.1111111111111111,\"#46039f\"],[0.2222222222222222,\"#7201a8\"],[0.3333333333333333,\"#9c179e\"],[0.4444444444444444,\"#bd3786\"],[0.5555555555555556,\"#d8576b\"],[0.6666666666666666,\"#ed7953\"],[0.7777777777777778,\"#fb9f3a\"],[0.8888888888888888,\"#fdca26\"],[1.0,\"#f0f921\"]]}],\"heatmapgl\":[{\"type\":\"heatmapgl\",\"colorbar\":{\"outlinewidth\":0,\"ticks\":\"\"},\"colorscale\":[[0.0,\"#0d0887\"],[0.1111111111111111,\"#46039f\"],[0.2222222222222222,\"#7201a8\"],[0.3333333333333333,\"#9c179e\"],[0.4444444444444444,\"#bd3786\"],[0.5555555555555556,\"#d8576b\"],[0.6666666666666666,\"#ed7953\"],[0.7777777777777778,\"#fb9f3a\"],[0.8888888888888888,\"#fdca26\"],[1.0,\"#f0f921\"]]}],\"contourcarpet\":[{\"type\":\"contourcarpet\",\"colorbar\":{\"outlinewidth\":0,\"ticks\":\"\"}}],\"contour\":[{\"type\":\"contour\",\"colorbar\":{\"outlinewidth\":0,\"ticks\":\"\"},\"colorscale\":[[0.0,\"#0d0887\"],[0.1111111111111111,\"#46039f\"],[0.2222222222222222,\"#7201a8\"],[0.3333333333333333,\"#9c179e\"],[0.4444444444444444,\"#bd3786\"],[0.5555555555555556,\"#d8576b\"],[0.6666666666666666,\"#ed7953\"],[0.7777777777777778,\"#fb9f3a\"],[0.8888888888888888,\"#fdca26\"],[1.0,\"#f0f921\"]]}],\"surface\":[{\"type\":\"surface\",\"colorbar\":{\"outlinewidth\":0,\"ticks\":\"\"},\"colorscale\":[[0.0,\"#0d0887\"],[0.1111111111111111,\"#46039f\"],[0.2222222222222222,\"#7201a8\"],[0.3333333333333333,\"#9c179e\"],[0.4444444444444444,\"#bd3786\"],[0.5555555555555556,\"#d8576b\"],[0.6666666666666666,\"#ed7953\"],[0.7777777777777778,\"#fb9f3a\"],[0.8888888888888888,\"#fdca26\"],[1.0,\"#f0f921\"]]}],\"mesh3d\":[{\"type\":\"mesh3d\",\"colorbar\":{\"outlinewidth\":0,\"ticks\":\"\"}}],\"scatter\":[{\"fillpattern\":{\"fillmode\":\"overlay\",\"size\":10,\"solidity\":0.2},\"type\":\"scatter\"}],\"parcoords\":[{\"type\":\"parcoords\",\"line\":{\"colorbar\":{\"outlinewidth\":0,\"ticks\":\"\"}}}],\"scatterpolargl\":[{\"type\":\"scatterpolargl\",\"marker\":{\"colorbar\":{\"outlinewidth\":0,\"ticks\":\"\"}}}],\"bar\":[{\"error_x\":{\"color\":\"#2a3f5f\"},\"error_y\":{\"color\":\"#2a3f5f\"},\"marker\":{\"line\":{\"color\":\"#E5ECF6\",\"width\":0.5},\"pattern\":{\"fillmode\":\"overlay\",\"size\":10,\"solidity\":0.2}},\"type\":\"bar\"}],\"scattergeo\":[{\"type\":\"scattergeo\",\"marker\":{\"colorbar\":{\"outlinewidth\":0,\"ticks\":\"\"}}}],\"scatterpolar\":[{\"type\":\"scatterpolar\",\"marker\":{\"colorbar\":{\"outlinewidth\":0,\"ticks\":\"\"}}}],\"histogram\":[{\"marker\":{\"pattern\":{\"fillmode\":\"overlay\",\"size\":10,\"solidity\":0.2}},\"type\":\"histogram\"}],\"scattergl\":[{\"type\":\"scattergl\",\"marker\":{\"colorbar\":{\"outlinewidth\":0,\"ticks\":\"\"}}}],\"scatter3d\":[{\"type\":\"scatter3d\",\"line\":{\"colorbar\":{\"outlinewidth\":0,\"ticks\":\"\"}},\"marker\":{\"colorbar\":{\"outlinewidth\":0,\"ticks\":\"\"}}}],\"scattermapbox\":[{\"type\":\"scattermapbox\",\"marker\":{\"colorbar\":{\"outlinewidth\":0,\"ticks\":\"\"}}}],\"scatterternary\":[{\"type\":\"scatterternary\",\"marker\":{\"colorbar\":{\"outlinewidth\":0,\"ticks\":\"\"}}}],\"scattercarpet\":[{\"type\":\"scattercarpet\",\"marker\":{\"colorbar\":{\"outlinewidth\":0,\"ticks\":\"\"}}}],\"carpet\":[{\"aaxis\":{\"endlinecolor\":\"#2a3f5f\",\"gridcolor\":\"white\",\"linecolor\":\"white\",\"minorgridcolor\":\"white\",\"startlinecolor\":\"#2a3f5f\"},\"baxis\":{\"endlinecolor\":\"#2a3f5f\",\"gridcolor\":\"white\",\"linecolor\":\"white\",\"minorgridcolor\":\"white\",\"startlinecolor\":\"#2a3f5f\"},\"type\":\"carpet\"}],\"table\":[{\"cells\":{\"fill\":{\"color\":\"#EBF0F8\"},\"line\":{\"color\":\"white\"}},\"header\":{\"fill\":{\"color\":\"#C8D4E3\"},\"line\":{\"color\":\"white\"}},\"type\":\"table\"}],\"barpolar\":[{\"marker\":{\"line\":{\"color\":\"#E5ECF6\",\"width\":0.5},\"pattern\":{\"fillmode\":\"overlay\",\"size\":10,\"solidity\":0.2}},\"type\":\"barpolar\"}],\"pie\":[{\"automargin\":true,\"type\":\"pie\"}]},\"layout\":{\"autotypenumbers\":\"strict\",\"colorway\":[\"#636efa\",\"#EF553B\",\"#00cc96\",\"#ab63fa\",\"#FFA15A\",\"#19d3f3\",\"#FF6692\",\"#B6E880\",\"#FF97FF\",\"#FECB52\"],\"font\":{\"color\":\"#2a3f5f\"},\"hovermode\":\"closest\",\"hoverlabel\":{\"align\":\"left\"},\"paper_bgcolor\":\"white\",\"plot_bgcolor\":\"#E5ECF6\",\"polar\":{\"bgcolor\":\"#E5ECF6\",\"angularaxis\":{\"gridcolor\":\"white\",\"linecolor\":\"white\",\"ticks\":\"\"},\"radialaxis\":{\"gridcolor\":\"white\",\"linecolor\":\"white\",\"ticks\":\"\"}},\"ternary\":{\"bgcolor\":\"#E5ECF6\",\"aaxis\":{\"gridcolor\":\"white\",\"linecolor\":\"white\",\"ticks\":\"\"},\"baxis\":{\"gridcolor\":\"white\",\"linecolor\":\"white\",\"ticks\":\"\"},\"caxis\":{\"gridcolor\":\"white\",\"linecolor\":\"white\",\"ticks\":\"\"}},\"coloraxis\":{\"colorbar\":{\"outlinewidth\":0,\"ticks\":\"\"}},\"colorscale\":{\"sequential\":[[0.0,\"#0d0887\"],[0.1111111111111111,\"#46039f\"],[0.2222222222222222,\"#7201a8\"],[0.3333333333333333,\"#9c179e\"],[0.4444444444444444,\"#bd3786\"],[0.5555555555555556,\"#d8576b\"],[0.6666666666666666,\"#ed7953\"],[0.7777777777777778,\"#fb9f3a\"],[0.8888888888888888,\"#fdca26\"],[1.0,\"#f0f921\"]],\"sequentialminus\":[[0.0,\"#0d0887\"],[0.1111111111111111,\"#46039f\"],[0.2222222222222222,\"#7201a8\"],[0.3333333333333333,\"#9c179e\"],[0.4444444444444444,\"#bd3786\"],[0.5555555555555556,\"#d8576b\"],[0.6666666666666666,\"#ed7953\"],[0.7777777777777778,\"#fb9f3a\"],[0.8888888888888888,\"#fdca26\"],[1.0,\"#f0f921\"]],\"diverging\":[[0,\"#8e0152\"],[0.1,\"#c51b7d\"],[0.2,\"#de77ae\"],[0.3,\"#f1b6da\"],[0.4,\"#fde0ef\"],[0.5,\"#f7f7f7\"],[0.6,\"#e6f5d0\"],[0.7,\"#b8e186\"],[0.8,\"#7fbc41\"],[0.9,\"#4d9221\"],[1,\"#276419\"]]},\"xaxis\":{\"gridcolor\":\"white\",\"linecolor\":\"white\",\"ticks\":\"\",\"title\":{\"standoff\":15},\"zerolinecolor\":\"white\",\"automargin\":true,\"zerolinewidth\":2},\"yaxis\":{\"gridcolor\":\"white\",\"linecolor\":\"white\",\"ticks\":\"\",\"title\":{\"standoff\":15},\"zerolinecolor\":\"white\",\"automargin\":true,\"zerolinewidth\":2},\"scene\":{\"xaxis\":{\"backgroundcolor\":\"#E5ECF6\",\"gridcolor\":\"white\",\"linecolor\":\"white\",\"showbackground\":true,\"ticks\":\"\",\"zerolinecolor\":\"white\",\"gridwidth\":2},\"yaxis\":{\"backgroundcolor\":\"#E5ECF6\",\"gridcolor\":\"white\",\"linecolor\":\"white\",\"showbackground\":true,\"ticks\":\"\",\"zerolinecolor\":\"white\",\"gridwidth\":2},\"zaxis\":{\"backgroundcolor\":\"#E5ECF6\",\"gridcolor\":\"white\",\"linecolor\":\"white\",\"showbackground\":true,\"ticks\":\"\",\"zerolinecolor\":\"white\",\"gridwidth\":2}},\"shapedefaults\":{\"line\":{\"color\":\"#2a3f5f\"}},\"annotationdefaults\":{\"arrowcolor\":\"#2a3f5f\",\"arrowhead\":0,\"arrowwidth\":1},\"geo\":{\"bgcolor\":\"white\",\"landcolor\":\"#E5ECF6\",\"subunitcolor\":\"white\",\"showland\":true,\"showlakes\":true,\"lakecolor\":\"white\"},\"title\":{\"x\":0.05},\"mapbox\":{\"style\":\"light\"}}},\"xaxis\":{\"anchor\":\"y\",\"domain\":[0.0,1.0],\"title\":{\"text\":\"Classifica\\u00e7\\u00f5es\"}},\"yaxis\":{\"anchor\":\"x\",\"domain\":[0.0,1.0],\"title\":{\"text\":\"2020 - 2022 (1 AO 2 Quadrimestre)\"}},\"legend\":{\"title\":{\"text\":\"Municipio\"},\"tracegroupgap\":0},\"margin\":{\"t\":60},\"barmode\":\"group\",\"title\":{\"text\":\"Analise de Desempenho do Maci\\u00e7o de Baturit\\u00e9 ( Classificas\\u00f5es )\"}},                        {\"responsive\": true}                    ).then(function(){\n",
              "                            \n",
              "var gd = document.getElementById('d5a7c625-84e0-4080-9ba1-6327d3ac1185');\n",
              "var x = new MutationObserver(function (mutations, observer) {{\n",
              "        var display = window.getComputedStyle(gd).display;\n",
              "        if (!display || display === 'none') {{\n",
              "            console.log([gd, 'removed!']);\n",
              "            Plotly.purge(gd);\n",
              "            observer.disconnect();\n",
              "        }}\n",
              "}});\n",
              "\n",
              "// Listen for the removal of the full notebook cells\n",
              "var notebookContainer = gd.closest('#notebook-container');\n",
              "if (notebookContainer) {{\n",
              "    x.observe(notebookContainer, {childList: true});\n",
              "}}\n",
              "\n",
              "// Listen for the clearing of the current output cell\n",
              "var outputEl = gd.closest('.output');\n",
              "if (outputEl) {{\n",
              "    x.observe(outputEl, {childList: true});\n",
              "}}\n",
              "\n",
              "                        })                };                            </script>        </div>\n",
              "</body>\n",
              "</html>"
            ]
          },
          "metadata": {}
        }
      ]
    },
    {
      "cell_type": "markdown",
      "source": [
        "## Indicador 7  \n",
        "  >7. 2020 até 2022 (1 ao 2 Quadrimestre)"
      ],
      "metadata": {
        "id": "QesbwvIES2Az"
      }
    },
    {
      "cell_type": "code",
      "source": [
        "indicador7 = bd.loc[bd['Indicador'] == 7]\n",
        "grafico = px.bar(indicador7,\n",
        "                  hover_data= ['Indicador'],\n",
        "                  color = 'Municipio'\n",
        "                 ,y=['Classificação','Classificação.1','Classificação.2','Classificação.3','Classificação.4','Classificação.5','Classificação.6','Classificação.7'],\n",
        "                 barmode ='group'\n",
        "                 )\n",
        "grafico.update_layout(title = 'Analise de Desempenho do Maciço de Baturité ( Classificasões )')\n",
        "grafico.update_xaxes(title = 'Classificações')\n",
        "grafico.update_yaxes(title ='2020 - 2022 (1 AO 2 Quadrimestre)' ) \n",
        "grafico.show()"
      ],
      "metadata": {
        "colab": {
          "base_uri": "https://localhost:8080/",
          "height": 542
        },
        "id": "J_VSwDz4S8PS",
        "outputId": "b924dc02-3358-450a-898a-24e0f005c714"
      },
      "execution_count": 131,
      "outputs": [
        {
          "output_type": "display_data",
          "data": {
            "text/html": [
              "<html>\n",
              "<head><meta charset=\"utf-8\" /></head>\n",
              "<body>\n",
              "    <div>            <script src=\"https://cdnjs.cloudflare.com/ajax/libs/mathjax/2.7.5/MathJax.js?config=TeX-AMS-MML_SVG\"></script><script type=\"text/javascript\">if (window.MathJax && window.MathJax.Hub && window.MathJax.Hub.Config) {window.MathJax.Hub.Config({SVG: {font: \"STIX-Web\"}});}</script>                <script type=\"text/javascript\">window.PlotlyConfig = {MathJaxConfig: 'local'};</script>\n",
              "        <script src=\"https://cdn.plot.ly/plotly-2.16.1.min.js\"></script>                <div id=\"a974ef81-c15d-47bf-8172-0139bbe87b7d\" class=\"plotly-graph-div\" style=\"height:525px; width:100%;\"></div>            <script type=\"text/javascript\">                                    window.PLOTLYENV=window.PLOTLYENV || {};                                    if (document.getElementById(\"a974ef81-c15d-47bf-8172-0139bbe87b7d\")) {                    Plotly.newPlot(                        \"a974ef81-c15d-47bf-8172-0139bbe87b7d\",                        [{\"alignmentgroup\":\"True\",\"customdata\":[[7.0],[7.0],[7.0],[7.0],[7.0],[7.0],[7.0],[7.0]],\"hovertemplate\":\"Municipio=Acarape<br>value=%{x}<br>count=%{y}<br>Indicador=%{customdata[0]}<extra></extra>\",\"legendgroup\":\"Acarape\",\"marker\":{\"color\":\"#636efa\",\"pattern\":{\"shape\":\"\"}},\"name\":\"Acarape\",\"offsetgroup\":\"Acarape\",\"orientation\":\"v\",\"showlegend\":true,\"textposition\":\"auto\",\"x\":[\"Ruim\",\"Ruim\",\"Razoavel\",\"Razoavel\",\"Razoavel\",\"Razoavel\",\"Ruim\",\"Ruim\"],\"xaxis\":\"x\",\"y\":[1,1,1,1,1,1,1,1],\"yaxis\":\"y\",\"type\":\"bar\"},{\"alignmentgroup\":\"True\",\"customdata\":[[7.0],[7.0],[7.0],[7.0],[7.0],[7.0],[7.0],[7.0]],\"hovertemplate\":\"Municipio=Aracoiaba<br>value=%{x}<br>count=%{y}<br>Indicador=%{customdata[0]}<extra></extra>\",\"legendgroup\":\"Aracoiaba\",\"marker\":{\"color\":\"#EF553B\",\"pattern\":{\"shape\":\"\"}},\"name\":\"Aracoiaba\",\"offsetgroup\":\"Aracoiaba\",\"orientation\":\"v\",\"showlegend\":true,\"textposition\":\"auto\",\"x\":[\"Ruim\",\"Ruim\",\"Bom\",\"Bom\",\"Bom\",\"Razoavel\",\"Ruim\",\"Ruim\"],\"xaxis\":\"x\",\"y\":[1,1,1,1,1,1,1,1],\"yaxis\":\"y\",\"type\":\"bar\"},{\"alignmentgroup\":\"True\",\"customdata\":[[7.0],[7.0],[7.0],[7.0],[7.0],[7.0],[7.0],[7.0]],\"hovertemplate\":\"Municipio=Aratuba<br>value=%{x}<br>count=%{y}<br>Indicador=%{customdata[0]}<extra></extra>\",\"legendgroup\":\"Aratuba\",\"marker\":{\"color\":\"#00cc96\",\"pattern\":{\"shape\":\"\"}},\"name\":\"Aratuba\",\"offsetgroup\":\"Aratuba\",\"orientation\":\"v\",\"showlegend\":true,\"textposition\":\"auto\",\"x\":[\"Ruim\",\"Ruim\",\"Ruim\",\"Ruim\",\"Ruim\",\"Razoavel\",\"Ruim\",\"Razoavel\"],\"xaxis\":\"x\",\"y\":[1,1,1,1,1,1,1,1],\"yaxis\":\"y\",\"type\":\"bar\"},{\"alignmentgroup\":\"True\",\"customdata\":[[7.0],[7.0],[7.0],[7.0],[7.0],[7.0],[7.0],[7.0]],\"hovertemplate\":\"Municipio=Barreira<br>value=%{x}<br>count=%{y}<br>Indicador=%{customdata[0]}<extra></extra>\",\"legendgroup\":\"Barreira\",\"marker\":{\"color\":\"#ab63fa\",\"pattern\":{\"shape\":\"\"}},\"name\":\"Barreira\",\"offsetgroup\":\"Barreira\",\"orientation\":\"v\",\"showlegend\":true,\"textposition\":\"auto\",\"x\":[\"Ruim\",\"Razoavel\",\"Bom\",\"Bom\",\"Bom\",\"Bom\",\"Ruim\",\"Ruim\"],\"xaxis\":\"x\",\"y\":[1,1,1,1,1,1,1,1],\"yaxis\":\"y\",\"type\":\"bar\"},{\"alignmentgroup\":\"True\",\"customdata\":[[7.0],[7.0],[7.0],[7.0],[7.0],[7.0],[7.0],[7.0]],\"hovertemplate\":\"Municipio=Baturite<br>value=%{x}<br>count=%{y}<br>Indicador=%{customdata[0]}<extra></extra>\",\"legendgroup\":\"Baturite\",\"marker\":{\"color\":\"#FFA15A\",\"pattern\":{\"shape\":\"\"}},\"name\":\"Baturite\",\"offsetgroup\":\"Baturite\",\"orientation\":\"v\",\"showlegend\":true,\"textposition\":\"auto\",\"x\":[\"Ruim\",\"Ruim\",\"Ruim\",\"Ruim\",\"Ruim\",\"Ruim\",\"Ruim\",\"Otimo\"],\"xaxis\":\"x\",\"y\":[1,1,1,1,1,1,1,1],\"yaxis\":\"y\",\"type\":\"bar\"},{\"alignmentgroup\":\"True\",\"customdata\":[[7.0],[7.0],[7.0],[7.0],[7.0],[7.0],[7.0],[7.0]],\"hovertemplate\":\"Municipio=Capistrano<br>value=%{x}<br>count=%{y}<br>Indicador=%{customdata[0]}<extra></extra>\",\"legendgroup\":\"Capistrano\",\"marker\":{\"color\":\"#19d3f3\",\"pattern\":{\"shape\":\"\"}},\"name\":\"Capistrano\",\"offsetgroup\":\"Capistrano\",\"orientation\":\"v\",\"showlegend\":true,\"textposition\":\"auto\",\"x\":[\"Ruim\",\"Ruim\",\"Razoavel\",\"Razoavel\",\"Bom\",\"Bom\",\"Ruim\",\"Bom\"],\"xaxis\":\"x\",\"y\":[1,1,1,1,1,1,1,1],\"yaxis\":\"y\",\"type\":\"bar\"},{\"alignmentgroup\":\"True\",\"customdata\":[[7.0],[7.0],[7.0],[7.0],[7.0],[7.0],[7.0],[7.0]],\"hovertemplate\":\"Municipio=Guaramiranga<br>value=%{x}<br>count=%{y}<br>Indicador=%{customdata[0]}<extra></extra>\",\"legendgroup\":\"Guaramiranga\",\"marker\":{\"color\":\"#FF6692\",\"pattern\":{\"shape\":\"\"}},\"name\":\"Guaramiranga\",\"offsetgroup\":\"Guaramiranga\",\"orientation\":\"v\",\"showlegend\":true,\"textposition\":\"auto\",\"x\":[\"Ruim\",\"Ruim\",\"Ruim\",\"Bom\",\"Otimo\",\"Otimo\",\"Razoavel\",\"Otimo\"],\"xaxis\":\"x\",\"y\":[1,1,1,1,1,1,1,1],\"yaxis\":\"y\",\"type\":\"bar\"},{\"alignmentgroup\":\"True\",\"customdata\":[[7.0],[7.0],[7.0],[7.0],[7.0],[7.0],[7.0],[7.0]],\"hovertemplate\":\"Municipio=Itapiuna<br>value=%{x}<br>count=%{y}<br>Indicador=%{customdata[0]}<extra></extra>\",\"legendgroup\":\"Itapiuna\",\"marker\":{\"color\":\"#B6E880\",\"pattern\":{\"shape\":\"\"}},\"name\":\"Itapiuna\",\"offsetgroup\":\"Itapiuna\",\"orientation\":\"v\",\"showlegend\":true,\"textposition\":\"auto\",\"x\":[\"Ruim\",\"Ruim\",\"Ruim\",\"Ruim\",\"Ruim\",\"Ruim\",\"Ruim\",\"Razoavel\"],\"xaxis\":\"x\",\"y\":[1,1,1,1,1,1,1,1],\"yaxis\":\"y\",\"type\":\"bar\"},{\"alignmentgroup\":\"True\",\"customdata\":[[7.0],[7.0],[7.0],[7.0],[7.0],[7.0],[7.0],[7.0]],\"hovertemplate\":\"Municipio=Mulungu<br>value=%{x}<br>count=%{y}<br>Indicador=%{customdata[0]}<extra></extra>\",\"legendgroup\":\"Mulungu\",\"marker\":{\"color\":\"#FF97FF\",\"pattern\":{\"shape\":\"\"}},\"name\":\"Mulungu\",\"offsetgroup\":\"Mulungu\",\"orientation\":\"v\",\"showlegend\":true,\"textposition\":\"auto\",\"x\":[\"Ruim\",\"Ruim\",\"Ruim\",\"Ruim\",\"Razoavel\",\"Bom\",\"Ruim\",\"Razoavel\"],\"xaxis\":\"x\",\"y\":[1,1,1,1,1,1,1,1],\"yaxis\":\"y\",\"type\":\"bar\"},{\"alignmentgroup\":\"True\",\"customdata\":[[7.0],[7.0],[7.0],[7.0],[7.0],[7.0],[7.0],[7.0]],\"hovertemplate\":\"Municipio=Ocora<br>value=%{x}<br>count=%{y}<br>Indicador=%{customdata[0]}<extra></extra>\",\"legendgroup\":\"Ocora\",\"marker\":{\"color\":\"#FECB52\",\"pattern\":{\"shape\":\"\"}},\"name\":\"Ocora\",\"offsetgroup\":\"Ocora\",\"orientation\":\"v\",\"showlegend\":true,\"textposition\":\"auto\",\"x\":[\"Ruim\",\"Ruim\",\"Ruim\",\"Ruim\",\"Razoavel\",\"Razoavel\",\"Ruim\",\"Bom\"],\"xaxis\":\"x\",\"y\":[1,1,1,1,1,1,1,1],\"yaxis\":\"y\",\"type\":\"bar\"},{\"alignmentgroup\":\"True\",\"customdata\":[[7.0],[7.0],[7.0],[7.0],[7.0],[7.0],[7.0],[7.0]],\"hovertemplate\":\"Municipio=Pacoti<br>value=%{x}<br>count=%{y}<br>Indicador=%{customdata[0]}<extra></extra>\",\"legendgroup\":\"Pacoti\",\"marker\":{\"color\":\"#636efa\",\"pattern\":{\"shape\":\"\"}},\"name\":\"Pacoti\",\"offsetgroup\":\"Pacoti\",\"orientation\":\"v\",\"showlegend\":true,\"textposition\":\"auto\",\"x\":[\"Ruim\",\"Ruim\",\"Ruim\",\"Razoavel\",\"Bom\",\"Otimo\",\"Razoavel\",\"Razoavel\"],\"xaxis\":\"x\",\"y\":[1,1,1,1,1,1,1,1],\"yaxis\":\"y\",\"type\":\"bar\"},{\"alignmentgroup\":\"True\",\"customdata\":[[7.0],[7.0],[7.0],[7.0],[7.0],[7.0],[7.0],[7.0]],\"hovertemplate\":\"Municipio=Palmacia<br>value=%{x}<br>count=%{y}<br>Indicador=%{customdata[0]}<extra></extra>\",\"legendgroup\":\"Palmacia\",\"marker\":{\"color\":\"#EF553B\",\"pattern\":{\"shape\":\"\"}},\"name\":\"Palmacia\",\"offsetgroup\":\"Palmacia\",\"orientation\":\"v\",\"showlegend\":true,\"textposition\":\"auto\",\"x\":[\"Ruim\",\"Ruim\",\"Ruim\",\"Ruim\",\"Razoavel\",\"Razoavel\",\"Ruim\",\"Bom\"],\"xaxis\":\"x\",\"y\":[1,1,1,1,1,1,1,1],\"yaxis\":\"y\",\"type\":\"bar\"},{\"alignmentgroup\":\"True\",\"customdata\":[[7.0],[7.0],[7.0],[7.0],[7.0],[7.0],[7.0],[7.0]],\"hovertemplate\":\"Municipio=Reden\\u00e7\\u00e3o<br>value=%{x}<br>count=%{y}<br>Indicador=%{customdata[0]}<extra></extra>\",\"legendgroup\":\"Reden\\u00e7\\u00e3o\",\"marker\":{\"color\":\"#00cc96\",\"pattern\":{\"shape\":\"\"}},\"name\":\"Reden\\u00e7\\u00e3o\",\"offsetgroup\":\"Reden\\u00e7\\u00e3o\",\"orientation\":\"v\",\"showlegend\":true,\"textposition\":\"auto\",\"x\":[\"Ruim\",\"Ruim\",\"Razoavel\",\"Bom\",\"Bom\",\"Otimo\",\"Razoavel\",\"Bom\"],\"xaxis\":\"x\",\"y\":[1,1,1,1,1,1,1,1],\"yaxis\":\"y\",\"type\":\"bar\"}],                        {\"template\":{\"data\":{\"histogram2dcontour\":[{\"type\":\"histogram2dcontour\",\"colorbar\":{\"outlinewidth\":0,\"ticks\":\"\"},\"colorscale\":[[0.0,\"#0d0887\"],[0.1111111111111111,\"#46039f\"],[0.2222222222222222,\"#7201a8\"],[0.3333333333333333,\"#9c179e\"],[0.4444444444444444,\"#bd3786\"],[0.5555555555555556,\"#d8576b\"],[0.6666666666666666,\"#ed7953\"],[0.7777777777777778,\"#fb9f3a\"],[0.8888888888888888,\"#fdca26\"],[1.0,\"#f0f921\"]]}],\"choropleth\":[{\"type\":\"choropleth\",\"colorbar\":{\"outlinewidth\":0,\"ticks\":\"\"}}],\"histogram2d\":[{\"type\":\"histogram2d\",\"colorbar\":{\"outlinewidth\":0,\"ticks\":\"\"},\"colorscale\":[[0.0,\"#0d0887\"],[0.1111111111111111,\"#46039f\"],[0.2222222222222222,\"#7201a8\"],[0.3333333333333333,\"#9c179e\"],[0.4444444444444444,\"#bd3786\"],[0.5555555555555556,\"#d8576b\"],[0.6666666666666666,\"#ed7953\"],[0.7777777777777778,\"#fb9f3a\"],[0.8888888888888888,\"#fdca26\"],[1.0,\"#f0f921\"]]}],\"heatmap\":[{\"type\":\"heatmap\",\"colorbar\":{\"outlinewidth\":0,\"ticks\":\"\"},\"colorscale\":[[0.0,\"#0d0887\"],[0.1111111111111111,\"#46039f\"],[0.2222222222222222,\"#7201a8\"],[0.3333333333333333,\"#9c179e\"],[0.4444444444444444,\"#bd3786\"],[0.5555555555555556,\"#d8576b\"],[0.6666666666666666,\"#ed7953\"],[0.7777777777777778,\"#fb9f3a\"],[0.8888888888888888,\"#fdca26\"],[1.0,\"#f0f921\"]]}],\"heatmapgl\":[{\"type\":\"heatmapgl\",\"colorbar\":{\"outlinewidth\":0,\"ticks\":\"\"},\"colorscale\":[[0.0,\"#0d0887\"],[0.1111111111111111,\"#46039f\"],[0.2222222222222222,\"#7201a8\"],[0.3333333333333333,\"#9c179e\"],[0.4444444444444444,\"#bd3786\"],[0.5555555555555556,\"#d8576b\"],[0.6666666666666666,\"#ed7953\"],[0.7777777777777778,\"#fb9f3a\"],[0.8888888888888888,\"#fdca26\"],[1.0,\"#f0f921\"]]}],\"contourcarpet\":[{\"type\":\"contourcarpet\",\"colorbar\":{\"outlinewidth\":0,\"ticks\":\"\"}}],\"contour\":[{\"type\":\"contour\",\"colorbar\":{\"outlinewidth\":0,\"ticks\":\"\"},\"colorscale\":[[0.0,\"#0d0887\"],[0.1111111111111111,\"#46039f\"],[0.2222222222222222,\"#7201a8\"],[0.3333333333333333,\"#9c179e\"],[0.4444444444444444,\"#bd3786\"],[0.5555555555555556,\"#d8576b\"],[0.6666666666666666,\"#ed7953\"],[0.7777777777777778,\"#fb9f3a\"],[0.8888888888888888,\"#fdca26\"],[1.0,\"#f0f921\"]]}],\"surface\":[{\"type\":\"surface\",\"colorbar\":{\"outlinewidth\":0,\"ticks\":\"\"},\"colorscale\":[[0.0,\"#0d0887\"],[0.1111111111111111,\"#46039f\"],[0.2222222222222222,\"#7201a8\"],[0.3333333333333333,\"#9c179e\"],[0.4444444444444444,\"#bd3786\"],[0.5555555555555556,\"#d8576b\"],[0.6666666666666666,\"#ed7953\"],[0.7777777777777778,\"#fb9f3a\"],[0.8888888888888888,\"#fdca26\"],[1.0,\"#f0f921\"]]}],\"mesh3d\":[{\"type\":\"mesh3d\",\"colorbar\":{\"outlinewidth\":0,\"ticks\":\"\"}}],\"scatter\":[{\"fillpattern\":{\"fillmode\":\"overlay\",\"size\":10,\"solidity\":0.2},\"type\":\"scatter\"}],\"parcoords\":[{\"type\":\"parcoords\",\"line\":{\"colorbar\":{\"outlinewidth\":0,\"ticks\":\"\"}}}],\"scatterpolargl\":[{\"type\":\"scatterpolargl\",\"marker\":{\"colorbar\":{\"outlinewidth\":0,\"ticks\":\"\"}}}],\"bar\":[{\"error_x\":{\"color\":\"#2a3f5f\"},\"error_y\":{\"color\":\"#2a3f5f\"},\"marker\":{\"line\":{\"color\":\"#E5ECF6\",\"width\":0.5},\"pattern\":{\"fillmode\":\"overlay\",\"size\":10,\"solidity\":0.2}},\"type\":\"bar\"}],\"scattergeo\":[{\"type\":\"scattergeo\",\"marker\":{\"colorbar\":{\"outlinewidth\":0,\"ticks\":\"\"}}}],\"scatterpolar\":[{\"type\":\"scatterpolar\",\"marker\":{\"colorbar\":{\"outlinewidth\":0,\"ticks\":\"\"}}}],\"histogram\":[{\"marker\":{\"pattern\":{\"fillmode\":\"overlay\",\"size\":10,\"solidity\":0.2}},\"type\":\"histogram\"}],\"scattergl\":[{\"type\":\"scattergl\",\"marker\":{\"colorbar\":{\"outlinewidth\":0,\"ticks\":\"\"}}}],\"scatter3d\":[{\"type\":\"scatter3d\",\"line\":{\"colorbar\":{\"outlinewidth\":0,\"ticks\":\"\"}},\"marker\":{\"colorbar\":{\"outlinewidth\":0,\"ticks\":\"\"}}}],\"scattermapbox\":[{\"type\":\"scattermapbox\",\"marker\":{\"colorbar\":{\"outlinewidth\":0,\"ticks\":\"\"}}}],\"scatterternary\":[{\"type\":\"scatterternary\",\"marker\":{\"colorbar\":{\"outlinewidth\":0,\"ticks\":\"\"}}}],\"scattercarpet\":[{\"type\":\"scattercarpet\",\"marker\":{\"colorbar\":{\"outlinewidth\":0,\"ticks\":\"\"}}}],\"carpet\":[{\"aaxis\":{\"endlinecolor\":\"#2a3f5f\",\"gridcolor\":\"white\",\"linecolor\":\"white\",\"minorgridcolor\":\"white\",\"startlinecolor\":\"#2a3f5f\"},\"baxis\":{\"endlinecolor\":\"#2a3f5f\",\"gridcolor\":\"white\",\"linecolor\":\"white\",\"minorgridcolor\":\"white\",\"startlinecolor\":\"#2a3f5f\"},\"type\":\"carpet\"}],\"table\":[{\"cells\":{\"fill\":{\"color\":\"#EBF0F8\"},\"line\":{\"color\":\"white\"}},\"header\":{\"fill\":{\"color\":\"#C8D4E3\"},\"line\":{\"color\":\"white\"}},\"type\":\"table\"}],\"barpolar\":[{\"marker\":{\"line\":{\"color\":\"#E5ECF6\",\"width\":0.5},\"pattern\":{\"fillmode\":\"overlay\",\"size\":10,\"solidity\":0.2}},\"type\":\"barpolar\"}],\"pie\":[{\"automargin\":true,\"type\":\"pie\"}]},\"layout\":{\"autotypenumbers\":\"strict\",\"colorway\":[\"#636efa\",\"#EF553B\",\"#00cc96\",\"#ab63fa\",\"#FFA15A\",\"#19d3f3\",\"#FF6692\",\"#B6E880\",\"#FF97FF\",\"#FECB52\"],\"font\":{\"color\":\"#2a3f5f\"},\"hovermode\":\"closest\",\"hoverlabel\":{\"align\":\"left\"},\"paper_bgcolor\":\"white\",\"plot_bgcolor\":\"#E5ECF6\",\"polar\":{\"bgcolor\":\"#E5ECF6\",\"angularaxis\":{\"gridcolor\":\"white\",\"linecolor\":\"white\",\"ticks\":\"\"},\"radialaxis\":{\"gridcolor\":\"white\",\"linecolor\":\"white\",\"ticks\":\"\"}},\"ternary\":{\"bgcolor\":\"#E5ECF6\",\"aaxis\":{\"gridcolor\":\"white\",\"linecolor\":\"white\",\"ticks\":\"\"},\"baxis\":{\"gridcolor\":\"white\",\"linecolor\":\"white\",\"ticks\":\"\"},\"caxis\":{\"gridcolor\":\"white\",\"linecolor\":\"white\",\"ticks\":\"\"}},\"coloraxis\":{\"colorbar\":{\"outlinewidth\":0,\"ticks\":\"\"}},\"colorscale\":{\"sequential\":[[0.0,\"#0d0887\"],[0.1111111111111111,\"#46039f\"],[0.2222222222222222,\"#7201a8\"],[0.3333333333333333,\"#9c179e\"],[0.4444444444444444,\"#bd3786\"],[0.5555555555555556,\"#d8576b\"],[0.6666666666666666,\"#ed7953\"],[0.7777777777777778,\"#fb9f3a\"],[0.8888888888888888,\"#fdca26\"],[1.0,\"#f0f921\"]],\"sequentialminus\":[[0.0,\"#0d0887\"],[0.1111111111111111,\"#46039f\"],[0.2222222222222222,\"#7201a8\"],[0.3333333333333333,\"#9c179e\"],[0.4444444444444444,\"#bd3786\"],[0.5555555555555556,\"#d8576b\"],[0.6666666666666666,\"#ed7953\"],[0.7777777777777778,\"#fb9f3a\"],[0.8888888888888888,\"#fdca26\"],[1.0,\"#f0f921\"]],\"diverging\":[[0,\"#8e0152\"],[0.1,\"#c51b7d\"],[0.2,\"#de77ae\"],[0.3,\"#f1b6da\"],[0.4,\"#fde0ef\"],[0.5,\"#f7f7f7\"],[0.6,\"#e6f5d0\"],[0.7,\"#b8e186\"],[0.8,\"#7fbc41\"],[0.9,\"#4d9221\"],[1,\"#276419\"]]},\"xaxis\":{\"gridcolor\":\"white\",\"linecolor\":\"white\",\"ticks\":\"\",\"title\":{\"standoff\":15},\"zerolinecolor\":\"white\",\"automargin\":true,\"zerolinewidth\":2},\"yaxis\":{\"gridcolor\":\"white\",\"linecolor\":\"white\",\"ticks\":\"\",\"title\":{\"standoff\":15},\"zerolinecolor\":\"white\",\"automargin\":true,\"zerolinewidth\":2},\"scene\":{\"xaxis\":{\"backgroundcolor\":\"#E5ECF6\",\"gridcolor\":\"white\",\"linecolor\":\"white\",\"showbackground\":true,\"ticks\":\"\",\"zerolinecolor\":\"white\",\"gridwidth\":2},\"yaxis\":{\"backgroundcolor\":\"#E5ECF6\",\"gridcolor\":\"white\",\"linecolor\":\"white\",\"showbackground\":true,\"ticks\":\"\",\"zerolinecolor\":\"white\",\"gridwidth\":2},\"zaxis\":{\"backgroundcolor\":\"#E5ECF6\",\"gridcolor\":\"white\",\"linecolor\":\"white\",\"showbackground\":true,\"ticks\":\"\",\"zerolinecolor\":\"white\",\"gridwidth\":2}},\"shapedefaults\":{\"line\":{\"color\":\"#2a3f5f\"}},\"annotationdefaults\":{\"arrowcolor\":\"#2a3f5f\",\"arrowhead\":0,\"arrowwidth\":1},\"geo\":{\"bgcolor\":\"white\",\"landcolor\":\"#E5ECF6\",\"subunitcolor\":\"white\",\"showland\":true,\"showlakes\":true,\"lakecolor\":\"white\"},\"title\":{\"x\":0.05},\"mapbox\":{\"style\":\"light\"}}},\"xaxis\":{\"anchor\":\"y\",\"domain\":[0.0,1.0],\"title\":{\"text\":\"Classifica\\u00e7\\u00f5es\"}},\"yaxis\":{\"anchor\":\"x\",\"domain\":[0.0,1.0],\"title\":{\"text\":\"2020 - 2022 (1 AO 2 Quadrimestre)\"}},\"legend\":{\"title\":{\"text\":\"Municipio\"},\"tracegroupgap\":0},\"margin\":{\"t\":60},\"barmode\":\"group\",\"title\":{\"text\":\"Analise de Desempenho do Maci\\u00e7o de Baturit\\u00e9 ( Classificas\\u00f5es )\"}},                        {\"responsive\": true}                    ).then(function(){\n",
              "                            \n",
              "var gd = document.getElementById('a974ef81-c15d-47bf-8172-0139bbe87b7d');\n",
              "var x = new MutationObserver(function (mutations, observer) {{\n",
              "        var display = window.getComputedStyle(gd).display;\n",
              "        if (!display || display === 'none') {{\n",
              "            console.log([gd, 'removed!']);\n",
              "            Plotly.purge(gd);\n",
              "            observer.disconnect();\n",
              "        }}\n",
              "}});\n",
              "\n",
              "// Listen for the removal of the full notebook cells\n",
              "var notebookContainer = gd.closest('#notebook-container');\n",
              "if (notebookContainer) {{\n",
              "    x.observe(notebookContainer, {childList: true});\n",
              "}}\n",
              "\n",
              "// Listen for the clearing of the current output cell\n",
              "var outputEl = gd.closest('.output');\n",
              "if (outputEl) {{\n",
              "    x.observe(outputEl, {childList: true});\n",
              "}}\n",
              "\n",
              "                        })                };                            </script>        </div>\n",
              "</body>\n",
              "</html>"
            ]
          },
          "metadata": {}
        }
      ]
    },
    {
      "cell_type": "code",
      "source": [],
      "metadata": {
        "id": "aQic2ATeTPkK"
      },
      "execution_count": null,
      "outputs": []
    }
  ]
}